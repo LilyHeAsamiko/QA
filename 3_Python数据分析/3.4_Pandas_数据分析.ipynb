{
 "cells": [
  {
   "cell_type": "markdown",
   "metadata": {},
   "source": [
    "# Pandas 数据分析\n",
    "---"
   ]
  },
  {
   "cell_type": "markdown",
   "metadata": {},
   "source": [
    "#### 课程内容\n",
    "\n",
    "1. DataFrame 分组操作\n",
    "2. DataFrame 合并操作\n",
    "3. DataFrame 层次化索引"
   ]
  },
  {
   "cell_type": "markdown",
   "metadata": {},
   "source": [
    "---\n",
    "### 1. DataFrame 分组操作"
   ]
  },
  {
   "cell_type": "markdown",
   "metadata": {
    "slideshow": {
     "slide_type": "subslide"
    }
   },
   "source": [
    "#### 1.1 GroupBy 对象"
   ]
  },
  {
   "cell_type": "code",
   "execution_count": 1,
   "metadata": {},
   "outputs": [],
   "source": [
    "import numpy as np\n",
    "import pandas as pd"
   ]
  },
  {
   "cell_type": "code",
   "execution_count": 2,
   "metadata": {
    "uuid": "68e8d73f-93d3-47ac-a656-1edbdebcd1ff"
   },
   "outputs": [],
   "source": [
    "stock_info = pd.DataFrame(\n",
    "                  [['600804', '鹏博士', 30.87, '电信运营', 249, '上证'],\n",
    "                   ['002467', '二六三', 71.47, '电信运营', 48.3, '深证'],\n",
    "                   ['002093', '国脉科技', 70.99, '电信运营', 90.5, '深证'],\n",
    "                   ['601601', '中国太保', 24.74, '保险', 2500, '上证'],\n",
    "                   ['600050', '中国联通', 120.12, '电信运营', 1473, '上证'],\n",
    "                   ['601318', '中国平安', 15.80, '保险', 8280, '上证'],\n",
    "                   ['601528', '中国人寿', 24.44, '保险', 6441, '上证'],\n",
    "                   ['300383', '光环新网', 44.01, '电信运营', 180, '创业板'],\n",
    "                   ['601336', '新华保险', 27.82, '保险', 1250, '上证'],\n",
    "                   ['600291', '西水股份', 8.64, '保险', 257, '上证'],\n",
    "                   ['000627', '天茂集团', 37.77, '保险', 116, '上证']\n",
    "                  ],\n",
    "                  columns=['code', 'name', 'pe', 'industry', 'tradable_value','market'],\n",
    "                  )"
   ]
  },
  {
   "cell_type": "code",
   "execution_count": 3,
   "metadata": {
    "uuid": "a80e1e88-d211-4ee4-a6d3-90403a7739a8"
   },
   "outputs": [
    {
     "data": {
      "text/html": [
       "<div>\n",
       "<style scoped>\n",
       "    .dataframe tbody tr th:only-of-type {\n",
       "        vertical-align: middle;\n",
       "    }\n",
       "\n",
       "    .dataframe tbody tr th {\n",
       "        vertical-align: top;\n",
       "    }\n",
       "\n",
       "    .dataframe thead th {\n",
       "        text-align: right;\n",
       "    }\n",
       "</style>\n",
       "<table border=\"1\" class=\"dataframe\">\n",
       "  <thead>\n",
       "    <tr style=\"text-align: right;\">\n",
       "      <th></th>\n",
       "      <th>code</th>\n",
       "      <th>name</th>\n",
       "      <th>pe</th>\n",
       "      <th>industry</th>\n",
       "      <th>tradable_value</th>\n",
       "      <th>market</th>\n",
       "    </tr>\n",
       "  </thead>\n",
       "  <tbody>\n",
       "    <tr>\n",
       "      <th>0</th>\n",
       "      <td>600804</td>\n",
       "      <td>鹏博士</td>\n",
       "      <td>30.87</td>\n",
       "      <td>电信运营</td>\n",
       "      <td>249.0</td>\n",
       "      <td>上证</td>\n",
       "    </tr>\n",
       "    <tr>\n",
       "      <th>1</th>\n",
       "      <td>002467</td>\n",
       "      <td>二六三</td>\n",
       "      <td>71.47</td>\n",
       "      <td>电信运营</td>\n",
       "      <td>48.3</td>\n",
       "      <td>深证</td>\n",
       "    </tr>\n",
       "    <tr>\n",
       "      <th>2</th>\n",
       "      <td>002093</td>\n",
       "      <td>国脉科技</td>\n",
       "      <td>70.99</td>\n",
       "      <td>电信运营</td>\n",
       "      <td>90.5</td>\n",
       "      <td>深证</td>\n",
       "    </tr>\n",
       "    <tr>\n",
       "      <th>3</th>\n",
       "      <td>601601</td>\n",
       "      <td>中国太保</td>\n",
       "      <td>24.74</td>\n",
       "      <td>保险</td>\n",
       "      <td>2500.0</td>\n",
       "      <td>上证</td>\n",
       "    </tr>\n",
       "    <tr>\n",
       "      <th>4</th>\n",
       "      <td>600050</td>\n",
       "      <td>中国联通</td>\n",
       "      <td>120.12</td>\n",
       "      <td>电信运营</td>\n",
       "      <td>1473.0</td>\n",
       "      <td>上证</td>\n",
       "    </tr>\n",
       "    <tr>\n",
       "      <th>5</th>\n",
       "      <td>601318</td>\n",
       "      <td>中国平安</td>\n",
       "      <td>15.80</td>\n",
       "      <td>保险</td>\n",
       "      <td>8280.0</td>\n",
       "      <td>上证</td>\n",
       "    </tr>\n",
       "    <tr>\n",
       "      <th>6</th>\n",
       "      <td>601528</td>\n",
       "      <td>中国人寿</td>\n",
       "      <td>24.44</td>\n",
       "      <td>保险</td>\n",
       "      <td>6441.0</td>\n",
       "      <td>上证</td>\n",
       "    </tr>\n",
       "    <tr>\n",
       "      <th>7</th>\n",
       "      <td>300383</td>\n",
       "      <td>光环新网</td>\n",
       "      <td>44.01</td>\n",
       "      <td>电信运营</td>\n",
       "      <td>180.0</td>\n",
       "      <td>创业板</td>\n",
       "    </tr>\n",
       "    <tr>\n",
       "      <th>8</th>\n",
       "      <td>601336</td>\n",
       "      <td>新华保险</td>\n",
       "      <td>27.82</td>\n",
       "      <td>保险</td>\n",
       "      <td>1250.0</td>\n",
       "      <td>上证</td>\n",
       "    </tr>\n",
       "    <tr>\n",
       "      <th>9</th>\n",
       "      <td>600291</td>\n",
       "      <td>西水股份</td>\n",
       "      <td>8.64</td>\n",
       "      <td>保险</td>\n",
       "      <td>257.0</td>\n",
       "      <td>上证</td>\n",
       "    </tr>\n",
       "    <tr>\n",
       "      <th>10</th>\n",
       "      <td>000627</td>\n",
       "      <td>天茂集团</td>\n",
       "      <td>37.77</td>\n",
       "      <td>保险</td>\n",
       "      <td>116.0</td>\n",
       "      <td>上证</td>\n",
       "    </tr>\n",
       "  </tbody>\n",
       "</table>\n",
       "</div>"
      ],
      "text/plain": [
       "      code  name      pe industry  tradable_value market\n",
       "0   600804   鹏博士   30.87     电信运营           249.0     上证\n",
       "1   002467   二六三   71.47     电信运营            48.3     深证\n",
       "2   002093  国脉科技   70.99     电信运营            90.5     深证\n",
       "3   601601  中国太保   24.74       保险          2500.0     上证\n",
       "4   600050  中国联通  120.12     电信运营          1473.0     上证\n",
       "5   601318  中国平安   15.80       保险          8280.0     上证\n",
       "6   601528  中国人寿   24.44       保险          6441.0     上证\n",
       "7   300383  光环新网   44.01     电信运营           180.0    创业板\n",
       "8   601336  新华保险   27.82       保险          1250.0     上证\n",
       "9   600291  西水股份    8.64       保险           257.0     上证\n",
       "10  000627  天茂集团   37.77       保险           116.0     上证"
      ]
     },
     "execution_count": 3,
     "metadata": {},
     "output_type": "execute_result"
    }
   ],
   "source": [
    "stock_info                           "
   ]
  },
  {
   "cell_type": "code",
   "execution_count": 4,
   "metadata": {},
   "outputs": [],
   "source": [
    "grouped = stock_info.groupby('industry')           # 对行业进行分组"
   ]
  },
  {
   "cell_type": "code",
   "execution_count": 5,
   "metadata": {
    "scrolled": true
   },
   "outputs": [
    {
     "data": {
      "text/plain": [
       "pandas.core.groupby.generic.DataFrameGroupBy"
      ]
     },
     "execution_count": 5,
     "metadata": {},
     "output_type": "execute_result"
    }
   ],
   "source": [
    "type(grouped)                                      # groupby对象"
   ]
  },
  {
   "cell_type": "code",
   "execution_count": 6,
   "metadata": {
    "scrolled": true
   },
   "outputs": [
    {
     "data": {
      "text/plain": [
       "industry\n",
       "保险      6\n",
       "电信运营    5\n",
       "dtype: int64"
      ]
     },
     "execution_count": 6,
     "metadata": {},
     "output_type": "execute_result"
    }
   ],
   "source": [
    "grouped.size()                                     # grouped.size()每组元素数量"
   ]
  },
  {
   "cell_type": "markdown",
   "metadata": {},
   "source": [
    "#### 1.2 选择数据"
   ]
  },
  {
   "cell_type": "code",
   "execution_count": 7,
   "metadata": {},
   "outputs": [
    {
     "data": {
      "text/html": [
       "<div>\n",
       "<style scoped>\n",
       "    .dataframe tbody tr th:only-of-type {\n",
       "        vertical-align: middle;\n",
       "    }\n",
       "\n",
       "    .dataframe tbody tr th {\n",
       "        vertical-align: top;\n",
       "    }\n",
       "\n",
       "    .dataframe thead th {\n",
       "        text-align: right;\n",
       "    }\n",
       "</style>\n",
       "<table border=\"1\" class=\"dataframe\">\n",
       "  <thead>\n",
       "    <tr style=\"text-align: right;\">\n",
       "      <th></th>\n",
       "      <th>code</th>\n",
       "      <th>name</th>\n",
       "      <th>pe</th>\n",
       "      <th>industry</th>\n",
       "      <th>tradable_value</th>\n",
       "      <th>market</th>\n",
       "    </tr>\n",
       "  </thead>\n",
       "  <tbody>\n",
       "    <tr>\n",
       "      <th>3</th>\n",
       "      <td>601601</td>\n",
       "      <td>中国太保</td>\n",
       "      <td>24.74</td>\n",
       "      <td>保险</td>\n",
       "      <td>2500.0</td>\n",
       "      <td>上证</td>\n",
       "    </tr>\n",
       "    <tr>\n",
       "      <th>5</th>\n",
       "      <td>601318</td>\n",
       "      <td>中国平安</td>\n",
       "      <td>15.80</td>\n",
       "      <td>保险</td>\n",
       "      <td>8280.0</td>\n",
       "      <td>上证</td>\n",
       "    </tr>\n",
       "    <tr>\n",
       "      <th>6</th>\n",
       "      <td>601528</td>\n",
       "      <td>中国人寿</td>\n",
       "      <td>24.44</td>\n",
       "      <td>保险</td>\n",
       "      <td>6441.0</td>\n",
       "      <td>上证</td>\n",
       "    </tr>\n",
       "    <tr>\n",
       "      <th>8</th>\n",
       "      <td>601336</td>\n",
       "      <td>新华保险</td>\n",
       "      <td>27.82</td>\n",
       "      <td>保险</td>\n",
       "      <td>1250.0</td>\n",
       "      <td>上证</td>\n",
       "    </tr>\n",
       "    <tr>\n",
       "      <th>9</th>\n",
       "      <td>600291</td>\n",
       "      <td>西水股份</td>\n",
       "      <td>8.64</td>\n",
       "      <td>保险</td>\n",
       "      <td>257.0</td>\n",
       "      <td>上证</td>\n",
       "    </tr>\n",
       "    <tr>\n",
       "      <th>10</th>\n",
       "      <td>000627</td>\n",
       "      <td>天茂集团</td>\n",
       "      <td>37.77</td>\n",
       "      <td>保险</td>\n",
       "      <td>116.0</td>\n",
       "      <td>上证</td>\n",
       "    </tr>\n",
       "  </tbody>\n",
       "</table>\n",
       "</div>"
      ],
      "text/plain": [
       "      code  name     pe industry  tradable_value market\n",
       "3   601601  中国太保  24.74       保险          2500.0     上证\n",
       "5   601318  中国平安  15.80       保险          8280.0     上证\n",
       "6   601528  中国人寿  24.44       保险          6441.0     上证\n",
       "8   601336  新华保险  27.82       保险          1250.0     上证\n",
       "9   600291  西水股份   8.64       保险           257.0     上证\n",
       "10  000627  天茂集团  37.77       保险           116.0     上证"
      ]
     },
     "execution_count": 7,
     "metadata": {},
     "output_type": "execute_result"
    }
   ],
   "source": [
    "grouped.get_group('保险')               "
   ]
  },
  {
   "cell_type": "code",
   "execution_count": 8,
   "metadata": {
    "scrolled": true
   },
   "outputs": [
    {
     "data": {
      "text/html": [
       "<div>\n",
       "<style scoped>\n",
       "    .dataframe tbody tr th:only-of-type {\n",
       "        vertical-align: middle;\n",
       "    }\n",
       "\n",
       "    .dataframe tbody tr th {\n",
       "        vertical-align: top;\n",
       "    }\n",
       "\n",
       "    .dataframe thead th {\n",
       "        text-align: right;\n",
       "    }\n",
       "</style>\n",
       "<table border=\"1\" class=\"dataframe\">\n",
       "  <thead>\n",
       "    <tr style=\"text-align: right;\">\n",
       "      <th></th>\n",
       "      <th>code</th>\n",
       "      <th>name</th>\n",
       "      <th>pe</th>\n",
       "      <th>industry</th>\n",
       "      <th>tradable_value</th>\n",
       "      <th>market</th>\n",
       "    </tr>\n",
       "  </thead>\n",
       "  <tbody>\n",
       "    <tr>\n",
       "      <th>0</th>\n",
       "      <td>600804</td>\n",
       "      <td>鹏博士</td>\n",
       "      <td>30.87</td>\n",
       "      <td>电信运营</td>\n",
       "      <td>249.0</td>\n",
       "      <td>上证</td>\n",
       "    </tr>\n",
       "    <tr>\n",
       "      <th>1</th>\n",
       "      <td>002467</td>\n",
       "      <td>二六三</td>\n",
       "      <td>71.47</td>\n",
       "      <td>电信运营</td>\n",
       "      <td>48.3</td>\n",
       "      <td>深证</td>\n",
       "    </tr>\n",
       "    <tr>\n",
       "      <th>2</th>\n",
       "      <td>002093</td>\n",
       "      <td>国脉科技</td>\n",
       "      <td>70.99</td>\n",
       "      <td>电信运营</td>\n",
       "      <td>90.5</td>\n",
       "      <td>深证</td>\n",
       "    </tr>\n",
       "    <tr>\n",
       "      <th>4</th>\n",
       "      <td>600050</td>\n",
       "      <td>中国联通</td>\n",
       "      <td>120.12</td>\n",
       "      <td>电信运营</td>\n",
       "      <td>1473.0</td>\n",
       "      <td>上证</td>\n",
       "    </tr>\n",
       "    <tr>\n",
       "      <th>7</th>\n",
       "      <td>300383</td>\n",
       "      <td>光环新网</td>\n",
       "      <td>44.01</td>\n",
       "      <td>电信运营</td>\n",
       "      <td>180.0</td>\n",
       "      <td>创业板</td>\n",
       "    </tr>\n",
       "  </tbody>\n",
       "</table>\n",
       "</div>"
      ],
      "text/plain": [
       "     code  name      pe industry  tradable_value market\n",
       "0  600804   鹏博士   30.87     电信运营           249.0     上证\n",
       "1  002467   二六三   71.47     电信运营            48.3     深证\n",
       "2  002093  国脉科技   70.99     电信运营            90.5     深证\n",
       "4  600050  中国联通  120.12     电信运营          1473.0     上证\n",
       "7  300383  光环新网   44.01     电信运营           180.0    创业板"
      ]
     },
     "execution_count": 8,
     "metadata": {},
     "output_type": "execute_result"
    }
   ],
   "source": [
    "grouped.get_group('电信运营')  "
   ]
  },
  {
   "cell_type": "markdown",
   "metadata": {
    "slideshow": {
     "slide_type": "subslide"
    }
   },
   "source": [
    "#### 1.3 聚合运算"
   ]
  },
  {
   "cell_type": "code",
   "execution_count": null,
   "metadata": {
    "scrolled": true
   },
   "outputs": [],
   "source": [
    "grouped.describe()"
   ]
  },
  {
   "cell_type": "code",
   "execution_count": null,
   "metadata": {},
   "outputs": [],
   "source": [
    "grouped.describe().T"
   ]
  },
  {
   "cell_type": "code",
   "execution_count": 17,
   "metadata": {
    "scrolled": true
   },
   "outputs": [
    {
     "data": {
      "text/html": [
       "<div>\n",
       "<style scoped>\n",
       "    .dataframe tbody tr th:only-of-type {\n",
       "        vertical-align: middle;\n",
       "    }\n",
       "\n",
       "    .dataframe tbody tr th {\n",
       "        vertical-align: top;\n",
       "    }\n",
       "\n",
       "    .dataframe thead th {\n",
       "        text-align: right;\n",
       "    }\n",
       "</style>\n",
       "<table border=\"1\" class=\"dataframe\">\n",
       "  <thead>\n",
       "    <tr style=\"text-align: right;\">\n",
       "      <th></th>\n",
       "      <th>code</th>\n",
       "      <th>name</th>\n",
       "      <th>pe</th>\n",
       "      <th>tradable_value</th>\n",
       "      <th>market</th>\n",
       "    </tr>\n",
       "    <tr>\n",
       "      <th>industry</th>\n",
       "      <th></th>\n",
       "      <th></th>\n",
       "      <th></th>\n",
       "      <th></th>\n",
       "      <th></th>\n",
       "    </tr>\n",
       "  </thead>\n",
       "  <tbody>\n",
       "    <tr>\n",
       "      <th>保险</th>\n",
       "      <td>601601</td>\n",
       "      <td>西水股份</td>\n",
       "      <td>37.77</td>\n",
       "      <td>8280.0</td>\n",
       "      <td>上证</td>\n",
       "    </tr>\n",
       "    <tr>\n",
       "      <th>电信运营</th>\n",
       "      <td>600804</td>\n",
       "      <td>鹏博士</td>\n",
       "      <td>120.12</td>\n",
       "      <td>1473.0</td>\n",
       "      <td>深证</td>\n",
       "    </tr>\n",
       "  </tbody>\n",
       "</table>\n",
       "</div>"
      ],
      "text/plain": [
       "            code  name      pe  tradable_value market\n",
       "industry                                             \n",
       "保险        601601  西水股份   37.77          8280.0     上证\n",
       "电信运营      600804   鹏博士  120.12          1473.0     深证"
      ]
     },
     "execution_count": 17,
     "metadata": {},
     "output_type": "execute_result"
    }
   ],
   "source": [
    "grouped.max()                                        # 对 name 和 market 这种不需要计算最大值的列也返回了结果"
   ]
  },
  {
   "cell_type": "code",
   "execution_count": 9,
   "metadata": {},
   "outputs": [
    {
     "data": {
      "text/html": [
       "<div>\n",
       "<style scoped>\n",
       "    .dataframe tbody tr th:only-of-type {\n",
       "        vertical-align: middle;\n",
       "    }\n",
       "\n",
       "    .dataframe tbody tr th {\n",
       "        vertical-align: top;\n",
       "    }\n",
       "\n",
       "    .dataframe thead th {\n",
       "        text-align: right;\n",
       "    }\n",
       "</style>\n",
       "<table border=\"1\" class=\"dataframe\">\n",
       "  <thead>\n",
       "    <tr style=\"text-align: right;\">\n",
       "      <th></th>\n",
       "      <th>pe</th>\n",
       "      <th>tradable_value</th>\n",
       "    </tr>\n",
       "    <tr>\n",
       "      <th>industry</th>\n",
       "      <th></th>\n",
       "      <th></th>\n",
       "    </tr>\n",
       "  </thead>\n",
       "  <tbody>\n",
       "    <tr>\n",
       "      <th>保险</th>\n",
       "      <td>37.77</td>\n",
       "      <td>8280.0</td>\n",
       "    </tr>\n",
       "    <tr>\n",
       "      <th>电信运营</th>\n",
       "      <td>120.12</td>\n",
       "      <td>1473.0</td>\n",
       "    </tr>\n",
       "  </tbody>\n",
       "</table>\n",
       "</div>"
      ],
      "text/plain": [
       "              pe  tradable_value\n",
       "industry                        \n",
       "保险         37.77          8280.0\n",
       "电信运营      120.12          1473.0"
      ]
     },
     "execution_count": 9,
     "metadata": {},
     "output_type": "execute_result"
    }
   ],
   "source": [
    "grouped[['pe','tradable_value']].max()              # 可通过索引解决"
   ]
  },
  {
   "cell_type": "code",
   "execution_count": 10,
   "metadata": {
    "scrolled": true
   },
   "outputs": [
    {
     "data": {
      "text/html": [
       "<div>\n",
       "<style scoped>\n",
       "    .dataframe tbody tr th:only-of-type {\n",
       "        vertical-align: middle;\n",
       "    }\n",
       "\n",
       "    .dataframe tbody tr th {\n",
       "        vertical-align: top;\n",
       "    }\n",
       "\n",
       "    .dataframe thead th {\n",
       "        text-align: right;\n",
       "    }\n",
       "</style>\n",
       "<table border=\"1\" class=\"dataframe\">\n",
       "  <thead>\n",
       "    <tr style=\"text-align: right;\">\n",
       "      <th></th>\n",
       "      <th>pe</th>\n",
       "      <th>tradable_value</th>\n",
       "    </tr>\n",
       "    <tr>\n",
       "      <th>industry</th>\n",
       "      <th></th>\n",
       "      <th></th>\n",
       "    </tr>\n",
       "  </thead>\n",
       "  <tbody>\n",
       "    <tr>\n",
       "      <th>保险</th>\n",
       "      <td>37.77</td>\n",
       "      <td>8280.0</td>\n",
       "    </tr>\n",
       "    <tr>\n",
       "      <th>电信运营</th>\n",
       "      <td>120.12</td>\n",
       "      <td>1473.0</td>\n",
       "    </tr>\n",
       "  </tbody>\n",
       "</table>\n",
       "</div>"
      ],
      "text/plain": [
       "              pe  tradable_value\n",
       "industry                        \n",
       "保险         37.77          8280.0\n",
       "电信运营      120.12          1473.0"
      ]
     },
     "execution_count": 10,
     "metadata": {},
     "output_type": "execute_result"
    }
   ],
   "source": [
    "grouped.max()[['pe', 'tradable_value']]             # 也聚合运算后通过索引取出有效数据，此种方法本质上是对DataFrame的多列索引"
   ]
  },
  {
   "cell_type": "code",
   "execution_count": 11,
   "metadata": {},
   "outputs": [
    {
     "data": {
      "text/plain": [
       "pandas.core.frame.DataFrame"
      ]
     },
     "execution_count": 11,
     "metadata": {},
     "output_type": "execute_result"
    }
   ],
   "source": [
    "type(grouped.max())                                 # groupby 对象进行聚合操作之后返回 DataFrame"
   ]
  },
  {
   "cell_type": "code",
   "execution_count": 12,
   "metadata": {},
   "outputs": [
    {
     "data": {
      "text/html": [
       "<div>\n",
       "<style scoped>\n",
       "    .dataframe tbody tr th:only-of-type {\n",
       "        vertical-align: middle;\n",
       "    }\n",
       "\n",
       "    .dataframe tbody tr th {\n",
       "        vertical-align: top;\n",
       "    }\n",
       "\n",
       "    .dataframe thead tr th {\n",
       "        text-align: left;\n",
       "    }\n",
       "\n",
       "    .dataframe thead tr:last-of-type th {\n",
       "        text-align: right;\n",
       "    }\n",
       "</style>\n",
       "<table border=\"1\" class=\"dataframe\">\n",
       "  <thead>\n",
       "    <tr>\n",
       "      <th></th>\n",
       "      <th colspan=\"2\" halign=\"left\">pe</th>\n",
       "      <th colspan=\"2\" halign=\"left\">tradable_value</th>\n",
       "    </tr>\n",
       "    <tr>\n",
       "      <th></th>\n",
       "      <th>amax</th>\n",
       "      <th>amin</th>\n",
       "      <th>amax</th>\n",
       "      <th>amin</th>\n",
       "    </tr>\n",
       "    <tr>\n",
       "      <th>industry</th>\n",
       "      <th></th>\n",
       "      <th></th>\n",
       "      <th></th>\n",
       "      <th></th>\n",
       "    </tr>\n",
       "  </thead>\n",
       "  <tbody>\n",
       "    <tr>\n",
       "      <th>保险</th>\n",
       "      <td>37.77</td>\n",
       "      <td>8.64</td>\n",
       "      <td>8280.0</td>\n",
       "      <td>116.0</td>\n",
       "    </tr>\n",
       "    <tr>\n",
       "      <th>电信运营</th>\n",
       "      <td>120.12</td>\n",
       "      <td>30.87</td>\n",
       "      <td>1473.0</td>\n",
       "      <td>48.3</td>\n",
       "    </tr>\n",
       "  </tbody>\n",
       "</table>\n",
       "</div>"
      ],
      "text/plain": [
       "              pe        tradable_value       \n",
       "            amax   amin           amax   amin\n",
       "industry                                     \n",
       "保险         37.77   8.64         8280.0  116.0\n",
       "电信运营      120.12  30.87         1473.0   48.3"
      ]
     },
     "execution_count": 12,
     "metadata": {},
     "output_type": "execute_result"
    }
   ],
   "source": [
    "grouped[['pe','tradable_value']].agg([np.max, np.min])    # 可以通过传入函数的方式对分组进行聚合处理"
   ]
  },
  {
   "cell_type": "code",
   "execution_count": 13,
   "metadata": {
    "scrolled": true
   },
   "outputs": [
    {
     "data": {
      "text/html": [
       "<div>\n",
       "<style scoped>\n",
       "    .dataframe tbody tr th:only-of-type {\n",
       "        vertical-align: middle;\n",
       "    }\n",
       "\n",
       "    .dataframe tbody tr th {\n",
       "        vertical-align: top;\n",
       "    }\n",
       "\n",
       "    .dataframe thead th {\n",
       "        text-align: right;\n",
       "    }\n",
       "</style>\n",
       "<table border=\"1\" class=\"dataframe\">\n",
       "  <thead>\n",
       "    <tr style=\"text-align: right;\">\n",
       "      <th></th>\n",
       "      <th>pe</th>\n",
       "      <th>tradable_value</th>\n",
       "    </tr>\n",
       "    <tr>\n",
       "      <th>industry</th>\n",
       "      <th></th>\n",
       "      <th></th>\n",
       "    </tr>\n",
       "  </thead>\n",
       "  <tbody>\n",
       "    <tr>\n",
       "      <th>保险</th>\n",
       "      <td>8.64</td>\n",
       "      <td>8280.0</td>\n",
       "    </tr>\n",
       "    <tr>\n",
       "      <th>电信运营</th>\n",
       "      <td>30.87</td>\n",
       "      <td>1473.0</td>\n",
       "    </tr>\n",
       "  </tbody>\n",
       "</table>\n",
       "</div>"
      ],
      "text/plain": [
       "             pe  tradable_value\n",
       "industry                       \n",
       "保险         8.64          8280.0\n",
       "电信运营      30.87          1473.0"
      ]
     },
     "execution_count": 13,
     "metadata": {},
     "output_type": "execute_result"
    }
   ],
   "source": [
    "grouped[['pe','tradable_value']].agg({'pe':np.min, 'tradable_value':np.max})\n",
    "                                                         # 也可以对不同列应用不同的聚合处理函数\n",
    "                                                         # 是要以字典的形式；"
   ]
  },
  {
   "attachments": {
    "groupby.png": {
     "image/png": "[encoded data removed]"
    }
   },
   "cell_type": "markdown",
   "metadata": {},
   "source": [
    "![groupby.png](attachment:groupby.png)"
   ]
  },
  {
   "cell_type": "markdown",
   "metadata": {},
   "source": [
    "#### 1.4 多重分组"
   ]
  },
  {
   "cell_type": "code",
   "execution_count": null,
   "metadata": {
    "scrolled": false
   },
   "outputs": [],
   "source": [
    "stock_info"
   ]
  },
  {
   "cell_type": "code",
   "execution_count": null,
   "metadata": {},
   "outputs": [],
   "source": [
    "multi_grouped = stock_info.groupby(['market', 'industry'])"
   ]
  },
  {
   "cell_type": "code",
   "execution_count": null,
   "metadata": {},
   "outputs": [],
   "source": [
    "multi_grouped.size()"
   ]
  },
  {
   "cell_type": "code",
   "execution_count": null,
   "metadata": {
    "scrolled": false
   },
   "outputs": [],
   "source": [
    "multi_grouped.get_group(('上证', '保险'))    # 获取某个分组内成员的数据"
   ]
  },
  {
   "cell_type": "markdown",
   "metadata": {},
   "source": [
    "---\n",
    "### 2. DataFrame 合并操作"
   ]
  },
  {
   "cell_type": "markdown",
   "metadata": {},
   "source": [
    "#### 2.1 Concat"
   ]
  },
  {
   "cell_type": "markdown",
   "metadata": {},
   "source": [
    "#### 2.1.1 concat - 纵向拼接"
   ]
  },
  {
   "cell_type": "markdown",
   "metadata": {},
   "source": [
    "使用 `pd.concat()` 函数可以将多个 DataFrame 进行拼接，默认是纵向拼接。\n",
    "\n",
    "常用参数：\n",
    "\n",
    "`axis=1` 表示横向拼接；\n",
    "\n",
    "`ignore_index=True` 表示重置索引。"
   ]
  },
  {
   "cell_type": "code",
   "execution_count": null,
   "metadata": {},
   "outputs": [],
   "source": [
    "df1 = pd.DataFrame([['a', np.nan], ['b', 5], ['c', 8]], columns=['key', 'value'],index=['x','z','y'])\n",
    "                                                     # 创建DataFrame df1\n",
    "df1"
   ]
  },
  {
   "cell_type": "code",
   "execution_count": null,
   "metadata": {},
   "outputs": [],
   "source": [
    "df2 = pd.DataFrame([['a', 100], ['b', 10], ['c', 100]], columns=['key', 'value'],index=['x','z','y'])\n",
    "                                                     # 创建DataFrame  df2\n",
    "df2"
   ]
  },
  {
   "cell_type": "code",
   "execution_count": null,
   "metadata": {
    "scrolled": false
   },
   "outputs": [],
   "source": [
    "pd.concat([df1, df2], join='inner')                   # 默认纵向拼接"
   ]
  },
  {
   "cell_type": "markdown",
   "metadata": {},
   "source": [
    "#### 2.1.2 concat - 横向拼接"
   ]
  },
  {
   "cell_type": "markdown",
   "metadata": {},
   "source": [
    "`pd.concat()` 函数参数 `axis=1` 时表示横向拼接。"
   ]
  },
  {
   "cell_type": "code",
   "execution_count": null,
   "metadata": {},
   "outputs": [],
   "source": [
    "pd.concat([df1, df2], axis=1)  "
   ]
  },
  {
   "cell_type": "code",
   "execution_count": null,
   "metadata": {},
   "outputs": [],
   "source": [
    "df3 = df2.reset_index()\n",
    "df3"
   ]
  },
  {
   "cell_type": "code",
   "execution_count": null,
   "metadata": {},
   "outputs": [],
   "source": [
    "pd.concat([df1, df3], axis=1)  "
   ]
  },
  {
   "cell_type": "markdown",
   "metadata": {},
   "source": [
    "#### 2.1.3 concat - 重置索引"
   ]
  },
  {
   "cell_type": "markdown",
   "metadata": {},
   "source": [
    "`pd.concat()` 函数参数 `ignore_index=True` 时表示重置索引。"
   ]
  },
  {
   "cell_type": "code",
   "execution_count": null,
   "metadata": {},
   "outputs": [],
   "source": [
    "pd.concat([df1, df2])"
   ]
  },
  {
   "cell_type": "code",
   "execution_count": null,
   "metadata": {
    "scrolled": true
   },
   "outputs": [],
   "source": [
    "pd.concat([df1, df2], ignore_index=True)   "
   ]
  },
  {
   "cell_type": "markdown",
   "metadata": {},
   "source": [
    "#### 2.2 Join"
   ]
  },
  {
   "cell_type": "markdown",
   "metadata": {},
   "source": [
    "#### 2.2.1 join - left 合并"
   ]
  },
  {
   "cell_type": "markdown",
   "metadata": {},
   "source": [
    "`DataFrame.join(other, on=None, how='left', lsuffix='', rsuffix='', sort=False)` 默认按左表索引对齐合并。\n",
    "\n",
    "常用参数：\n",
    "\n",
    "other：可以是 DataFrame、Series、list of DataFrames 等；\n",
    "\n",
    "how：控制合并方法；\n",
    "\n",
    "lsuffix/rsuffix：当两个表格有相同列时，直接合并会报错，需使用该参数区分两列。"
   ]
  },
  {
   "cell_type": "code",
   "execution_count": null,
   "metadata": {
    "scrolled": true
   },
   "outputs": [],
   "source": [
    "df1 = pd.DataFrame({'PE':[10,20,25,30]},index=list('abcd'))\n",
    "df1"
   ]
  },
  {
   "cell_type": "code",
   "execution_count": null,
   "metadata": {
    "scrolled": true
   },
   "outputs": [],
   "source": [
    "df2 = pd.DataFrame({'PB':[2.5,3.2,2.5]},index=list('adg'))\n",
    "df2"
   ]
  },
  {
   "cell_type": "code",
   "execution_count": null,
   "metadata": {
    "scrolled": false
   },
   "outputs": [],
   "source": [
    "df1.join(df2)      # 默认按左表index进行合并"
   ]
  },
  {
   "cell_type": "markdown",
   "metadata": {},
   "source": [
    "#### 2.2.2 join - how 参数"
   ]
  },
  {
   "cell_type": "code",
   "execution_count": null,
   "metadata": {},
   "outputs": [],
   "source": [
    "print(df1)\n",
    "print(df2)"
   ]
  },
  {
   "cell_type": "code",
   "execution_count": null,
   "metadata": {},
   "outputs": [],
   "source": [
    "df1.join(df2, how='right')"
   ]
  },
  {
   "cell_type": "code",
   "execution_count": null,
   "metadata": {},
   "outputs": [],
   "source": [
    "df1.join(df2, how='outer')"
   ]
  },
  {
   "cell_type": "code",
   "execution_count": null,
   "metadata": {
    "scrolled": true
   },
   "outputs": [],
   "source": [
    "df1.join(df2, how='inner')"
   ]
  },
  {
   "cell_type": "markdown",
   "metadata": {},
   "source": [
    "#### 2.2.3 join - 含相同列"
   ]
  },
  {
   "cell_type": "markdown",
   "metadata": {},
   "source": [
    "当两个表格有相同列时，直接合并会报错，需使用 `lsuffix/rsuffix` 参数区分两列。"
   ]
  },
  {
   "cell_type": "code",
   "execution_count": null,
   "metadata": {},
   "outputs": [],
   "source": [
    "df1 = pd.DataFrame({'PE':[10,20,25,30],\n",
    "                    'ROE':[0.12,0.25,0.13,0.23]},index=list('abcd'))\n",
    "df1"
   ]
  },
  {
   "cell_type": "code",
   "execution_count": null,
   "metadata": {
    "scrolled": false
   },
   "outputs": [],
   "source": [
    "df2 = pd.DataFrame({'PB':[2.5,3.2,2.5],\n",
    "                    'ROE':[0.12,0.23,0.13]},index=list('adg'))\n",
    "df2"
   ]
  },
  {
   "cell_type": "code",
   "execution_count": null,
   "metadata": {
    "scrolled": true
   },
   "outputs": [],
   "source": [
    "df1.join(df2, rsuffix='_r')"
   ]
  },
  {
   "cell_type": "code",
   "execution_count": null,
   "metadata": {
    "scrolled": false
   },
   "outputs": [],
   "source": [
    "df1.join(df2, lsuffix='_l')"
   ]
  },
  {
   "cell_type": "markdown",
   "metadata": {},
   "source": [
    "#### 2.3 Merge"
   ]
  },
  {
   "cell_type": "markdown",
   "metadata": {},
   "source": [
    "#### 2.3.1 merge - 重复列合并"
   ]
  },
  {
   "cell_type": "markdown",
   "metadata": {},
   "source": [
    "使用 `pd.merge()` 函数 或 `DataFrame.merge()` 方法可以方便地合并含有相同列的两个 DataFrame。\n",
    "\n",
    "使用 merge 方法合并，默认是 inner 方式，并且默认忽视索引。\n",
    "\n",
    "常用参数：\n",
    "\n",
    "on：控制按哪一列合并；\n",
    "\n",
    "how：控制合并方式；\n",
    "\n",
    "left_index/right_index：按索引合并；\n",
    "\n",
    "left_on/right_on：当两个 DataFrame 两列意义相同但列名不同时，可以使用该参数按该列合并。"
   ]
  },
  {
   "cell_type": "code",
   "execution_count": null,
   "metadata": {
    "scrolled": true
   },
   "outputs": [],
   "source": [
    "df1 = pd.DataFrame({'PE':[10,20,25,30],\n",
    "                    'ROE':[0.12,0.25,0.13,0.23]}, index=list('abcd'))\n",
    "df1"
   ]
  },
  {
   "cell_type": "code",
   "execution_count": null,
   "metadata": {
    "scrolled": true
   },
   "outputs": [],
   "source": [
    "df2 = pd.DataFrame({'PB':[2.5,3.2,2.5],\n",
    "                    'ROE':[0.12,0.23,0.13]}, index=list('adg'))\n",
    "df2"
   ]
  },
  {
   "cell_type": "code",
   "execution_count": null,
   "metadata": {
    "scrolled": true
   },
   "outputs": [],
   "source": [
    "pd.merge(df1,df2)          # 可以使用 pd.merge() 函数"
   ]
  },
  {
   "cell_type": "code",
   "execution_count": null,
   "metadata": {},
   "outputs": [],
   "source": [
    "df1.merge(df2)            # 也可以使用 DataFrame.merge() 方法"
   ]
  },
  {
   "cell_type": "markdown",
   "metadata": {},
   "source": [
    "#### 2.3.2 merge - on 参数"
   ]
  },
  {
   "cell_type": "code",
   "execution_count": null,
   "metadata": {
    "scrolled": true
   },
   "outputs": [],
   "source": [
    "df1 = pd.DataFrame({'PB':[10,20,25,30],\n",
    "                    'ROE':[0.12,0.25,0.13,0.23]}, index=list('abcd'))\n",
    "df1"
   ]
  },
  {
   "cell_type": "code",
   "execution_count": null,
   "metadata": {
    "scrolled": true
   },
   "outputs": [],
   "source": [
    "df2 = pd.DataFrame({'PB':[2.5,3.2,2.5],\n",
    "                    'ROE':[0.12,0.23,0.13]}, index=list('adg'))\n",
    "df2"
   ]
  },
  {
   "cell_type": "code",
   "execution_count": null,
   "metadata": {},
   "outputs": [],
   "source": [
    "pd.merge(df1, df2, on='ROE')     # 通过参数 on 可以控制按某列合并"
   ]
  },
  {
   "cell_type": "markdown",
   "metadata": {},
   "source": [
    "#### 2.3.3 merge - how 参数"
   ]
  },
  {
   "cell_type": "code",
   "execution_count": null,
   "metadata": {
    "scrolled": true
   },
   "outputs": [],
   "source": [
    "df1 = pd.DataFrame({'PE':[10,20,25,30],\n",
    "                    'ROE':[0.12,0.25,0.13,0.23]}, index=list('abcd'))\n",
    "df1"
   ]
  },
  {
   "cell_type": "code",
   "execution_count": null,
   "metadata": {
    "scrolled": false
   },
   "outputs": [],
   "source": [
    "df2 = pd.DataFrame({'PB':[2.5,3.2,2.5],\n",
    "                    'ROE':[0.12,0.23,0.13]}, index=list('adg'))\n",
    "df2"
   ]
  },
  {
   "cell_type": "code",
   "execution_count": null,
   "metadata": {},
   "outputs": [],
   "source": [
    "pd.merge(df1, df2, how='left')"
   ]
  },
  {
   "cell_type": "code",
   "execution_count": null,
   "metadata": {},
   "outputs": [],
   "source": [
    "pd.merge(df1, df2, how='right')"
   ]
  },
  {
   "cell_type": "code",
   "execution_count": null,
   "metadata": {},
   "outputs": [],
   "source": [
    "pd.merge(df1, df2, how='outer')"
   ]
  },
  {
   "cell_type": "markdown",
   "metadata": {},
   "source": [
    "#### 2.3.4 merge - 按索引合并"
   ]
  },
  {
   "cell_type": "markdown",
   "metadata": {},
   "source": [
    "当 `merge()` 方法的 `left_index/right_index` 参数为 True 时，按索引合并。"
   ]
  },
  {
   "cell_type": "code",
   "execution_count": null,
   "metadata": {
    "scrolled": true
   },
   "outputs": [],
   "source": [
    "df1 = pd.DataFrame({'PE':[10,20,25,30]},index=list('abcd'))\n",
    "df1"
   ]
  },
  {
   "cell_type": "code",
   "execution_count": null,
   "metadata": {
    "scrolled": false
   },
   "outputs": [],
   "source": [
    "df2 = pd.DataFrame({'PB':[2.5,3.2,2.5]},index=list('adg'))\n",
    "df2"
   ]
  },
  {
   "cell_type": "code",
   "execution_count": null,
   "metadata": {
    "scrolled": false
   },
   "outputs": [],
   "source": [
    "df1.join(df2, how='inner')    "
   ]
  },
  {
   "cell_type": "code",
   "execution_count": null,
   "metadata": {
    "scrolled": true
   },
   "outputs": [],
   "source": [
    "pd.merge(df1, df2, left_index=True, right_index=True)   # 和 join 合并效果相同"
   ]
  },
  {
   "cell_type": "markdown",
   "metadata": {},
   "source": [
    "#### 2.3.5 merge - 相同列不同列名"
   ]
  },
  {
   "cell_type": "markdown",
   "metadata": {},
   "source": [
    "当两个 DataFrame 两列意义相同但列名不同时，可以使用 `left_on/right_on` 参数按指定列合并。"
   ]
  },
  {
   "cell_type": "code",
   "execution_count": null,
   "metadata": {
    "scrolled": false
   },
   "outputs": [],
   "source": [
    "df1 = pd.DataFrame({'PE':[10,20,25,30],\n",
    "                    'roe':[0.12,0.25,0.13,0.23]}, index=list('abcd'))\n",
    "df1"
   ]
  },
  {
   "cell_type": "code",
   "execution_count": null,
   "metadata": {
    "scrolled": false
   },
   "outputs": [],
   "source": [
    "df2 = pd.DataFrame({'PB':[2.5,3.2,2.5],\n",
    "                    'ROE':[0.12,0.23,0.13]}, index=list('adg'))\n",
    "df2"
   ]
  },
  {
   "cell_type": "code",
   "execution_count": null,
   "metadata": {
    "scrolled": true
   },
   "outputs": [],
   "source": [
    "pd.merge(df1,df2,left_on='roe',right_on='ROE')"
   ]
  },
  {
   "cell_type": "markdown",
   "metadata": {},
   "source": [
    "---\n",
    "### 3. DataFrame 层次化索引"
   ]
  },
  {
   "cell_type": "markdown",
   "metadata": {},
   "source": [
    "#### 3.1 构建层次化索引"
   ]
  },
  {
   "cell_type": "markdown",
   "metadata": {},
   "source": [
    "使用嵌套列表可以构建层次化索引。"
   ]
  },
  {
   "cell_type": "code",
   "execution_count": 15,
   "metadata": {},
   "outputs": [
    {
     "data": {
      "text/plain": [
       "a  1    0.118300\n",
       "   2   -0.184343\n",
       "b  1   -0.513483\n",
       "   2    0.976805\n",
       "   3    1.866211\n",
       "dtype: float64"
      ]
     },
     "execution_count": 15,
     "metadata": {},
     "output_type": "execute_result"
    }
   ],
   "source": [
    "s = pd.Series(np.random.randn(5),index=[['a','a','b','b','b'],[1,2,1,2,3]])\n",
    "s"
   ]
  },
  {
   "cell_type": "markdown",
   "metadata": {},
   "source": [
    "#### 3.2 使用层次化索引"
   ]
  },
  {
   "cell_type": "code",
   "execution_count": 16,
   "metadata": {},
   "outputs": [
    {
     "data": {
      "text/plain": [
       "0.11830012004766437"
      ]
     },
     "execution_count": 16,
     "metadata": {},
     "output_type": "execute_result"
    }
   ],
   "source": [
    "s['a',1]"
   ]
  },
  {
   "cell_type": "markdown",
   "metadata": {},
   "source": [
    "#### 3.3 平面化展示"
   ]
  },
  {
   "cell_type": "code",
   "execution_count": null,
   "metadata": {},
   "outputs": [],
   "source": [
    "s.unstack()"
   ]
  },
  {
   "cell_type": "markdown",
   "metadata": {},
   "source": [
    "#### 3.4 聚合运算"
   ]
  },
  {
   "cell_type": "code",
   "execution_count": null,
   "metadata": {},
   "outputs": [],
   "source": [
    "s.sum(level=0)"
   ]
  },
  {
   "cell_type": "code",
   "execution_count": null,
   "metadata": {
    "scrolled": true
   },
   "outputs": [],
   "source": [
    "s.sum(level=1)"
   ]
  },
  {
   "cell_type": "markdown",
   "metadata": {},
   "source": [
    "层次化索引实例"
   ]
  },
  {
   "cell_type": "code",
   "execution_count": null,
   "metadata": {},
   "outputs": [],
   "source": [
    "import tushare as ts\n",
    "pro = ts.pro_api()"
   ]
  },
  {
   "cell_type": "code",
   "execution_count": null,
   "metadata": {
    "scrolled": false
   },
   "outputs": [],
   "source": [
    "df = pro.daily(ts_code='000001.SZ,000002.SZ,600000.SH', start_date='20180701', end_date='20180718')     # 获取三只股票的日线数据\n",
    "df.sort_values(['ts_code','trade_date'],inplace=True)\n",
    "df"
   ]
  },
  {
   "cell_type": "code",
   "execution_count": null,
   "metadata": {
    "scrolled": true
   },
   "outputs": [],
   "source": [
    "df.set_index(['ts_code','trade_date'],inplace=True)\n",
    "df"
   ]
  },
  {
   "cell_type": "code",
   "execution_count": null,
   "metadata": {},
   "outputs": [],
   "source": [
    "df.loc['000001.SZ','20180702']['open']"
   ]
  },
  {
   "cell_type": "code",
   "execution_count": null,
   "metadata": {
    "scrolled": false
   },
   "outputs": [],
   "source": [
    "df['close'].unstack().T"
   ]
  },
  {
   "cell_type": "markdown",
   "metadata": {},
   "source": [
    "声明：本资料仅限内部研究使用，切勿外传。"
   ]
  }
 ],
 "metadata": {
  "anaconda-cloud": {},
  "kernelspec": {
   "display_name": "Python 3 (ipykernel)",
   "language": "python",
   "name": "python3"
  },
  "language_info": {
   "codemirror_mode": {
    "name": "ipython",
    "version": 3
   },
   "file_extension": ".py",
   "mimetype": "text/x-python",
   "name": "python",
   "nbconvert_exporter": "python",
   "pygments_lexer": "ipython3",
   "version": "3.9.12"
  },
  "toc": {
   "nav_menu": {},
   "number_sections": false,
   "sideBar": true,
   "skip_h1_title": true,
   "toc_cell": false,
   "toc_position": {},
   "toc_section_display": "block",
   "toc_window_display": false
  }
 },
 "nbformat": 4,
 "nbformat_minor": 1
}
