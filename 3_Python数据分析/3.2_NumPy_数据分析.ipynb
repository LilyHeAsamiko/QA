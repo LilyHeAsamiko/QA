{
 "cells": [
  {
   "cell_type": "markdown",
   "metadata": {},
   "source": [
    "# NumPy 数据分析\n",
    "---"
   ]
  },
  {
   "cell_type": "markdown",
   "metadata": {},
   "source": [
    "#### 课程内容\n",
    "\n",
    "1. NumPy 通用函数\n",
    "2. NumPy 随机数\n",
    "3. NumPy 线性代数\n",
    "4. NumPy 矩阵运算\n",
    "5. NumPy 多项式回归"
   ]
  },
  {
   "cell_type": "markdown",
   "metadata": {},
   "source": [
    "---\n",
    "### 1. NumPy 通用函数"
   ]
  },
  {
   "cell_type": "markdown",
   "metadata": {},
   "source": [
    "#### 1.1 算术函数"
   ]
  },
  {
   "cell_type": "markdown",
   "metadata": {},
   "source": [
    "求绝对值"
   ]
  },
  {
   "cell_type": "code",
   "execution_count": 1,
   "metadata": {},
   "outputs": [],
   "source": [
    "import numpy as np"
   ]
  },
  {
   "cell_type": "code",
   "execution_count": null,
   "metadata": {
    "scrolled": true
   },
   "outputs": [],
   "source": [
    "return_array = np.array([0.05, 0.10, -0.05, 0.15, 0.10])"
   ]
  },
  {
   "cell_type": "code",
   "execution_count": null,
   "metadata": {
    "uuid": "eccae4a8-18fc-4362-8089-faed41fe558a"
   },
   "outputs": [],
   "source": [
    "np.abs(return_array)"
   ]
  },
  {
   "cell_type": "markdown",
   "metadata": {},
   "source": [
    "求平方根"
   ]
  },
  {
   "cell_type": "code",
   "execution_count": null,
   "metadata": {},
   "outputs": [],
   "source": [
    "a = np.array([1,2,3,4,5])"
   ]
  },
  {
   "cell_type": "code",
   "execution_count": null,
   "metadata": {
    "scrolled": true
   },
   "outputs": [],
   "source": [
    "np.sqrt(a)"
   ]
  },
  {
   "cell_type": "markdown",
   "metadata": {},
   "source": [
    "求平方"
   ]
  },
  {
   "cell_type": "code",
   "execution_count": null,
   "metadata": {},
   "outputs": [],
   "source": [
    "np.square(a)"
   ]
  },
  {
   "cell_type": "markdown",
   "metadata": {},
   "source": [
    "指数运算"
   ]
  },
  {
   "cell_type": "code",
   "execution_count": null,
   "metadata": {},
   "outputs": [],
   "source": [
    "example_array = np.array([1,2,3,4])"
   ]
  },
  {
   "cell_type": "code",
   "execution_count": null,
   "metadata": {},
   "outputs": [],
   "source": [
    "np.exp(example_array)"
   ]
  },
  {
   "cell_type": "markdown",
   "metadata": {},
   "source": [
    "对数运算"
   ]
  },
  {
   "cell_type": "code",
   "execution_count": null,
   "metadata": {},
   "outputs": [],
   "source": [
    "example_array = np.array([1,2,3,4,10])"
   ]
  },
  {
   "cell_type": "code",
   "execution_count": null,
   "metadata": {
    "scrolled": true
   },
   "outputs": [],
   "source": [
    "np.log(example_array)"
   ]
  },
  {
   "cell_type": "markdown",
   "metadata": {},
   "source": [
    "数据近似计算"
   ]
  },
  {
   "cell_type": "code",
   "execution_count": null,
   "metadata": {},
   "outputs": [],
   "source": [
    "example_array = np.array([1.1, 2.6, 3.3, 4.5, 9.8])"
   ]
  },
  {
   "cell_type": "code",
   "execution_count": null,
   "metadata": {},
   "outputs": [],
   "source": [
    "# 求 floor 值，即小于等于该值的最大整数\n",
    "np.floor(example_array)"
   ]
  },
  {
   "cell_type": "code",
   "execution_count": null,
   "metadata": {},
   "outputs": [],
   "source": [
    "# 求 ceil 值，即大于等于该值的最小整数\n",
    "np.ceil(example_array)"
   ]
  },
  {
   "cell_type": "code",
   "execution_count": null,
   "metadata": {},
   "outputs": [],
   "source": [
    "# 四舍五入\n",
    "np.round(example_array)"
   ]
  },
  {
   "cell_type": "markdown",
   "metadata": {},
   "source": [
    "符号判断"
   ]
  },
  {
   "cell_type": "code",
   "execution_count": null,
   "metadata": {},
   "outputs": [],
   "source": [
    "example_array = np.array([-1, 2, -3, -4])"
   ]
  },
  {
   "cell_type": "code",
   "execution_count": null,
   "metadata": {},
   "outputs": [],
   "source": [
    "np.sign(example_array)                                  "
   ]
  },
  {
   "cell_type": "markdown",
   "metadata": {},
   "source": [
    "#### 1.2 统计函数"
   ]
  },
  {
   "cell_type": "markdown",
   "metadata": {},
   "source": [
    "求和"
   ]
  },
  {
   "cell_type": "code",
   "execution_count": null,
   "metadata": {},
   "outputs": [],
   "source": [
    "position = np.array([1000,1200,1100,1300,1300])           # 某日策略对各股票持仓数量"
   ]
  },
  {
   "cell_type": "code",
   "execution_count": null,
   "metadata": {},
   "outputs": [],
   "source": [
    "position.sum()                                            # 求当前持仓总数量"
   ]
  },
  {
   "cell_type": "code",
   "execution_count": null,
   "metadata": {},
   "outputs": [],
   "source": [
    "np.sum(position)"
   ]
  },
  {
   "cell_type": "markdown",
   "metadata": {},
   "source": [
    "均值"
   ]
  },
  {
   "cell_type": "code",
   "execution_count": null,
   "metadata": {},
   "outputs": [],
   "source": [
    "close_price_array = np.array([10, 11, 13, 12, 14])        # 某股票5日收盘价"
   ]
  },
  {
   "cell_type": "code",
   "execution_count": null,
   "metadata": {},
   "outputs": [],
   "source": [
    "close_price_array.mean()                                  # 方法一"
   ]
  },
  {
   "cell_type": "code",
   "execution_count": null,
   "metadata": {},
   "outputs": [],
   "source": [
    "np.mean(close_price_array)                                # 方法二"
   ]
  },
  {
   "cell_type": "code",
   "execution_count": null,
   "metadata": {},
   "outputs": [],
   "source": [
    "np.average(close_price_array)                             # 方法三"
   ]
  },
  {
   "cell_type": "markdown",
   "metadata": {},
   "source": [
    "标准差"
   ]
  },
  {
   "cell_type": "code",
   "execution_count": null,
   "metadata": {},
   "outputs": [],
   "source": [
    "close_price_array = np.array([10, 11, 13, 12, 14])        # 某股票5日收盘价"
   ]
  },
  {
   "cell_type": "code",
   "execution_count": null,
   "metadata": {},
   "outputs": [],
   "source": [
    "close_price_array.std()"
   ]
  },
  {
   "cell_type": "code",
   "execution_count": null,
   "metadata": {},
   "outputs": [],
   "source": [
    "np.std(close_price_array)"
   ]
  },
  {
   "cell_type": "markdown",
   "metadata": {},
   "source": [
    "最大最小值及其索引"
   ]
  },
  {
   "cell_type": "code",
   "execution_count": null,
   "metadata": {},
   "outputs": [],
   "source": [
    "close_price_array = np.array([10, 14, 13, 12, 14])        # 某股票5日收盘价"
   ]
  },
  {
   "cell_type": "code",
   "execution_count": null,
   "metadata": {
    "scrolled": true
   },
   "outputs": [],
   "source": [
    "close_price_array.max()"
   ]
  },
  {
   "cell_type": "code",
   "execution_count": null,
   "metadata": {},
   "outputs": [],
   "source": [
    "close_price_array.min()"
   ]
  },
  {
   "cell_type": "code",
   "execution_count": null,
   "metadata": {
    "scrolled": true
   },
   "outputs": [],
   "source": [
    "close_price_array.argmax()                                # 返回五日最高价的位置索引，为第五天"
   ]
  },
  {
   "cell_type": "code",
   "execution_count": null,
   "metadata": {},
   "outputs": [],
   "source": [
    "close_price_array.argmin()                                # 返回五日最低价的位置索引，为第一天"
   ]
  },
  {
   "cell_type": "markdown",
   "metadata": {},
   "source": [
    "累计求和"
   ]
  },
  {
   "cell_type": "code",
   "execution_count": null,
   "metadata": {},
   "outputs": [],
   "source": [
    "income_array = np.array([10, 20, 30, 40])"
   ]
  },
  {
   "cell_type": "code",
   "execution_count": null,
   "metadata": {
    "scrolled": true
   },
   "outputs": [],
   "source": [
    "income_array.cumsum()                                "
   ]
  },
  {
   "cell_type": "markdown",
   "metadata": {},
   "source": [
    "累计求积"
   ]
  },
  {
   "cell_type": "code",
   "execution_count": null,
   "metadata": {},
   "outputs": [],
   "source": [
    "daily_return = np.array([0.1, 0.05, -0.01, 0.02])        # 某只股票的每日收益率"
   ]
  },
  {
   "cell_type": "code",
   "execution_count": null,
   "metadata": {},
   "outputs": [],
   "source": [
    "(daily_return + 1).cumprod()                            # 股票的收益曲线"
   ]
  },
  {
   "cell_type": "markdown",
   "metadata": {},
   "source": [
    "#### 1.3 np.where()"
   ]
  },
  {
   "cell_type": "code",
   "execution_count": null,
   "metadata": {
    "scrolled": false
   },
   "outputs": [],
   "source": [
    "factor = np.random.randn(3,5)                  # 假设三只股票在 5 天时间某因子数据为 factor\n",
    "factor"
   ]
  },
  {
   "cell_type": "code",
   "execution_count": null,
   "metadata": {
    "scrolled": true
   },
   "outputs": [],
   "source": [
    "signal = np.where(factor > 0.2, 1, 0)          # 在计算策略的signal时非常有用；将 factor>0.2 的标记为 1，其余标记为0\n",
    "signal"
   ]
  },
  {
   "cell_type": "markdown",
   "metadata": {},
   "source": [
    "#### 1.4 np.any()/np.all()"
   ]
  },
  {
   "cell_type": "code",
   "execution_count": null,
   "metadata": {},
   "outputs": [],
   "source": [
    "np.any(np.array([True, False]))       # np.any() 检查是否存在一个True"
   ]
  },
  {
   "cell_type": "code",
   "execution_count": null,
   "metadata": {},
   "outputs": [],
   "source": [
    "np.all(np.array([True, False]))       # np.all() 检查是否全部为True"
   ]
  },
  {
   "cell_type": "markdown",
   "metadata": {},
   "source": [
    "---\n",
    "### 2. NumPy 随机数"
   ]
  },
  {
   "cell_type": "markdown",
   "metadata": {},
   "source": [
    "#### 2.1 正态分布随机数"
   ]
  },
  {
   "cell_type": "markdown",
   "metadata": {},
   "source": [
    "`np.random.standard_normal()` 和 `np.random.randn()` 可以生成服从标准正态分布的随机数。"
   ]
  },
  {
   "cell_type": "code",
   "execution_count": null,
   "metadata": {
    "scrolled": false
   },
   "outputs": [],
   "source": [
    "np.random.standard_normal()                 # 产生单个随机数"
   ]
  },
  {
   "cell_type": "code",
   "execution_count": null,
   "metadata": {
    "scrolled": true
   },
   "outputs": [],
   "source": [
    "np.random.standard_normal(5)                # 产生一维随机数数组"
   ]
  },
  {
   "cell_type": "code",
   "execution_count": null,
   "metadata": {
    "scrolled": false
   },
   "outputs": [],
   "source": [
    "np.random.standard_normal([2, 3])           # 二维数组"
   ]
  },
  {
   "cell_type": "code",
   "execution_count": null,
   "metadata": {},
   "outputs": [],
   "source": [
    "np.random.randn(2, 3)                       # np.random.randn() 可以实现相同效果"
   ]
  },
  {
   "cell_type": "code",
   "execution_count": 2,
   "metadata": {},
   "outputs": [],
   "source": [
    "import matplotlib.pyplot as plt\n",
    "%matplotlib inline"
   ]
  },
  {
   "cell_type": "code",
   "execution_count": 3,
   "metadata": {
    "scrolled": false
   },
   "outputs": [],
   "source": [
    "data = np.random.randn(10000)"
   ]
  },
  {
   "cell_type": "code",
   "execution_count": 8,
   "metadata": {},
   "outputs": [
    {
     "data": {
      "text/plain": [
       "(array([1.50210945e-03, 2.62869154e-03, 6.00843781e-03, 1.16413483e-02,\n",
       "        1.91518955e-02, 3.98059005e-02, 6.42151791e-02, 1.11907154e-01,\n",
       "        1.56594910e-01, 2.21185617e-01, 2.86902905e-01, 3.54873358e-01,\n",
       "        3.78907109e-01, 3.95054786e-01, 3.86793184e-01, 3.46611756e-01,\n",
       "        3.06805856e-01, 2.24565363e-01, 1.62227821e-01, 1.13409264e-01,\n",
       "        7.43544179e-02, 4.76919751e-02, 2.44092786e-02, 9.76371144e-03,\n",
       "        5.25738308e-03, 1.12658209e-03, 1.12658209e-03, 0.00000000e+00,\n",
       "        3.75527363e-04, 3.75527363e-04]),\n",
       " array([-3.61443533, -3.34814315, -3.08185097, -2.81555879, -2.54926661,\n",
       "        -2.28297443, -2.01668225, -1.75039007, -1.48409789, -1.21780571,\n",
       "        -0.95151353, -0.68522135, -0.41892917, -0.15263699,  0.11365519,\n",
       "         0.37994737,  0.64623955,  0.91253173,  1.17882391,  1.44511609,\n",
       "         1.71140827,  1.97770045,  2.24399263,  2.51028481,  2.77657699,\n",
       "         3.04286916,  3.30916134,  3.57545352,  3.8417457 ,  4.10803788,\n",
       "         4.37433006]),\n",
       " <BarContainer object of 30 artists>)"
      ]
     },
     "execution_count": 8,
     "metadata": {},
     "output_type": "execute_result"
    },
    {
     "data": {
      "image/png": "[encoded data removed]",
      "text/plain": [
       "<Figure size 432x288 with 1 Axes>"
      ]
     },
     "metadata": {
      "needs_background": "light"
     },
     "output_type": "display_data"
    }
   ],
   "source": [
    "plt.hist(data, bins=30, density=1)"
   ]
  },
  {
   "cell_type": "code",
   "execution_count": null,
   "metadata": {},
   "outputs": [],
   "source": [
    "import scipy.stats as scs\n",
    "\n",
    "x = np.linspace(-3, 3, 100)\n",
    "plt.plot(x, scs.norm.pdf(x), 'r')\n",
    "plt.hist(data, bins=30, density=1)"
   ]
  },
  {
   "cell_type": "markdown",
   "metadata": {},
   "source": [
    "#### 2.2 0-1 均匀分布随机数"
   ]
  },
  {
   "cell_type": "markdown",
   "metadata": {},
   "source": [
    "`np.random.random()` 和 `np.random.rand()` 可以生成服从 0-1 均匀分布的随机数。"
   ]
  },
  {
   "cell_type": "code",
   "execution_count": 31,
   "metadata": {},
   "outputs": [
    {
     "data": {
      "text/plain": [
       "array([[0.4854271 , 0.01278081],\n",
       "       [0.48737161, 0.94180665],\n",
       "       [0.85079509, 0.72996447],\n",
       "       [0.10873607, 0.89390417]])"
      ]
     },
     "execution_count": 31,
     "metadata": {},
     "output_type": "execute_result"
    }
   ],
   "source": [
    "np.random.rand(4,2)"
   ]
  },
  {
   "cell_type": "code",
   "execution_count": null,
   "metadata": {},
   "outputs": [],
   "source": [
    "np.random.random((4,2))"
   ]
  },
  {
   "cell_type": "markdown",
   "metadata": {},
   "source": [
    "#### 2.3 随机整数"
   ]
  },
  {
   "cell_type": "markdown",
   "metadata": {},
   "source": [
    "`numpy.random.randint(low, high=None, size=None, dtype='l')`\n",
    "\n",
    "返回随机整数，范围区间为左闭右开，包含low，不包含high\n",
    "\n",
    "参数：low 为最小值，high 为最大值，size 为数组维度大小，dtype 为数据类型，默认的数据类型是 np.int\n",
    "\n",
    "high没有填写时，默认生成随机数的范围是 [0，low)"
   ]
  },
  {
   "cell_type": "code",
   "execution_count": null,
   "metadata": {},
   "outputs": [],
   "source": [
    "np.random.randint(6, size=(5,6))"
   ]
  },
  {
   "cell_type": "markdown",
   "metadata": {},
   "source": [
    "#### 2.4 指定序列随机数"
   ]
  },
  {
   "cell_type": "markdown",
   "metadata": {},
   "source": [
    "`numpy.random.choice(a, size=None, replace=True, p=None)`\n",
    "\n",
    "从给定的一维数组中生成随机数\n",
    "\n",
    "参数： a 为一维数组类似数据或整数；size 为数组维度；p 为数组中的数据出现的概率\n",
    "\n",
    "a 为整数时，对应的一维数组为 np.arange(a)"
   ]
  },
  {
   "cell_type": "code",
   "execution_count": 9,
   "metadata": {},
   "outputs": [
    {
     "data": {
      "text/plain": [
       "array([0, 2, 3, 2, 1, 3, 3, 3, 1, 2, 0, 0, 4, 1, 2, 4, 3, 4, 0, 0])"
      ]
     },
     "execution_count": 9,
     "metadata": {},
     "output_type": "execute_result"
    }
   ],
   "source": [
    "np.random.choice(5, 20)"
   ]
  },
  {
   "cell_type": "code",
   "execution_count": 12,
   "metadata": {},
   "outputs": [
    {
     "data": {
      "text/plain": [
       "array([['000005', '000005', '000001'],\n",
       "       ['000005', '000005', '000005'],\n",
       "       ['000001', '000002', '000001'],\n",
       "       ['000005', '000005', '000002'],\n",
       "       ['000005', '000003', '000005']], dtype='<U6')"
      ]
     },
     "execution_count": 12,
     "metadata": {},
     "output_type": "execute_result"
    }
   ],
   "source": [
    "demo_list = ['000001', '000002','000003','000004', '000005']\n",
    "np.random.choice(demo_list, size=(5,3), p=[0.1,0.1,0.1,0.1,0.6])"
   ]
  },
  {
   "cell_type": "markdown",
   "metadata": {},
   "source": [
    "#### 2.5 seed"
   ]
  },
  {
   "cell_type": "markdown",
   "metadata": {},
   "source": [
    "`np.random.seed()` 的作用：当设置相同的seed，每次生成的随机数相同。如果不设置seed，则每次会生成不同的随机数"
   ]
  },
  {
   "cell_type": "code",
   "execution_count": 18,
   "metadata": {},
   "outputs": [
    {
     "data": {
      "text/plain": [
       "array([0.18026969, 0.01947524, 0.46321853, 0.72493393, 0.4202036 ])"
      ]
     },
     "execution_count": 18,
     "metadata": {},
     "output_type": "execute_result"
    }
   ],
   "source": [
    "np.random.seed(11)\n",
    "np.random.rand(5)"
   ]
  },
  {
   "cell_type": "code",
   "execution_count": 15,
   "metadata": {},
   "outputs": [
    {
     "data": {
      "text/plain": [
       "array([0.77132064, 0.02075195, 0.63364823, 0.74880388, 0.49850701])"
      ]
     },
     "execution_count": 15,
     "metadata": {},
     "output_type": "execute_result"
    }
   ],
   "source": [
    "np.random.seed(10)\n",
    "np.random.rand(5)"
   ]
  },
  {
   "cell_type": "markdown",
   "metadata": {},
   "source": [
    "---\n",
    "### 3. NumPy 线性代数"
   ]
  },
  {
   "cell_type": "markdown",
   "metadata": {},
   "source": [
    "NumPy 提供了线性代数函数库 linalg，该库包含了线性代数所需的所有功能。"
   ]
  },
  {
   "cell_type": "markdown",
   "metadata": {},
   "source": [
    "`numpy.linalg.solve()` 函数给出了矩阵形式的线性方程的解。"
   ]
  },
  {
   "cell_type": "markdown",
   "metadata": {},
   "source": [
    "考虑以下线性方程：\n",
    "\n",
    "$$\\left \\{ \n",
    "\\begin{array}{c}\n",
    "3x + y = 9 \\\\ \n",
    "x + 2y = 8 \\\\ \n",
    "\\end{array}\n",
    "\\right.\n",
    "$$\n",
    "\n",
    "写成矩阵形式为：\n",
    "\n",
    "$$\\begin{bmatrix}\n",
    "3 & 1 \\\\ \n",
    "1 & 2 \\\\\n",
    "\\end{bmatrix} \n",
    "\\begin{bmatrix} \n",
    "x \\\\ \n",
    "y \\\\\n",
    "\\end{bmatrix} \n",
    "= \n",
    "\\begin{bmatrix} \n",
    "9 \\\\ \n",
    "8 \\\\\n",
    "\\end{bmatrix}\n",
    "$$\n",
    "即 AX = B"
   ]
  },
  {
   "cell_type": "code",
   "execution_count": 20,
   "metadata": {},
   "outputs": [],
   "source": [
    "a = np.array([[3, 1], [1, 2]])\n",
    "b = np.array([9, 8])"
   ]
  },
  {
   "cell_type": "code",
   "execution_count": 21,
   "metadata": {
    "scrolled": true
   },
   "outputs": [
    {
     "data": {
      "text/plain": [
       "array([2., 3.])"
      ]
     },
     "execution_count": 21,
     "metadata": {},
     "output_type": "execute_result"
    }
   ],
   "source": [
    "x = np.linalg.solve(a, b)\n",
    "x"
   ]
  },
  {
   "cell_type": "markdown",
   "metadata": {},
   "source": [
    "`numpy.dot()` 函数可以进行矩阵乘法。"
   ]
  },
  {
   "cell_type": "code",
   "execution_count": 22,
   "metadata": {},
   "outputs": [
    {
     "data": {
      "text/plain": [
       "array([9., 8.])"
      ]
     },
     "execution_count": 22,
     "metadata": {},
     "output_type": "execute_result"
    }
   ],
   "source": [
    "np.dot(a, x)           # checking，np.dot 矩阵乘法运算"
   ]
  },
  {
   "cell_type": "code",
   "execution_count": 23,
   "metadata": {},
   "outputs": [
    {
     "data": {
      "text/plain": [
       "array([[6., 3.],\n",
       "       [2., 6.]])"
      ]
     },
     "execution_count": 23,
     "metadata": {},
     "output_type": "execute_result"
    }
   ],
   "source": [
    "a * x"
   ]
  },
  {
   "cell_type": "markdown",
   "metadata": {},
   "source": [
    "---\n",
    "### 4. NumPy 矩阵运算"
   ]
  },
  {
   "cell_type": "markdown",
   "metadata": {},
   "source": [
    "矩阵乘法1"
   ]
  },
  {
   "cell_type": "code",
   "execution_count": null,
   "metadata": {},
   "outputs": [],
   "source": [
    "a = np.matrix([[3, 1], [1, 2]])      \n",
    "a"
   ]
  },
  {
   "cell_type": "code",
   "execution_count": null,
   "metadata": {},
   "outputs": [],
   "source": [
    "x = np.matrix([[2],[4]])\n",
    "x"
   ]
  },
  {
   "cell_type": "code",
   "execution_count": null,
   "metadata": {
    "scrolled": false
   },
   "outputs": [],
   "source": [
    "a * x        #因为是矩阵 matrix 的数据类型，乘法就是矩阵相乘，而不是向量化运算"
   ]
  },
  {
   "cell_type": "markdown",
   "metadata": {},
   "source": [
    "矩阵乘法2"
   ]
  },
  {
   "cell_type": "code",
   "execution_count": null,
   "metadata": {},
   "outputs": [],
   "source": [
    "a = np.array([[3,1],[1,2]])\n",
    "type(a)"
   ]
  },
  {
   "cell_type": "code",
   "execution_count": null,
   "metadata": {},
   "outputs": [],
   "source": [
    "x = np.array([2,4])"
   ]
  },
  {
   "cell_type": "code",
   "execution_count": null,
   "metadata": {},
   "outputs": [],
   "source": [
    "a.dot(x)       # ndarray 的 dot() 方法可以实现矩阵运算"
   ]
  },
  {
   "cell_type": "code",
   "execution_count": null,
   "metadata": {},
   "outputs": [],
   "source": [
    "np.dot(a, x)   # 也可以通过 np.dot() 函数实现"
   ]
  },
  {
   "cell_type": "markdown",
   "metadata": {},
   "source": [
    "矩阵转置"
   ]
  },
  {
   "cell_type": "code",
   "execution_count": null,
   "metadata": {},
   "outputs": [],
   "source": [
    "a = np.matrix([[3, 4], [1, 2]])      \n",
    "a"
   ]
  },
  {
   "cell_type": "code",
   "execution_count": null,
   "metadata": {},
   "outputs": [],
   "source": [
    "a.T"
   ]
  },
  {
   "cell_type": "code",
   "execution_count": null,
   "metadata": {},
   "outputs": [],
   "source": [
    "a = np.array([[3, 4], [1, 2]])\n",
    "a"
   ]
  },
  {
   "cell_type": "code",
   "execution_count": null,
   "metadata": {},
   "outputs": [],
   "source": [
    "a.T"
   ]
  },
  {
   "cell_type": "markdown",
   "metadata": {},
   "source": [
    "---\n",
    "### 5. NumPy 多项式回归"
   ]
  },
  {
   "cell_type": "markdown",
   "metadata": {},
   "source": [
    "求回归系数除了可以用 numpy 的函数以外，用 statsmodels 或者 sk-learn 也是可以很快求出来的；但是追根溯源，sk-learn 也是用的 numpy 来求的"
   ]
  },
  {
   "cell_type": "markdown",
   "metadata": {},
   "source": [
    "#### 5.1 np.polyfit() 计算回归系数"
   ]
  },
  {
   "cell_type": "code",
   "execution_count": null,
   "metadata": {},
   "outputs": [],
   "source": [
    "x = np.array([1,2,3,4,5])\n",
    "y = 5 * x + 2"
   ]
  },
  {
   "cell_type": "code",
   "execution_count": null,
   "metadata": {},
   "outputs": [],
   "source": [
    "y"
   ]
  },
  {
   "cell_type": "code",
   "execution_count": null,
   "metadata": {},
   "outputs": [],
   "source": [
    "reg = np.polyfit(x, y, 1)\n",
    "reg"
   ]
  },
  {
   "cell_type": "code",
   "execution_count": null,
   "metadata": {},
   "outputs": [],
   "source": [
    "x = np.array([1,2,3,4,5])\n",
    "y = 2 * x ** 2 + 6 * x + 9"
   ]
  },
  {
   "cell_type": "code",
   "execution_count": null,
   "metadata": {},
   "outputs": [],
   "source": [
    "reg = np.polyfit(x, y ,2)\n",
    "reg"
   ]
  },
  {
   "cell_type": "markdown",
   "metadata": {},
   "source": [
    "#### 5.2 np.polyval() 计算多项式的值"
   ]
  },
  {
   "cell_type": "code",
   "execution_count": 24,
   "metadata": {},
   "outputs": [
    {
     "data": {
      "text/plain": [
       "17.0"
      ]
     },
     "execution_count": 24,
     "metadata": {},
     "output_type": "execute_result"
    }
   ],
   "source": [
    "np.polyval([ 2.,  6.,  9.], 1)         # 2 * 1 ** 2 + 6 * 1 +9"
   ]
  },
  {
   "cell_type": "code",
   "execution_count": 25,
   "metadata": {},
   "outputs": [
    {
     "data": {
      "text/plain": [
       "45.0"
      ]
     },
     "execution_count": 25,
     "metadata": {},
     "output_type": "execute_result"
    }
   ],
   "source": [
    "np.polyval([ 2.,  6.,  9.], 3)         # 2 * 3 ** 2 + 6 * 3 +9"
   ]
  },
  {
   "cell_type": "code",
   "execution_count": 26,
   "metadata": {},
   "outputs": [
    {
     "data": {
      "text/plain": [
       "76"
      ]
     },
     "execution_count": 26,
     "metadata": {},
     "output_type": "execute_result"
    }
   ],
   "source": [
    "np.polyval([3, 0, 1], 5)               # 3 * 5 ** 2 + 1"
   ]
  },
  {
   "cell_type": "markdown",
   "metadata": {},
   "source": [
    "**例：工作年限与工资的回归分析**"
   ]
  },
  {
   "cell_type": "code",
   "execution_count": 27,
   "metadata": {},
   "outputs": [],
   "source": [
    "import pandas as pd"
   ]
  },
  {
   "cell_type": "code",
   "execution_count": 28,
   "metadata": {
    "collapsed": true
   },
   "outputs": [
    {
     "data": {
      "text/html": [
       "<div>\n",
       "<style scoped>\n",
       "    .dataframe tbody tr th:only-of-type {\n",
       "        vertical-align: middle;\n",
       "    }\n",
       "\n",
       "    .dataframe tbody tr th {\n",
       "        vertical-align: top;\n",
       "    }\n",
       "\n",
       "    .dataframe thead th {\n",
       "        text-align: right;\n",
       "    }\n",
       "</style>\n",
       "<table border=\"1\" class=\"dataframe\">\n",
       "  <thead>\n",
       "    <tr style=\"text-align: right;\">\n",
       "      <th></th>\n",
       "      <th>YearsExperience</th>\n",
       "      <th>Salary</th>\n",
       "    </tr>\n",
       "  </thead>\n",
       "  <tbody>\n",
       "    <tr>\n",
       "      <th>0</th>\n",
       "      <td>1.1</td>\n",
       "      <td>39343.0</td>\n",
       "    </tr>\n",
       "    <tr>\n",
       "      <th>1</th>\n",
       "      <td>1.3</td>\n",
       "      <td>46205.0</td>\n",
       "    </tr>\n",
       "    <tr>\n",
       "      <th>2</th>\n",
       "      <td>1.5</td>\n",
       "      <td>37731.0</td>\n",
       "    </tr>\n",
       "    <tr>\n",
       "      <th>3</th>\n",
       "      <td>2.0</td>\n",
       "      <td>43525.0</td>\n",
       "    </tr>\n",
       "    <tr>\n",
       "      <th>4</th>\n",
       "      <td>2.2</td>\n",
       "      <td>39891.0</td>\n",
       "    </tr>\n",
       "    <tr>\n",
       "      <th>5</th>\n",
       "      <td>2.9</td>\n",
       "      <td>56642.0</td>\n",
       "    </tr>\n",
       "    <tr>\n",
       "      <th>6</th>\n",
       "      <td>3.0</td>\n",
       "      <td>60150.0</td>\n",
       "    </tr>\n",
       "    <tr>\n",
       "      <th>7</th>\n",
       "      <td>3.2</td>\n",
       "      <td>54445.0</td>\n",
       "    </tr>\n",
       "    <tr>\n",
       "      <th>8</th>\n",
       "      <td>3.2</td>\n",
       "      <td>64445.0</td>\n",
       "    </tr>\n",
       "    <tr>\n",
       "      <th>9</th>\n",
       "      <td>3.7</td>\n",
       "      <td>57189.0</td>\n",
       "    </tr>\n",
       "    <tr>\n",
       "      <th>10</th>\n",
       "      <td>3.9</td>\n",
       "      <td>63218.0</td>\n",
       "    </tr>\n",
       "    <tr>\n",
       "      <th>11</th>\n",
       "      <td>4.0</td>\n",
       "      <td>55794.0</td>\n",
       "    </tr>\n",
       "    <tr>\n",
       "      <th>12</th>\n",
       "      <td>4.0</td>\n",
       "      <td>56957.0</td>\n",
       "    </tr>\n",
       "    <tr>\n",
       "      <th>13</th>\n",
       "      <td>4.1</td>\n",
       "      <td>57081.0</td>\n",
       "    </tr>\n",
       "    <tr>\n",
       "      <th>14</th>\n",
       "      <td>4.5</td>\n",
       "      <td>61111.0</td>\n",
       "    </tr>\n",
       "    <tr>\n",
       "      <th>15</th>\n",
       "      <td>4.9</td>\n",
       "      <td>67938.0</td>\n",
       "    </tr>\n",
       "    <tr>\n",
       "      <th>16</th>\n",
       "      <td>5.1</td>\n",
       "      <td>66029.0</td>\n",
       "    </tr>\n",
       "    <tr>\n",
       "      <th>17</th>\n",
       "      <td>5.3</td>\n",
       "      <td>83088.0</td>\n",
       "    </tr>\n",
       "    <tr>\n",
       "      <th>18</th>\n",
       "      <td>5.9</td>\n",
       "      <td>81363.0</td>\n",
       "    </tr>\n",
       "    <tr>\n",
       "      <th>19</th>\n",
       "      <td>6.0</td>\n",
       "      <td>93940.0</td>\n",
       "    </tr>\n",
       "    <tr>\n",
       "      <th>20</th>\n",
       "      <td>6.8</td>\n",
       "      <td>91738.0</td>\n",
       "    </tr>\n",
       "    <tr>\n",
       "      <th>21</th>\n",
       "      <td>7.1</td>\n",
       "      <td>98273.0</td>\n",
       "    </tr>\n",
       "    <tr>\n",
       "      <th>22</th>\n",
       "      <td>7.9</td>\n",
       "      <td>101302.0</td>\n",
       "    </tr>\n",
       "    <tr>\n",
       "      <th>23</th>\n",
       "      <td>8.2</td>\n",
       "      <td>113812.0</td>\n",
       "    </tr>\n",
       "    <tr>\n",
       "      <th>24</th>\n",
       "      <td>8.7</td>\n",
       "      <td>109431.0</td>\n",
       "    </tr>\n",
       "    <tr>\n",
       "      <th>25</th>\n",
       "      <td>9.0</td>\n",
       "      <td>105582.0</td>\n",
       "    </tr>\n",
       "    <tr>\n",
       "      <th>26</th>\n",
       "      <td>9.5</td>\n",
       "      <td>116969.0</td>\n",
       "    </tr>\n",
       "    <tr>\n",
       "      <th>27</th>\n",
       "      <td>9.6</td>\n",
       "      <td>112635.0</td>\n",
       "    </tr>\n",
       "    <tr>\n",
       "      <th>28</th>\n",
       "      <td>10.3</td>\n",
       "      <td>122391.0</td>\n",
       "    </tr>\n",
       "    <tr>\n",
       "      <th>29</th>\n",
       "      <td>10.5</td>\n",
       "      <td>121872.0</td>\n",
       "    </tr>\n",
       "  </tbody>\n",
       "</table>\n",
       "</div>"
      ],
      "text/plain": [
       "    YearsExperience    Salary\n",
       "0               1.1   39343.0\n",
       "1               1.3   46205.0\n",
       "2               1.5   37731.0\n",
       "3               2.0   43525.0\n",
       "4               2.2   39891.0\n",
       "5               2.9   56642.0\n",
       "6               3.0   60150.0\n",
       "7               3.2   54445.0\n",
       "8               3.2   64445.0\n",
       "9               3.7   57189.0\n",
       "10              3.9   63218.0\n",
       "11              4.0   55794.0\n",
       "12              4.0   56957.0\n",
       "13              4.1   57081.0\n",
       "14              4.5   61111.0\n",
       "15              4.9   67938.0\n",
       "16              5.1   66029.0\n",
       "17              5.3   83088.0\n",
       "18              5.9   81363.0\n",
       "19              6.0   93940.0\n",
       "20              6.8   91738.0\n",
       "21              7.1   98273.0\n",
       "22              7.9  101302.0\n",
       "23              8.2  113812.0\n",
       "24              8.7  109431.0\n",
       "25              9.0  105582.0\n",
       "26              9.5  116969.0\n",
       "27              9.6  112635.0\n",
       "28             10.3  122391.0\n",
       "29             10.5  121872.0"
      ]
     },
     "execution_count": 28,
     "metadata": {},
     "output_type": "execute_result"
    }
   ],
   "source": [
    "data = pd.read_csv('Salary_Data.csv')\n",
    "data"
   ]
  },
  {
   "cell_type": "code",
   "execution_count": 29,
   "metadata": {},
   "outputs": [],
   "source": [
    "experience = data['YearsExperience']\n",
    "salary = data['Salary']"
   ]
  },
  {
   "cell_type": "code",
   "execution_count": 30,
   "metadata": {},
   "outputs": [
    {
     "data": {
      "text/plain": [
       "<matplotlib.collections.PathCollection at 0x2a55e6af760>"
      ]
     },
     "execution_count": 30,
     "metadata": {},
     "output_type": "execute_result"
    },
    {
     "data": {
      "image/png": "[encoded data removed]",
      "text/plain": [
       "<Figure size 432x288 with 1 Axes>"
      ]
     },
     "metadata": {
      "needs_background": "light"
     },
     "output_type": "display_data"
    }
   ],
   "source": [
    "plt.scatter(experience, salary)"
   ]
  },
  {
   "cell_type": "code",
   "execution_count": null,
   "metadata": {
    "scrolled": true
   },
   "outputs": [],
   "source": [
    "reg = np.polyfit(experience, salary, 1)\n",
    "reg"
   ]
  },
  {
   "cell_type": "code",
   "execution_count": null,
   "metadata": {},
   "outputs": [],
   "source": [
    "np.polyval(reg, 10)"
   ]
  },
  {
   "cell_type": "code",
   "execution_count": null,
   "metadata": {},
   "outputs": [],
   "source": [
    "plt.plot(experience, np.polyval(reg, experience), 'r')\n",
    "plt.scatter(experience, salary)"
   ]
  },
  {
   "cell_type": "markdown",
   "metadata": {},
   "source": [
    "**例：多项式回归**"
   ]
  },
  {
   "cell_type": "code",
   "execution_count": 42,
   "metadata": {
    "collapsed": true
   },
   "outputs": [
    {
     "data": {
      "text/plain": [
       "array([-1.74976547e+00,  3.42680403e-01,  1.15303580e+00, -2.52436037e-01,\n",
       "        9.81320787e-01,  5.14218841e-01,  2.21179669e-01, -1.07004333e+00,\n",
       "       -1.89495831e-01,  2.55001444e-01, -4.58026986e-01,  4.35163488e-01,\n",
       "       -5.83595050e-01,  8.16847072e-01,  6.72720806e-01, -1.04411143e-01,\n",
       "       -5.31280377e-01,  1.02973269e+00, -4.38135623e-01, -1.11831825e+00,\n",
       "        1.61898166e+00,  1.54160517e+00, -2.51879139e-01, -8.42435738e-01,\n",
       "        1.84518691e-01,  9.37082201e-01,  7.31000344e-01,  1.36155613e+00,\n",
       "       -3.26238059e-01,  5.56760149e-02,  2.22399609e-01, -1.44321700e+00,\n",
       "       -7.56352306e-01,  8.16454011e-01,  7.50444762e-01, -4.55946927e-01,\n",
       "        1.18962227e+00, -1.69061683e+00, -1.35639905e+00, -1.23243451e+00,\n",
       "       -5.44439162e-01, -6.68171737e-01,  7.31456323e-03, -6.12938735e-01,\n",
       "        1.29974807e+00, -1.73309562e+00, -9.83310099e-01,  3.57507753e-01,\n",
       "       -1.61357850e+00,  1.47071387e+00, -1.18801760e+00, -5.49746194e-01,\n",
       "       -9.40046162e-01, -8.27932364e-01,  1.08863468e-01,  5.07809590e-01,\n",
       "       -8.62227347e-01,  1.24946974e+00, -7.96112459e-02, -8.89731481e-01,\n",
       "       -8.81798389e-01,  1.86389495e-02,  2.37844622e-01,  1.35485486e-02,\n",
       "       -1.63552940e+00, -1.04420988e+00,  6.13038882e-01,  7.36205213e-01,\n",
       "        1.02692144e+00, -1.43219061e+00, -1.84118830e+00,  3.66093226e-01,\n",
       "       -3.31777135e-01, -6.89217978e-01,  2.03460756e+00, -5.50714412e-01,\n",
       "        7.50453330e-01, -1.30699234e+00,  5.80573336e-01, -1.10452309e+00,\n",
       "        6.90121470e-01,  6.86890066e-01, -1.56668753e+00,  9.04974121e-01,\n",
       "        7.78822399e-01,  4.28232871e-01,  1.08871990e-01,  2.82836348e-02,\n",
       "       -5.78825825e-01, -1.19945120e+00, -1.70595201e+00,  3.69163957e-01,\n",
       "        1.87657343e+00, -3.76903350e-01,  1.83193608e+00,  3.01743403e-03,\n",
       "       -7.60234657e-02,  3.95759399e-03, -1.85014111e-01, -2.48715154e+00,\n",
       "       -1.70465121e+00, -1.13626101e+00, -2.97331547e+00,  3.33172781e-02,\n",
       "       -2.48888667e-01, -4.50176435e-01,  1.32427801e-01,  2.22139280e-02,\n",
       "        3.17367976e-01, -7.52414178e-01, -1.29639181e+00,  9.51394436e-02,\n",
       "       -4.23715100e-01, -1.18598356e+00, -3.65461993e-01, -1.27102304e+00,\n",
       "        1.58617094e+00,  6.93390659e-01, -1.95808123e+00, -1.34801312e-01,\n",
       "       -1.54061602e+00,  2.04671397e+00, -1.39699934e+00, -1.09717198e+00,\n",
       "       -2.38712869e-01, -1.42906690e+00,  9.49004777e-01, -1.93975860e-02,\n",
       "        8.94597706e-01,  7.59693120e-01, -1.49772038e+00, -1.19388598e+00,\n",
       "        1.29626259e+00,  9.52275626e-01, -1.21725413e+00, -1.57265167e-01,\n",
       "       -1.50758516e+00,  1.07884131e-01,  7.47055655e-01,  4.29676436e-01,\n",
       "       -1.41504292e+00, -6.40759923e-01,  7.79626304e-01, -4.38120916e-01,\n",
       "        2.07479317e+00, -3.43297682e-01, -6.16629372e-01,  7.63183646e-01,\n",
       "        1.92917192e-01, -3.48458931e-01,  2.29865394e+00, -1.65209553e-01,\n",
       "        4.66299368e-01,  2.69987239e-01, -3.19831047e-01, -1.14774160e+00,\n",
       "        1.70362399e+00, -7.22150770e-01,  1.09368665e+00, -2.29517753e-01,\n",
       "       -8.89866329e-03, -5.43198008e-01,  7.53062188e-01, -1.60943890e+00,\n",
       "        1.94326226e+00, -1.44743611e+00,  1.30248455e-01,  9.49360865e-01,\n",
       "       -2.01518872e+00, -7.95405869e-02,  3.01049464e-01, -1.68489996e+00,\n",
       "        2.22390809e-01, -6.84921735e-01, -1.26201184e-01,  1.99027365e+00,\n",
       "        5.22997805e-01, -1.63454028e-02, -4.15816336e-01, -1.35850294e+00,\n",
       "       -5.14429891e-01, -2.16060120e-01,  4.22380220e-01, -1.09404293e+00,\n",
       "        1.23690789e+00, -2.30284678e-01, -7.04418200e-01, -5.91375121e-01,\n",
       "        7.36995169e-01,  4.35867253e-01,  1.77599359e+00,  5.13074379e-01,\n",
       "        1.17052698e+00,  2.07771223e+00, -4.55922019e-01,  6.49172927e-01,\n",
       "       -1.74781554e-01,  1.01726434e+00, -5.99983045e-01,  1.57616672e+00,\n",
       "        6.04423539e-01, -9.07030417e-01,  5.92023269e-01, -4.37064416e-01,\n",
       "        1.01775773e-01,  1.30834683e+00,  1.38760181e+00, -1.73539115e+00,\n",
       "        2.88377420e-01, -3.39085433e-01,  5.27369133e-01, -3.74302884e-01,\n",
       "        4.77092297e-01, -1.42976266e+00,  4.07706525e-01, -8.28280393e-01,\n",
       "        4.23457282e-01, -1.59517365e-01,  1.24108209e+00,  1.66353631e+00,\n",
       "       -6.61937715e-01,  3.46522715e+00,  3.91438619e-01,  3.27245353e-01,\n",
       "       -3.11347061e-01, -1.42465559e+00, -6.24872185e-01, -1.09995396e-01,\n",
       "        9.52959428e-01, -9.83362644e-01, -1.09455719e+00, -2.41348750e-01,\n",
       "       -5.95113839e-01, -9.82811895e-01,  8.82299344e-02, -6.02759370e-01,\n",
       "        1.12555545e+00,  9.27053299e-01, -2.26915699e+00, -3.48170638e-01,\n",
       "       -1.64025403e-01,  1.21658059e+00, -6.26853905e-01, -2.74939808e-01,\n",
       "        1.14745744e+00,  1.15996897e+00,  7.02184505e-01, -1.28390481e+00,\n",
       "        1.52230777e+00, -1.79963318e-01, -3.76147368e-01,  4.60349211e-01,\n",
       "        1.45542146e+00,  2.41506888e-01, -3.76666706e-02,  8.31533030e-01,\n",
       "        2.29936947e+00, -9.39602443e-01,  1.11822579e-01,  2.53943203e+00,\n",
       "        4.03598415e-01, -1.88483439e+00,  1.27745203e+00, -4.45588264e-01,\n",
       "       -1.27031804e+00,  6.35501168e-01, -2.98435671e-01, -4.02289922e-01,\n",
       "       -5.36640427e-01,  8.23124402e-01,  2.51919033e-02,  1.51753613e+00,\n",
       "        3.69611151e-01, -4.80632162e-01,  1.04233274e+00,  1.09887599e+00,\n",
       "       -2.13291037e+00,  7.59204331e-01, -2.85180870e-01,  4.80411411e-01,\n",
       "        4.68000688e-01,  2.70900195e+00,  2.01908612e+00,  7.47403418e-01,\n",
       "       -5.89708587e-01, -8.13424825e-01, -1.76896864e-01,  5.07047502e-01,\n",
       "       -2.66778164e-01, -8.56062022e-01,  1.55931486e+00, -1.09268886e+00,\n",
       "        7.58042498e-01, -1.19943997e+00,  1.76370478e-01, -8.75730842e-01,\n",
       "        1.17608456e-01, -9.58168336e-01, -1.88111465e+00,  1.82342727e-01,\n",
       "       -5.48492280e-01, -5.26349698e-02,  3.17339052e+00,  3.33420352e+00,\n",
       "        1.60337200e+00,  1.01289623e+00,  1.84452321e+00, -3.36143628e-01,\n",
       "        4.98750489e-01, -1.07782608e+00,  5.76934060e-01,  8.65248486e-02,\n",
       "        3.83788848e-01,  1.33473076e+00,  1.67179119e+00, -3.13007732e-01,\n",
       "        1.23552629e-01,  1.54772910e+00, -1.07889177e-01,  1.00339756e+00,\n",
       "        8.87671781e-01,  8.86497906e-02, -1.32457810e+00,  2.38384645e-01,\n",
       "        1.19666146e+00, -4.64842570e-01, -1.13667271e+00,  2.48494625e-01,\n",
       "        3.50692814e-01, -1.32076715e-01, -5.25645195e-01, -5.84889332e-01,\n",
       "       -9.29247198e-01,  3.98416420e-01, -1.35590786e+00, -1.71158305e+00,\n",
       "        1.58598596e-01,  2.13248673e+00,  2.72133361e+00, -1.97286405e+00,\n",
       "        5.39812919e-01,  5.43173180e-01,  9.63744531e-01,  1.25372613e+00,\n",
       "       -2.20130564e-01, -2.52270040e-01,  1.00371394e-02,  4.80288382e-01,\n",
       "       -1.95696755e+00, -5.64484658e-01, -1.16323582e+00, -2.11757743e-02,\n",
       "        3.31071683e-01, -3.66496249e-01,  8.60475407e-01, -2.46597300e-01,\n",
       "        1.49053310e+00, -3.99391377e-01,  3.25206292e-01, -6.54280854e-01,\n",
       "       -1.91227513e-02,  9.92941649e-01, -1.29596559e-01, -1.70830408e-01,\n",
       "        7.90428090e-01,  1.09181591e+00, -4.05083264e-01,  5.36443937e-01,\n",
       "       -2.13131466e+00,  2.63076689e-01, -1.27105799e+00,  9.29100113e-01,\n",
       "       -1.93141286e+00,  2.42153406e-02, -1.21369154e+00,  1.88136957e-01,\n",
       "       -5.72263899e-01,  2.74511796e+00,  1.24953979e-01, -1.06524615e+00,\n",
       "        6.03053698e-01, -1.06146764e+00, -1.51643050e+00,  3.29282505e-01,\n",
       "       -1.98362094e+00,  1.67136784e-01, -1.78894000e-01,  1.17823916e+00,\n",
       "       -4.43407986e-01,  7.38953901e-01, -1.54848455e-01, -8.60556434e-02,\n",
       "       -3.35756839e-01, -1.36629379e-01,  9.27764250e-02,  1.89718792e-01,\n",
       "       -2.04867192e+00,  7.83786078e-01, -2.32984562e-01, -1.18441143e+00,\n",
       "       -1.97797290e-01, -8.54672789e-01,  2.35974959e-02, -1.70456468e-01,\n",
       "       -1.06966627e+00,  2.25838746e-01, -8.67659498e-01,  4.18415239e-01,\n",
       "       -2.30525815e+00,  1.62155600e-01, -5.78841121e-01, -3.99284635e-01,\n",
       "        1.48789443e+00, -3.57816852e-01,  3.56430894e-01,  1.03128220e+00,\n",
       "        1.52254309e+00, -1.01648111e+00,  1.12841475e+00, -9.27248599e-01,\n",
       "       -1.19277138e+00,  1.37485942e+00, -7.03236951e-01,  2.44207071e-01,\n",
       "        1.03234591e+00,  1.61693990e+00, -5.48302373e-02, -2.48011348e-01,\n",
       "       -3.96724950e-01, -3.35470273e-02,  1.03291805e+00, -1.98982224e+00,\n",
       "       -2.78033717e-01,  7.65695426e-01,  7.44149568e-01, -1.72319332e+00,\n",
       "        1.03039243e+00,  5.97147707e-02, -9.34215838e-01, -1.06244114e+00,\n",
       "       -6.29445861e-01, -3.02284425e-01,  1.03963889e+00, -9.30969653e-01,\n",
       "       -1.27762908e+00, -9.44320026e-01, -3.18807423e-01, -2.08427088e+00,\n",
       "        1.27031154e+00,  3.08777530e-02,  6.53175852e-01,  5.58346902e-01,\n",
       "        1.36397537e-01, -3.37338411e-01, -1.33716505e+00, -4.11490952e-01,\n",
       "       -1.07776194e-01,  5.22917363e-01,  9.56149979e-01,  1.20332059e+00,\n",
       "       -9.76231522e-01, -7.51525704e-02,  3.52806583e-01,  4.90374615e-02,\n",
       "        1.28601747e+00, -2.67225301e-01,  1.32423802e+00, -2.67591922e-01,\n",
       "       -4.69406223e-01, -1.42575628e+00,  8.05492106e-01,  1.35476914e+00,\n",
       "        8.25559181e-01, -2.58689590e-01,  7.57499524e-01, -7.04455703e-01,\n",
       "        1.21131851e+00, -1.84223417e+00, -3.68245564e-01, -1.54799256e+00,\n",
       "       -4.51672271e-01, -1.13754240e+00, -1.35876752e-01,  6.34379094e-01,\n",
       "       -1.35579180e-02,  3.75896827e-01, -2.36582353e-01,  9.79141336e-01,\n",
       "        1.09374820e+00, -1.38362216e+00,  1.01013388e+00,  8.72663126e-01,\n",
       "        1.03761234e+00,  3.02547702e-01, -1.29811748e+00,  8.47863718e-01,\n",
       "       -2.68876399e-01,  3.01982992e-01, -2.27190550e+00,  7.57604988e-01])"
      ]
     },
     "execution_count": 42,
     "metadata": {},
     "output_type": "execute_result"
    }
   ],
   "source": [
    "np.random.seed(100)\n",
    "data = np.random.randn(500)\n",
    "data"
   ]
  },
  {
   "cell_type": "code",
   "execution_count": 34,
   "metadata": {
    "scrolled": true
   },
   "outputs": [],
   "source": [
    "x = np.arange(500)\n",
    "y = data.cumsum()"
   ]
  },
  {
   "cell_type": "code",
   "execution_count": 35,
   "metadata": {},
   "outputs": [
    {
     "data": {
      "text/plain": [
       "<matplotlib.collections.PathCollection at 0x2a55e6f8a60>"
      ]
     },
     "execution_count": 35,
     "metadata": {},
     "output_type": "execute_result"
    },
    {
     "data": {
      "image/png": "[encoded data removed]",
      "text/plain": [
       "<Figure size 432x288 with 1 Axes>"
      ]
     },
     "metadata": {
      "needs_background": "light"
     },
     "output_type": "display_data"
    }
   ],
   "source": [
    "plt.scatter(x, y)"
   ]
  },
  {
   "cell_type": "code",
   "execution_count": 36,
   "metadata": {},
   "outputs": [
    {
     "data": {
      "text/plain": [
       "array([  0.02951261, -13.82129082])"
      ]
     },
     "execution_count": 36,
     "metadata": {},
     "output_type": "execute_result"
    }
   ],
   "source": [
    "rg1 = np.polyfit(x, y, 1)            # 一次项拟合 y = a * x + b\n",
    "rg1                                  # 返回 array([a, b])"
   ]
  },
  {
   "cell_type": "code",
   "execution_count": 37,
   "metadata": {},
   "outputs": [
    {
     "data": {
      "text/plain": [
       "array([ 1.85481129e-04, -6.30424750e-02, -6.13921892e+00])"
      ]
     },
     "execution_count": 37,
     "metadata": {},
     "output_type": "execute_result"
    }
   ],
   "source": [
    "rg2 = np.polyfit(x, y, 2)            # 二次项拟合 y = a * x ** 2 + b * x + c\n",
    "rg2                                  # 返回 array([a, b, c])"
   ]
  },
  {
   "cell_type": "code",
   "execution_count": 49,
   "metadata": {},
   "outputs": [
    {
     "data": {
      "text/plain": [
       "array([ 2.06581877e-14,  7.67013613e-11, -1.18647020e-07,  5.36043784e-05,\n",
       "       -8.59707113e-03,  2.92744470e-01, -8.66884640e-01])"
      ]
     },
     "execution_count": 49,
     "metadata": {},
     "output_type": "execute_result"
    }
   ],
   "source": [
    "rg3 = np.polyfit(x, y, 6)            # 三次项拟合 y = a * x ** 3 + b * x ** 2 + c * x + d\n",
    "rg3                                  # 返回 array([a, b, c, d])"
   ]
  },
  {
   "cell_type": "code",
   "execution_count": 50,
   "metadata": {},
   "outputs": [
    {
     "data": {
      "text/plain": [
       "<matplotlib.legend.Legend at 0x2a55e99a370>"
      ]
     },
     "execution_count": 50,
     "metadata": {},
     "output_type": "execute_result"
    },
    {
     "data": {
      "image/png": "[encoded data removed]",
      "text/plain": [
       "<Figure size 720x432 with 1 Axes>"
      ]
     },
     "metadata": {
      "needs_background": "light"
     },
     "output_type": "display_data"
    }
   ],
   "source": [
    "plt.figure(figsize=(10, 6)) \n",
    "plt.scatter(x, y) \n",
    "plt.plot(np.polyval(rg1, x), 'b--', label='linear') \n",
    "plt.plot(np.polyval(rg2, x), 'g-.', label='quadratic') \n",
    "plt.plot(np.polyval(rg3, x), 'm:', label='cubic') \n",
    "plt.legend()"
   ]
  },
  {
   "cell_type": "markdown",
   "metadata": {},
   "source": [
    "声明：本资料仅限内部研究和交流使用，切勿外传。"
   ]
  },
  {
   "cell_type": "code",
   "execution_count": null,
   "metadata": {},
   "outputs": [],
   "source": []
  }
 ],
 "metadata": {
  "kernelspec": {
   "display_name": "Python 3 (ipykernel)",
   "language": "python",
   "name": "python3"
  },
  "language_info": {
   "codemirror_mode": {
    "name": "ipython",
    "version": 3
   },
   "file_extension": ".py",
   "mimetype": "text/x-python",
   "name": "python",
   "nbconvert_exporter": "python",
   "pygments_lexer": "ipython3",
   "version": "3.9.12"
  }
 },
 "nbformat": 4,
 "nbformat_minor": 2
}
