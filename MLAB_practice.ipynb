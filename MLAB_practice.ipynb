{
 "cells": [
  {
   "cell_type": "markdown",
   "metadata": {},
   "source": [
    "## 机器学习算法基础案例"
   ]
  },
  {
   "cell_type": "code",
   "execution_count": null,
   "metadata": {},
   "outputs": [],
   "source": [
    "#pip install -U scikit-learn  # install the package sklearn"
   ]
  },
  {
   "cell_type": "code",
   "execution_count": 1,
   "metadata": {},
   "outputs": [],
   "source": [
    "import matplotlib.pyplot as plt\n",
    "from visualization import plot_pic\n",
    "import warnings; warnings.simplefilter('ignore') #忽略可能会出现的警告信息，警告并不是错误，可以忽略；\n"
   ]
  },
  {
   "cell_type": "markdown",
   "metadata": {},
   "source": [
    "### 1.数据集生成及特征工程处理"
   ]
  },
  {
   "cell_type": "code",
   "execution_count": 4,
   "metadata": {},
   "outputs": [
    {
     "name": "stdout",
     "output_type": "stream",
     "text": [
      "login success!\n",
      "login respond error_code:0\n",
      "login respond  error_msg:success\n"
     ]
    }
   ],
   "source": [
    "import baostock as bs\n",
    "lg = bs.login()\n",
    "print('login respond error_code:'+lg.error_code)\n",
    "print('login respond  error_msg:'+lg.error_msg)"
   ]
  },
  {
   "cell_type": "code",
   "execution_count": 5,
   "metadata": {},
   "outputs": [],
   "source": [
    "import numpy as np"
   ]
  },
  {
   "cell_type": "code",
   "execution_count": 9,
   "metadata": {},
   "outputs": [
    {
     "name": "stdout",
     "output_type": "stream",
     "text": [
      "login success!\n",
      "query_hs300 error_code:0\n",
      "query_hs300  error_msg:success\n",
      "     updateDate       code code_name\n",
      "0    2024-08-26  sh.600000      浦发银行\n",
      "1    2024-08-26  sh.600009      上海机场\n",
      "2    2024-08-26  sh.600010      包钢股份\n",
      "3    2024-08-26  sh.600011      华能国际\n",
      "4    2024-08-26  sh.600015      华夏银行\n",
      "..          ...        ...       ...\n",
      "295  2024-08-26  sz.300919      中伟股份\n",
      "296  2024-08-26  sz.300957       贝泰妮\n",
      "297  2024-08-26  sz.300979      华利集团\n",
      "298  2024-08-26  sz.300999       金龙鱼\n",
      "299  2024-08-26  sz.301269      华大九天\n",
      "\n",
      "[300 rows x 3 columns]\n",
      "logout success!\n"
     ]
    },
    {
     "data": {
      "text/plain": [
       "<baostock.data.resultset.ResultData at 0x2d5a1107fa0>"
      ]
     },
     "execution_count": 9,
     "metadata": {},
     "output_type": "execute_result"
    }
   ],
   "source": [
    "import pandas as pd\n",
    "#hs300 = ts.get_k_data('hs300', start = '2019-01-01', end = '2022-06-25')   #训练集数据\n",
    "lg = bs.login()\n",
    "# 获取沪深300成分股\n",
    "hs300 = bs.query_hs300_stocks()\n",
    "print('query_hs300 error_code:'+hs300.error_code)\n",
    "print('query_hs300  error_msg:'+hs300.error_msg)\n",
    "\n",
    "# 打印结果集\n",
    "hs300_stocks = []\n",
    "while (hs300.error_code == '0') & hs300.next():\n",
    "    # 获取一条记录，将记录合并在一起\n",
    "    hs300_stocks.append(hs300.get_row_data())\n",
    "result = pd.DataFrame(hs300_stocks, columns=hs300.fields)\n",
    "# 结果集输出到csv文件\n",
    "result.to_csv(r\"E:\\AQF\\hs300_stocks.csv\", encoding=\"gbk\", index=False)\n",
    "print(result)\n",
    "\n",
    "# 登出系统\n",
    "bs.logout()\n"
   ]
  },
  {
   "cell_type": "code",
   "execution_count": 2,
   "metadata": {},
   "outputs": [],
   "source": [
    "# 生成测试数据集\n",
    "from produce_data import produce_data\n",
    "data = produce_data()"
   ]
  },
  {
   "cell_type": "code",
   "execution_count": 60,
   "metadata": {
    "jupyter": {
     "outputs_hidden": false
    },
    "scrolled": true
   },
   "outputs": [
    {
     "data": {
      "text/html": [
       "<div>\n",
       "<style scoped>\n",
       "    .dataframe tbody tr th:only-of-type {\n",
       "        vertical-align: middle;\n",
       "    }\n",
       "\n",
       "    .dataframe tbody tr th {\n",
       "        vertical-align: top;\n",
       "    }\n",
       "\n",
       "    .dataframe thead th {\n",
       "        text-align: right;\n",
       "    }\n",
       "</style>\n",
       "<table border=\"1\" class=\"dataframe\">\n",
       "  <thead>\n",
       "    <tr style=\"text-align: right;\">\n",
       "      <th></th>\n",
       "      <th>practice</th>\n",
       "      <th>time_period</th>\n",
       "      <th>error</th>\n",
       "      <th>label</th>\n",
       "    </tr>\n",
       "  </thead>\n",
       "  <tbody>\n",
       "    <tr>\n",
       "      <th>0</th>\n",
       "      <td>0.548814</td>\n",
       "      <td>0.592880</td>\n",
       "      <td>0.811518</td>\n",
       "      <td>1.0</td>\n",
       "    </tr>\n",
       "    <tr>\n",
       "      <th>1</th>\n",
       "      <td>0.715189</td>\n",
       "      <td>0.010064</td>\n",
       "      <td>0.476084</td>\n",
       "      <td>0.0</td>\n",
       "    </tr>\n",
       "    <tr>\n",
       "      <th>2</th>\n",
       "      <td>0.602763</td>\n",
       "      <td>0.475826</td>\n",
       "      <td>0.523156</td>\n",
       "      <td>1.0</td>\n",
       "    </tr>\n",
       "    <tr>\n",
       "      <th>3</th>\n",
       "      <td>0.544883</td>\n",
       "      <td>0.708770</td>\n",
       "      <td>0.250521</td>\n",
       "      <td>1.0</td>\n",
       "    </tr>\n",
       "    <tr>\n",
       "      <th>4</th>\n",
       "      <td>0.423655</td>\n",
       "      <td>0.043975</td>\n",
       "      <td>0.605043</td>\n",
       "      <td>0.0</td>\n",
       "    </tr>\n",
       "    <tr>\n",
       "      <th>...</th>\n",
       "      <td>...</td>\n",
       "      <td>...</td>\n",
       "      <td>...</td>\n",
       "      <td>...</td>\n",
       "    </tr>\n",
       "    <tr>\n",
       "      <th>995</th>\n",
       "      <td>0.097676</td>\n",
       "      <td>0.791282</td>\n",
       "      <td>0.941687</td>\n",
       "      <td>0.0</td>\n",
       "    </tr>\n",
       "    <tr>\n",
       "      <th>996</th>\n",
       "      <td>0.514922</td>\n",
       "      <td>0.721198</td>\n",
       "      <td>0.546133</td>\n",
       "      <td>1.0</td>\n",
       "    </tr>\n",
       "    <tr>\n",
       "      <th>997</th>\n",
       "      <td>0.938412</td>\n",
       "      <td>0.480108</td>\n",
       "      <td>0.323614</td>\n",
       "      <td>1.0</td>\n",
       "    </tr>\n",
       "    <tr>\n",
       "      <th>998</th>\n",
       "      <td>0.228647</td>\n",
       "      <td>0.643864</td>\n",
       "      <td>0.813545</td>\n",
       "      <td>1.0</td>\n",
       "    </tr>\n",
       "    <tr>\n",
       "      <th>999</th>\n",
       "      <td>0.677141</td>\n",
       "      <td>0.501773</td>\n",
       "      <td>0.697400</td>\n",
       "      <td>1.0</td>\n",
       "    </tr>\n",
       "  </tbody>\n",
       "</table>\n",
       "<p>1000 rows × 4 columns</p>\n",
       "</div>"
      ],
      "text/plain": [
       "     practice  time_period     error  label\n",
       "0    0.548814     0.592880  0.811518    1.0\n",
       "1    0.715189     0.010064  0.476084    0.0\n",
       "2    0.602763     0.475826  0.523156    1.0\n",
       "3    0.544883     0.708770  0.250521    1.0\n",
       "4    0.423655     0.043975  0.605043    0.0\n",
       "..        ...          ...       ...    ...\n",
       "995  0.097676     0.791282  0.941687    0.0\n",
       "996  0.514922     0.721198  0.546133    1.0\n",
       "997  0.938412     0.480108  0.323614    1.0\n",
       "998  0.228647     0.643864  0.813545    1.0\n",
       "999  0.677141     0.501773  0.697400    1.0\n",
       "\n",
       "[1000 rows x 4 columns]"
      ]
     },
     "execution_count": 60,
     "metadata": {},
     "output_type": "execute_result"
    }
   ],
   "source": [
    "data"
   ]
  },
  {
   "cell_type": "code",
   "execution_count": 17,
   "metadata": {},
   "outputs": [
    {
     "name": "stdout",
     "output_type": "stream",
     "text": [
      "login success!\n",
      "query_history_k_data_plus respond error_code:0\n",
      "query_history_k_data_plus respond  error_msg:success\n",
      "           date       code       open       high        low      close  \\\n",
      "0    2019-01-02  sh.000300  3017.0670  3018.7750  2958.4880  2969.5350   \n",
      "1    2019-01-03  sh.000300  2963.0180  3000.4410  2953.2540  2964.8420   \n",
      "2    2019-01-04  sh.000300  2940.1910  3036.8140  2935.8290  3035.8740   \n",
      "3    2019-01-07  sh.000300  3055.1530  3061.7490  3035.9120  3054.3030   \n",
      "4    2019-01-08  sh.000300  3049.8740  3055.5100  3038.5330  3047.7030   \n",
      "..          ...        ...        ...        ...        ...        ...   \n",
      "838  2022-06-20  sh.000300  4322.8324  4368.3555  4297.8912  4330.4328   \n",
      "839  2022-06-21  sh.000300  4327.9159  4357.3396  4287.1406  4325.5657   \n",
      "840  2022-06-22  sh.000300  4331.9020  4333.1827  4269.2456  4270.6227   \n",
      "841  2022-06-23  sh.000300  4277.9555  4343.8781  4260.9002  4343.8781   \n",
      "842  2022-06-24  sh.000300  4354.5530  4400.6852  4346.1221  4394.7723   \n",
      "\n",
      "      preclose       volume             amount adjustflag      turn  \\\n",
      "0    3010.6530   6866302208   76105572352.0000          3  0.256006   \n",
      "1    2969.5350   7086710272   76664799232.0000          3  0.263269   \n",
      "2    2964.8420  10331897088  107141038080.0000          3  0.383827   \n",
      "3    3035.8740  10116435968  105703940096.0000          3  0.375687   \n",
      "4    3054.3030   8617058560   79628881920.0000          3  0.320006   \n",
      "..         ...          ...                ...        ...       ...   \n",
      "838  4309.0444  16566638200  359569296859.8000          3  0.593674   \n",
      "839  4330.4328  16466761500  317163317740.3000          3  0.590094   \n",
      "840  4325.5657  15856585400  298656263311.3000          3  0.568048   \n",
      "841  4270.6227  17088236000  327144780543.7000          3  0.612171   \n",
      "842  4343.8781  16897219900  356054750521.5000          3  0.605328   \n",
      "\n",
      "    tradestatus     pctChg isST  \n",
      "0             1  -1.365800    0  \n",
      "1             1  -0.158000    0  \n",
      "2             1   2.395800    0  \n",
      "3             1   0.607000    0  \n",
      "4             1  -0.216100    0  \n",
      "..          ...        ...  ...  \n",
      "838           1   0.496361    0  \n",
      "839           1  -0.112393    0  \n",
      "840           1  -1.270192    0  \n",
      "841           1   1.715333    0  \n",
      "842           1   1.171630    0  \n",
      "\n",
      "[843 rows x 14 columns]\n"
     ]
    }
   ],
   "source": [
    "#code__list = result['code']\n",
    "code = \"sh.000300\"\n",
    "lg = bs.login()\n",
    "hs300_k = bs.query_history_k_data_plus(code,\n",
    "    \"date,code,open,high,low,close,preclose,volume,amount,adjustflag,turn,tradestatus,pctChg,isST\",\n",
    "    start_date='2019-01-01', end_date='2022-06-25',\n",
    "    frequency=\"d\")\n",
    "#for frequency in [5,15,30,60], time can be included in filed\n",
    "print('query_history_k_data_plus respond error_code:'+hs300_k.error_code)\n",
    "print('query_history_k_data_plus respond  error_msg:'+hs300_k.error_msg)\n",
    "\n",
    "#### 打印结果集 ####\n",
    "data_list = []\n",
    "while (hs300_k.error_code == '0') & hs300_k.next():\n",
    "    # 获取一条记录，将记录合并在一起\n",
    "    data_list.append(hs300_k.get_row_data())\n",
    "result = pd.DataFrame(data_list, columns=hs300_k.fields)\n",
    "\n",
    "#### 结果集输出到csv文件 ####   \n",
    "result.to_csv(r\"E:\\AQF\\history_hs300_stock_k_data.csv\", index=False)\n",
    "print(result)"
   ]
  },
  {
   "cell_type": "code",
   "execution_count": 113,
   "metadata": {},
   "outputs": [
    {
     "name": "stdout",
     "output_type": "stream",
     "text": [
      "           date       code       open       high        low      close  \\\n",
      "0    2019-01-02  sh.000300  3017.0670  3018.7750  2958.4880  2969.5350   \n",
      "1    2019-01-03  sh.000300  2963.0180  3000.4410  2953.2540  2964.8420   \n",
      "2    2019-01-04  sh.000300  2940.1910  3036.8140  2935.8290  3035.8740   \n",
      "3    2019-01-07  sh.000300  3055.1530  3061.7490  3035.9120  3054.3030   \n",
      "4    2019-01-08  sh.000300  3049.8740  3055.5100  3038.5330  3047.7030   \n",
      "..          ...        ...        ...        ...        ...        ...   \n",
      "838  2022-06-20  sh.000300  4322.8324  4368.3555  4297.8912  4330.4328   \n",
      "839  2022-06-21  sh.000300  4327.9159  4357.3396  4287.1406  4325.5657   \n",
      "840  2022-06-22  sh.000300  4331.9020  4333.1827  4269.2456  4270.6227   \n",
      "841  2022-06-23  sh.000300  4277.9555  4343.8781  4260.9002  4343.8781   \n",
      "842  2022-06-24  sh.000300  4354.5530  4400.6852  4346.1221  4394.7723   \n",
      "\n",
      "      preclose       volume             amount adjustflag  ... tradestatus  \\\n",
      "0    3010.6530   6866302208   76105572352.0000          3  ...           1   \n",
      "1    2969.5350   7086710272   76664799232.0000          3  ...           1   \n",
      "2    2964.8420  10331897088  107141038080.0000          3  ...           1   \n",
      "3    3035.8740  10116435968  105703940096.0000          3  ...           1   \n",
      "4    3054.3030   8617058560   79628881920.0000          3  ...           1   \n",
      "..         ...          ...                ...        ...  ...         ...   \n",
      "838  4309.0444  16566638200  359569296859.8000          3  ...           1   \n",
      "839  4330.4328  16466761500  317163317740.3000          3  ...           1   \n",
      "840  4325.5657  15856585400  298656263311.3000          3  ...           1   \n",
      "841  4270.6227  17088236000  327144780543.7000          3  ...           1   \n",
      "842  4343.8781  16897219900  356054750521.5000          3  ...           1   \n",
      "\n",
      "        pctChg isST close - 1d close - 2d close - 3d close - 4d close - 5d  \\\n",
      "0    -1.365800    0       None       None       None       None       None   \n",
      "1    -0.158000    0  2969.5350       None       None       None       None   \n",
      "2     2.395800    0  2964.8420  2969.5350       None       None       None   \n",
      "3     0.607000    0  3035.8740  2964.8420  2969.5350       None       None   \n",
      "4    -0.216100    0  3054.3030  3035.8740  2964.8420  2969.5350       None   \n",
      "..         ...  ...        ...        ...        ...        ...        ...   \n",
      "838   0.496361    0  4309.0444  4250.0614  4278.2178  4222.3114  4189.3527   \n",
      "839  -0.112393    0  4330.4328  4309.0444  4250.0614  4278.2178  4222.3114   \n",
      "840  -1.270192    0  4325.5657  4330.4328  4309.0444  4250.0614  4278.2178   \n",
      "841   1.715333    0  4270.6227  4325.5657  4330.4328  4309.0444  4250.0614   \n",
      "842   1.171630    0  4343.8781  4270.6227  4325.5657  4330.4328  4309.0444   \n",
      "\n",
      "    close - 6d close - 7d  \n",
      "0         None       None  \n",
      "1         None       None  \n",
      "2         None       None  \n",
      "3         None       None  \n",
      "4         None       None  \n",
      "..         ...        ...  \n",
      "838  4238.9936  4175.6747  \n",
      "839  4189.3527  4238.9936  \n",
      "840  4222.3114  4189.3527  \n",
      "841  4278.2178  4222.3114  \n",
      "842  4250.0614  4278.2178  \n",
      "\n",
      "[843 rows x 21 columns]\n",
      "Index(['date', 'code', 'open', 'high', 'low', 'close', 'preclose', 'volume',\n",
      "       'amount', 'adjustflag', 'turn', 'tradestatus', 'pctChg', 'isST',\n",
      "       'close - 1d', 'close - 2d', 'close - 3d', 'close - 4d', 'close - 5d',\n",
      "       'close - 6d', 'close - 7d'],\n",
      "      dtype='object')\n"
     ]
    }
   ],
   "source": [
    "#特征的生成(1-7 days ago close price)；\n",
    "for i in range(1, 8, 1):\n",
    "    result['close - ' + str(i) + 'd'] = result['close'].shift(i)\n",
    "    \n",
    "print(result)\n",
    "print(result.columns)"
   ]
  },
  {
   "cell_type": "code",
   "execution_count": 22,
   "metadata": {},
   "outputs": [
    {
     "name": "stdout",
     "output_type": "stream",
     "text": [
      "           date       code       open       high        low      close  \\\n",
      "7    2019-01-11  sh.000300  3082.2610  3102.8330  3071.0260  3094.7780   \n",
      "8    2019-01-14  sh.000300  3092.4980  3097.4060  3064.3820  3067.7840   \n",
      "9    2019-01-15  sh.000300  3071.5180  3129.3700  3064.6700  3127.9900   \n",
      "10   2019-01-16  sh.000300  3126.1340  3135.0110  3117.2920  3128.6510   \n",
      "11   2019-01-17  sh.000300  3132.6280  3141.7090  3110.0600  3111.4160   \n",
      "..          ...        ...        ...        ...        ...        ...   \n",
      "838  2022-06-20  sh.000300  4322.8324  4368.3555  4297.8912  4330.4328   \n",
      "839  2022-06-21  sh.000300  4327.9159  4357.3396  4287.1406  4325.5657   \n",
      "840  2022-06-22  sh.000300  4331.9020  4333.1827  4269.2456  4270.6227   \n",
      "841  2022-06-23  sh.000300  4277.9555  4343.8781  4260.9002  4343.8781   \n",
      "842  2022-06-24  sh.000300  4354.5530  4400.6852  4346.1221  4394.7723   \n",
      "\n",
      "      preclose       volume             amount adjustflag  ... tradestatus  \\\n",
      "7    3072.6860   7178642432   77420240896.0000          3  ...           1   \n",
      "8    3094.7780   6612170240   68115969024.0000          3  ...           1   \n",
      "9    3067.7840   8877296128   99976892416.0000          3  ...           1   \n",
      "10   3127.9900   8021434112   85781590016.0000          3  ...           1   \n",
      "11   3128.6510   8017487104   82888208384.0000          3  ...           1   \n",
      "..         ...          ...                ...        ...  ...         ...   \n",
      "838  4309.0444  16566638200  359569296859.8000          3  ...           1   \n",
      "839  4330.4328  16466761500  317163317740.3000          3  ...           1   \n",
      "840  4325.5657  15856585400  298656263311.3000          3  ...           1   \n",
      "841  4270.6227  17088236000  327144780543.7000          3  ...           1   \n",
      "842  4343.8781  16897219900  356054750521.5000          3  ...           1   \n",
      "\n",
      "        pctChg isST close - 1d close - 2d close - 3d close - 4d close - 5d  \\\n",
      "7     0.719000    0  3072.6860  3078.4750  3047.7030  3054.3030  3035.8740   \n",
      "8    -0.872200    0  3094.7780  3072.6860  3078.4750  3047.7030  3054.3030   \n",
      "9     1.962500    0  3067.7840  3094.7780  3072.6860  3078.4750  3047.7030   \n",
      "10    0.021100    0  3127.9900  3067.7840  3094.7780  3072.6860  3078.4750   \n",
      "11   -0.550900    0  3128.6510  3127.9900  3067.7840  3094.7780  3072.6860   \n",
      "..         ...  ...        ...        ...        ...        ...        ...   \n",
      "838   0.496361    0  4309.0444  4250.0614  4278.2178  4222.3114  4189.3527   \n",
      "839  -0.112393    0  4330.4328  4309.0444  4250.0614  4278.2178  4222.3114   \n",
      "840  -1.270192    0  4325.5657  4330.4328  4309.0444  4250.0614  4278.2178   \n",
      "841   1.715333    0  4270.6227  4325.5657  4330.4328  4309.0444  4250.0614   \n",
      "842   1.171630    0  4343.8781  4270.6227  4325.5657  4330.4328  4309.0444   \n",
      "\n",
      "    close - 6d close - 7d  \n",
      "7    2964.8420  2969.5350  \n",
      "8    3035.8740  2964.8420  \n",
      "9    3054.3030  3035.8740  \n",
      "10   3047.7030  3054.3030  \n",
      "11   3078.4750  3047.7030  \n",
      "..         ...        ...  \n",
      "838  4238.9936  4175.6747  \n",
      "839  4189.3527  4238.9936  \n",
      "840  4222.3114  4189.3527  \n",
      "841  4278.2178  4222.3114  \n",
      "842  4250.0614  4278.2178  \n",
      "\n",
      "[836 rows x 21 columns]\n"
     ]
    }
   ],
   "source": [
    "hs300_7days = result.iloc[7:,:]\n",
    "print(hs300_7days)"
   ]
  },
  {
   "cell_type": "code",
   "execution_count": 478,
   "metadata": {},
   "outputs": [
    {
     "name": "stdout",
     "output_type": "stream",
     "text": [
      "<class 'pandas.core.series.Series'>\n",
      "(836, 22)\n"
     ]
    }
   ],
   "source": [
    "#plt.scatter(hs300_7days['volume'],hs300_7days['pctChg'])\n",
    "print(type( hs300_7days['volume']))\n",
    "print(hs300_7days.shape)\n",
    "dat = np.zeros((hs300_7days.shape[0],10))\n",
    "dat[:,0] = np.array(hs300_7days['volume'],dtype='float')\n",
    "dat[:,1] = np.array(hs300_7days['pctChg'],dtype ='float')\n",
    "dat[:,2] = np.array(hs300_7days['close'],dtype ='float')\n",
    "for i in range(1,8):\n",
    "    dat[:,i+2] = np.array(hs300_7days['close - '+str(i)+'d'],dtype = 'float')\n",
    "dat = pd.DataFrame(dat,columns =['volume','pctChg','close','close -1d','close -2d','close -3d','close -4d','close -5d','close -6d','close -7d'])"
   ]
  },
  {
   "cell_type": "code",
   "execution_count": 200,
   "metadata": {},
   "outputs": [
    {
     "data": {
      "text/html": [
       "<div>\n",
       "<style scoped>\n",
       "    .dataframe tbody tr th:only-of-type {\n",
       "        vertical-align: middle;\n",
       "    }\n",
       "\n",
       "    .dataframe tbody tr th {\n",
       "        vertical-align: top;\n",
       "    }\n",
       "\n",
       "    .dataframe thead th {\n",
       "        text-align: right;\n",
       "    }\n",
       "</style>\n",
       "<table border=\"1\" class=\"dataframe\">\n",
       "  <thead>\n",
       "    <tr style=\"text-align: right;\">\n",
       "      <th></th>\n",
       "      <th>volume</th>\n",
       "      <th>close</th>\n",
       "      <th>close -1d</th>\n",
       "      <th>close -2d</th>\n",
       "      <th>close -3d</th>\n",
       "      <th>close -4d</th>\n",
       "      <th>close -5d</th>\n",
       "      <th>close -6d</th>\n",
       "      <th>close -7d</th>\n",
       "      <th>label</th>\n",
       "    </tr>\n",
       "  </thead>\n",
       "  <tbody>\n",
       "    <tr>\n",
       "      <th>0</th>\n",
       "      <td>7.178642e+09</td>\n",
       "      <td>3094.778</td>\n",
       "      <td>3072.686</td>\n",
       "      <td>3078.475</td>\n",
       "      <td>3047.703</td>\n",
       "      <td>3054.303</td>\n",
       "      <td>3035.874</td>\n",
       "      <td>2964.842</td>\n",
       "      <td>2969.535</td>\n",
       "      <td>1.0</td>\n",
       "    </tr>\n",
       "    <tr>\n",
       "      <th>1</th>\n",
       "      <td>6.612170e+09</td>\n",
       "      <td>3067.784</td>\n",
       "      <td>3094.778</td>\n",
       "      <td>3072.686</td>\n",
       "      <td>3078.475</td>\n",
       "      <td>3047.703</td>\n",
       "      <td>3054.303</td>\n",
       "      <td>3035.874</td>\n",
       "      <td>2964.842</td>\n",
       "      <td>-1.0</td>\n",
       "    </tr>\n",
       "    <tr>\n",
       "      <th>2</th>\n",
       "      <td>8.877296e+09</td>\n",
       "      <td>3127.990</td>\n",
       "      <td>3067.784</td>\n",
       "      <td>3094.778</td>\n",
       "      <td>3072.686</td>\n",
       "      <td>3078.475</td>\n",
       "      <td>3047.703</td>\n",
       "      <td>3054.303</td>\n",
       "      <td>3035.874</td>\n",
       "      <td>1.0</td>\n",
       "    </tr>\n",
       "    <tr>\n",
       "      <th>3</th>\n",
       "      <td>8.021434e+09</td>\n",
       "      <td>3128.651</td>\n",
       "      <td>3127.990</td>\n",
       "      <td>3067.784</td>\n",
       "      <td>3094.778</td>\n",
       "      <td>3072.686</td>\n",
       "      <td>3078.475</td>\n",
       "      <td>3047.703</td>\n",
       "      <td>3054.303</td>\n",
       "      <td>1.0</td>\n",
       "    </tr>\n",
       "    <tr>\n",
       "      <th>4</th>\n",
       "      <td>8.017487e+09</td>\n",
       "      <td>3111.416</td>\n",
       "      <td>3128.651</td>\n",
       "      <td>3127.990</td>\n",
       "      <td>3067.784</td>\n",
       "      <td>3094.778</td>\n",
       "      <td>3072.686</td>\n",
       "      <td>3078.475</td>\n",
       "      <td>3047.703</td>\n",
       "      <td>-1.0</td>\n",
       "    </tr>\n",
       "  </tbody>\n",
       "</table>\n",
       "</div>"
      ],
      "text/plain": [
       "         volume     close  close -1d  close -2d  close -3d  close -4d  \\\n",
       "0  7.178642e+09  3094.778   3072.686   3078.475   3047.703   3054.303   \n",
       "1  6.612170e+09  3067.784   3094.778   3072.686   3078.475   3047.703   \n",
       "2  8.877296e+09  3127.990   3067.784   3094.778   3072.686   3078.475   \n",
       "3  8.021434e+09  3128.651   3127.990   3067.784   3094.778   3072.686   \n",
       "4  8.017487e+09  3111.416   3128.651   3127.990   3067.784   3094.778   \n",
       "\n",
       "   close -5d  close -6d  close -7d  label  \n",
       "0   3035.874   2964.842   2969.535    1.0  \n",
       "1   3054.303   3035.874   2964.842   -1.0  \n",
       "2   3047.703   3054.303   3035.874    1.0  \n",
       "3   3078.475   3047.703   3054.303    1.0  \n",
       "4   3072.686   3078.475   3047.703   -1.0  "
      ]
     },
     "execution_count": 200,
     "metadata": {},
     "output_type": "execute_result"
    }
   ],
   "source": [
    "dat\n",
    "train_data = dat.dropna().copy()     #train_data和features_train\n",
    "train_data['label']= np.sign(train_data.iloc[:,1])\n",
    "train_data.drop(['pctChg'],axis = 1,inplace=True)\n",
    "train_data.head()"
   ]
  },
  {
   "cell_type": "code",
   "execution_count": 61,
   "metadata": {},
   "outputs": [],
   "source": [
    "import sklearn\n",
    "from sklearn import linear_model"
   ]
  },
  {
   "cell_type": "code",
   "execution_count": 201,
   "metadata": {},
   "outputs": [],
   "source": [
    "from sklearn.model_selection import train_test_split\n",
    "'''#train_test_split(hs300_7days[['pctChg', 'volume']], hs300_7days['isST'], test_size=0.25)'''\n",
    "features_train, features_test, label_train, label_test = \\\n",
    "train_test_split(train_data.iloc[:,0:-1], train_data.iloc[:,-1], test_size=0.25)"
   ]
  },
  {
   "cell_type": "code",
   "execution_count": 202,
   "metadata": {},
   "outputs": [
    {
     "name": "stdout",
     "output_type": "stream",
     "text": [
      "           volume      close  close -1d  close -2d  close -3d  close -4d  \\\n",
      "246  1.046331e+10  4166.7340  4189.8860  4203.9880  4163.1840  4164.3690   \n",
      "39   1.908172e+10  3698.4850  3724.1940  3755.3510  3729.9540  3657.5790   \n",
      "56   1.829568e+10  4075.4300  4057.2280  4062.2300  4022.1560  3971.2850   \n",
      "48   1.387585e+10  3743.3870  3700.4380  3742.8250  3833.8010  3836.8910   \n",
      "826  1.684756e+10  4189.3527  4238.9936  4175.6747  4219.8122  4179.1285   \n",
      "\n",
      "     close -5d  close -6d  close -7d  \n",
      "246   4112.317  4160.2270  4129.2950  \n",
      "39    3808.849  3848.0900  3816.0130  \n",
      "56    3973.928  3872.3410  3728.3950  \n",
      "48    3835.439  3833.9620  3851.7470  \n",
      "826   4166.085  4089.5682  4083.1772  \n",
      "           volume      close  close -1d  close -2d  close -3d  close -4d  \\\n",
      "712  1.490054e+10  4954.7599  5034.7321  5005.8991  5049.6953  5083.8007   \n",
      "326  1.007912e+10  3935.2220  3956.2495  3922.9117  3912.8159  3925.2177   \n",
      "443  1.644705e+10  4904.8981  4953.8756  4981.3497  4885.7178  4885.1118   \n",
      "779  1.383460e+10  4254.0989  4134.1441  4148.4663  4174.5742  4251.3061   \n",
      "592  1.363561e+10  5147.3938  5122.1583  5090.3854  5102.4657  5101.8924   \n",
      "\n",
      "     close -5d  close -6d  close -7d  \n",
      "712  5055.1172  5078.6901  4995.9298  \n",
      "326  3968.2529  3960.2378  3960.1803  \n",
      "443  4813.6564  4777.5608  4720.8313  \n",
      "779  4276.5174  4255.2950  4258.7459  \n",
      "592  5080.4909  5166.5597  5224.7030  \n",
      "246   -1.0\n",
      "39    -1.0\n",
      "56     1.0\n",
      "48     1.0\n",
      "826   -1.0\n",
      "Name: label, dtype: float64\n",
      "712   -1.0\n",
      "326   -1.0\n",
      "443   -1.0\n",
      "779    1.0\n",
      "592    1.0\n",
      "Name: label, dtype: float64\n"
     ]
    }
   ],
   "source": [
    "print(features_train.head())\n",
    "print(features_test.head())\n",
    "print(label_train.head())\n",
    "print(label_test.head())"
   ]
  },
  {
   "cell_type": "code",
   "execution_count": 203,
   "metadata": {},
   "outputs": [],
   "source": [
    "lm = linear_model.LogisticRegression(C=1000)"
   ]
  },
  {
   "cell_type": "code",
   "execution_count": 204,
   "metadata": {},
   "outputs": [],
   "source": [
    "X_train = sklearn.preprocessing.scale(features_train)"
   ]
  },
  {
   "cell_type": "code",
   "execution_count": 205,
   "metadata": {},
   "outputs": [
    {
     "data": {
      "text/html": [
       "<style>#sk-container-id-4 {\n",
       "  /* Definition of color scheme common for light and dark mode */\n",
       "  --sklearn-color-text: black;\n",
       "  --sklearn-color-line: gray;\n",
       "  /* Definition of color scheme for unfitted estimators */\n",
       "  --sklearn-color-unfitted-level-0: #fff5e6;\n",
       "  --sklearn-color-unfitted-level-1: #f6e4d2;\n",
       "  --sklearn-color-unfitted-level-2: #ffe0b3;\n",
       "  --sklearn-color-unfitted-level-3: chocolate;\n",
       "  /* Definition of color scheme for fitted estimators */\n",
       "  --sklearn-color-fitted-level-0: #f0f8ff;\n",
       "  --sklearn-color-fitted-level-1: #d4ebff;\n",
       "  --sklearn-color-fitted-level-2: #b3dbfd;\n",
       "  --sklearn-color-fitted-level-3: cornflowerblue;\n",
       "\n",
       "  /* Specific color for light theme */\n",
       "  --sklearn-color-text-on-default-background: var(--sg-text-color, var(--theme-code-foreground, var(--jp-content-font-color1, black)));\n",
       "  --sklearn-color-background: var(--sg-background-color, var(--theme-background, var(--jp-layout-color0, white)));\n",
       "  --sklearn-color-border-box: var(--sg-text-color, var(--theme-code-foreground, var(--jp-content-font-color1, black)));\n",
       "  --sklearn-color-icon: #696969;\n",
       "\n",
       "  @media (prefers-color-scheme: dark) {\n",
       "    /* Redefinition of color scheme for dark theme */\n",
       "    --sklearn-color-text-on-default-background: var(--sg-text-color, var(--theme-code-foreground, var(--jp-content-font-color1, white)));\n",
       "    --sklearn-color-background: var(--sg-background-color, var(--theme-background, var(--jp-layout-color0, #111)));\n",
       "    --sklearn-color-border-box: var(--sg-text-color, var(--theme-code-foreground, var(--jp-content-font-color1, white)));\n",
       "    --sklearn-color-icon: #878787;\n",
       "  }\n",
       "}\n",
       "\n",
       "#sk-container-id-4 {\n",
       "  color: var(--sklearn-color-text);\n",
       "}\n",
       "\n",
       "#sk-container-id-4 pre {\n",
       "  padding: 0;\n",
       "}\n",
       "\n",
       "#sk-container-id-4 input.sk-hidden--visually {\n",
       "  border: 0;\n",
       "  clip: rect(1px 1px 1px 1px);\n",
       "  clip: rect(1px, 1px, 1px, 1px);\n",
       "  height: 1px;\n",
       "  margin: -1px;\n",
       "  overflow: hidden;\n",
       "  padding: 0;\n",
       "  position: absolute;\n",
       "  width: 1px;\n",
       "}\n",
       "\n",
       "#sk-container-id-4 div.sk-dashed-wrapped {\n",
       "  border: 1px dashed var(--sklearn-color-line);\n",
       "  margin: 0 0.4em 0.5em 0.4em;\n",
       "  box-sizing: border-box;\n",
       "  padding-bottom: 0.4em;\n",
       "  background-color: var(--sklearn-color-background);\n",
       "}\n",
       "\n",
       "#sk-container-id-4 div.sk-container {\n",
       "  /* jupyter's `normalize.less` sets `[hidden] { display: none; }`\n",
       "     but bootstrap.min.css set `[hidden] { display: none !important; }`\n",
       "     so we also need the `!important` here to be able to override the\n",
       "     default hidden behavior on the sphinx rendered scikit-learn.org.\n",
       "     See: https://github.com/scikit-learn/scikit-learn/issues/21755 */\n",
       "  display: inline-block !important;\n",
       "  position: relative;\n",
       "}\n",
       "\n",
       "#sk-container-id-4 div.sk-text-repr-fallback {\n",
       "  display: none;\n",
       "}\n",
       "\n",
       "div.sk-parallel-item,\n",
       "div.sk-serial,\n",
       "div.sk-item {\n",
       "  /* draw centered vertical line to link estimators */\n",
       "  background-image: linear-gradient(var(--sklearn-color-text-on-default-background), var(--sklearn-color-text-on-default-background));\n",
       "  background-size: 2px 100%;\n",
       "  background-repeat: no-repeat;\n",
       "  background-position: center center;\n",
       "}\n",
       "\n",
       "/* Parallel-specific style estimator block */\n",
       "\n",
       "#sk-container-id-4 div.sk-parallel-item::after {\n",
       "  content: \"\";\n",
       "  width: 100%;\n",
       "  border-bottom: 2px solid var(--sklearn-color-text-on-default-background);\n",
       "  flex-grow: 1;\n",
       "}\n",
       "\n",
       "#sk-container-id-4 div.sk-parallel {\n",
       "  display: flex;\n",
       "  align-items: stretch;\n",
       "  justify-content: center;\n",
       "  background-color: var(--sklearn-color-background);\n",
       "  position: relative;\n",
       "}\n",
       "\n",
       "#sk-container-id-4 div.sk-parallel-item {\n",
       "  display: flex;\n",
       "  flex-direction: column;\n",
       "}\n",
       "\n",
       "#sk-container-id-4 div.sk-parallel-item:first-child::after {\n",
       "  align-self: flex-end;\n",
       "  width: 50%;\n",
       "}\n",
       "\n",
       "#sk-container-id-4 div.sk-parallel-item:last-child::after {\n",
       "  align-self: flex-start;\n",
       "  width: 50%;\n",
       "}\n",
       "\n",
       "#sk-container-id-4 div.sk-parallel-item:only-child::after {\n",
       "  width: 0;\n",
       "}\n",
       "\n",
       "/* Serial-specific style estimator block */\n",
       "\n",
       "#sk-container-id-4 div.sk-serial {\n",
       "  display: flex;\n",
       "  flex-direction: column;\n",
       "  align-items: center;\n",
       "  background-color: var(--sklearn-color-background);\n",
       "  padding-right: 1em;\n",
       "  padding-left: 1em;\n",
       "}\n",
       "\n",
       "\n",
       "/* Toggleable style: style used for estimator/Pipeline/ColumnTransformer box that is\n",
       "clickable and can be expanded/collapsed.\n",
       "- Pipeline and ColumnTransformer use this feature and define the default style\n",
       "- Estimators will overwrite some part of the style using the `sk-estimator` class\n",
       "*/\n",
       "\n",
       "/* Pipeline and ColumnTransformer style (default) */\n",
       "\n",
       "#sk-container-id-4 div.sk-toggleable {\n",
       "  /* Default theme specific background. It is overwritten whether we have a\n",
       "  specific estimator or a Pipeline/ColumnTransformer */\n",
       "  background-color: var(--sklearn-color-background);\n",
       "}\n",
       "\n",
       "/* Toggleable label */\n",
       "#sk-container-id-4 label.sk-toggleable__label {\n",
       "  cursor: pointer;\n",
       "  display: block;\n",
       "  width: 100%;\n",
       "  margin-bottom: 0;\n",
       "  padding: 0.5em;\n",
       "  box-sizing: border-box;\n",
       "  text-align: center;\n",
       "}\n",
       "\n",
       "#sk-container-id-4 label.sk-toggleable__label-arrow:before {\n",
       "  /* Arrow on the left of the label */\n",
       "  content: \"▸\";\n",
       "  float: left;\n",
       "  margin-right: 0.25em;\n",
       "  color: var(--sklearn-color-icon);\n",
       "}\n",
       "\n",
       "#sk-container-id-4 label.sk-toggleable__label-arrow:hover:before {\n",
       "  color: var(--sklearn-color-text);\n",
       "}\n",
       "\n",
       "/* Toggleable content - dropdown */\n",
       "\n",
       "#sk-container-id-4 div.sk-toggleable__content {\n",
       "  max-height: 0;\n",
       "  max-width: 0;\n",
       "  overflow: hidden;\n",
       "  text-align: left;\n",
       "  /* unfitted */\n",
       "  background-color: var(--sklearn-color-unfitted-level-0);\n",
       "}\n",
       "\n",
       "#sk-container-id-4 div.sk-toggleable__content.fitted {\n",
       "  /* fitted */\n",
       "  background-color: var(--sklearn-color-fitted-level-0);\n",
       "}\n",
       "\n",
       "#sk-container-id-4 div.sk-toggleable__content pre {\n",
       "  margin: 0.2em;\n",
       "  border-radius: 0.25em;\n",
       "  color: var(--sklearn-color-text);\n",
       "  /* unfitted */\n",
       "  background-color: var(--sklearn-color-unfitted-level-0);\n",
       "}\n",
       "\n",
       "#sk-container-id-4 div.sk-toggleable__content.fitted pre {\n",
       "  /* unfitted */\n",
       "  background-color: var(--sklearn-color-fitted-level-0);\n",
       "}\n",
       "\n",
       "#sk-container-id-4 input.sk-toggleable__control:checked~div.sk-toggleable__content {\n",
       "  /* Expand drop-down */\n",
       "  max-height: 200px;\n",
       "  max-width: 100%;\n",
       "  overflow: auto;\n",
       "}\n",
       "\n",
       "#sk-container-id-4 input.sk-toggleable__control:checked~label.sk-toggleable__label-arrow:before {\n",
       "  content: \"▾\";\n",
       "}\n",
       "\n",
       "/* Pipeline/ColumnTransformer-specific style */\n",
       "\n",
       "#sk-container-id-4 div.sk-label input.sk-toggleable__control:checked~label.sk-toggleable__label {\n",
       "  color: var(--sklearn-color-text);\n",
       "  background-color: var(--sklearn-color-unfitted-level-2);\n",
       "}\n",
       "\n",
       "#sk-container-id-4 div.sk-label.fitted input.sk-toggleable__control:checked~label.sk-toggleable__label {\n",
       "  background-color: var(--sklearn-color-fitted-level-2);\n",
       "}\n",
       "\n",
       "/* Estimator-specific style */\n",
       "\n",
       "/* Colorize estimator box */\n",
       "#sk-container-id-4 div.sk-estimator input.sk-toggleable__control:checked~label.sk-toggleable__label {\n",
       "  /* unfitted */\n",
       "  background-color: var(--sklearn-color-unfitted-level-2);\n",
       "}\n",
       "\n",
       "#sk-container-id-4 div.sk-estimator.fitted input.sk-toggleable__control:checked~label.sk-toggleable__label {\n",
       "  /* fitted */\n",
       "  background-color: var(--sklearn-color-fitted-level-2);\n",
       "}\n",
       "\n",
       "#sk-container-id-4 div.sk-label label.sk-toggleable__label,\n",
       "#sk-container-id-4 div.sk-label label {\n",
       "  /* The background is the default theme color */\n",
       "  color: var(--sklearn-color-text-on-default-background);\n",
       "}\n",
       "\n",
       "/* On hover, darken the color of the background */\n",
       "#sk-container-id-4 div.sk-label:hover label.sk-toggleable__label {\n",
       "  color: var(--sklearn-color-text);\n",
       "  background-color: var(--sklearn-color-unfitted-level-2);\n",
       "}\n",
       "\n",
       "/* Label box, darken color on hover, fitted */\n",
       "#sk-container-id-4 div.sk-label.fitted:hover label.sk-toggleable__label.fitted {\n",
       "  color: var(--sklearn-color-text);\n",
       "  background-color: var(--sklearn-color-fitted-level-2);\n",
       "}\n",
       "\n",
       "/* Estimator label */\n",
       "\n",
       "#sk-container-id-4 div.sk-label label {\n",
       "  font-family: monospace;\n",
       "  font-weight: bold;\n",
       "  display: inline-block;\n",
       "  line-height: 1.2em;\n",
       "}\n",
       "\n",
       "#sk-container-id-4 div.sk-label-container {\n",
       "  text-align: center;\n",
       "}\n",
       "\n",
       "/* Estimator-specific */\n",
       "#sk-container-id-4 div.sk-estimator {\n",
       "  font-family: monospace;\n",
       "  border: 1px dotted var(--sklearn-color-border-box);\n",
       "  border-radius: 0.25em;\n",
       "  box-sizing: border-box;\n",
       "  margin-bottom: 0.5em;\n",
       "  /* unfitted */\n",
       "  background-color: var(--sklearn-color-unfitted-level-0);\n",
       "}\n",
       "\n",
       "#sk-container-id-4 div.sk-estimator.fitted {\n",
       "  /* fitted */\n",
       "  background-color: var(--sklearn-color-fitted-level-0);\n",
       "}\n",
       "\n",
       "/* on hover */\n",
       "#sk-container-id-4 div.sk-estimator:hover {\n",
       "  /* unfitted */\n",
       "  background-color: var(--sklearn-color-unfitted-level-2);\n",
       "}\n",
       "\n",
       "#sk-container-id-4 div.sk-estimator.fitted:hover {\n",
       "  /* fitted */\n",
       "  background-color: var(--sklearn-color-fitted-level-2);\n",
       "}\n",
       "\n",
       "/* Specification for estimator info (e.g. \"i\" and \"?\") */\n",
       "\n",
       "/* Common style for \"i\" and \"?\" */\n",
       "\n",
       ".sk-estimator-doc-link,\n",
       "a:link.sk-estimator-doc-link,\n",
       "a:visited.sk-estimator-doc-link {\n",
       "  float: right;\n",
       "  font-size: smaller;\n",
       "  line-height: 1em;\n",
       "  font-family: monospace;\n",
       "  background-color: var(--sklearn-color-background);\n",
       "  border-radius: 1em;\n",
       "  height: 1em;\n",
       "  width: 1em;\n",
       "  text-decoration: none !important;\n",
       "  margin-left: 1ex;\n",
       "  /* unfitted */\n",
       "  border: var(--sklearn-color-unfitted-level-1) 1pt solid;\n",
       "  color: var(--sklearn-color-unfitted-level-1);\n",
       "}\n",
       "\n",
       ".sk-estimator-doc-link.fitted,\n",
       "a:link.sk-estimator-doc-link.fitted,\n",
       "a:visited.sk-estimator-doc-link.fitted {\n",
       "  /* fitted */\n",
       "  border: var(--sklearn-color-fitted-level-1) 1pt solid;\n",
       "  color: var(--sklearn-color-fitted-level-1);\n",
       "}\n",
       "\n",
       "/* On hover */\n",
       "div.sk-estimator:hover .sk-estimator-doc-link:hover,\n",
       ".sk-estimator-doc-link:hover,\n",
       "div.sk-label-container:hover .sk-estimator-doc-link:hover,\n",
       ".sk-estimator-doc-link:hover {\n",
       "  /* unfitted */\n",
       "  background-color: var(--sklearn-color-unfitted-level-3);\n",
       "  color: var(--sklearn-color-background);\n",
       "  text-decoration: none;\n",
       "}\n",
       "\n",
       "div.sk-estimator.fitted:hover .sk-estimator-doc-link.fitted:hover,\n",
       ".sk-estimator-doc-link.fitted:hover,\n",
       "div.sk-label-container:hover .sk-estimator-doc-link.fitted:hover,\n",
       ".sk-estimator-doc-link.fitted:hover {\n",
       "  /* fitted */\n",
       "  background-color: var(--sklearn-color-fitted-level-3);\n",
       "  color: var(--sklearn-color-background);\n",
       "  text-decoration: none;\n",
       "}\n",
       "\n",
       "/* Span, style for the box shown on hovering the info icon */\n",
       ".sk-estimator-doc-link span {\n",
       "  display: none;\n",
       "  z-index: 9999;\n",
       "  position: relative;\n",
       "  font-weight: normal;\n",
       "  right: .2ex;\n",
       "  padding: .5ex;\n",
       "  margin: .5ex;\n",
       "  width: min-content;\n",
       "  min-width: 20ex;\n",
       "  max-width: 50ex;\n",
       "  color: var(--sklearn-color-text);\n",
       "  box-shadow: 2pt 2pt 4pt #999;\n",
       "  /* unfitted */\n",
       "  background: var(--sklearn-color-unfitted-level-0);\n",
       "  border: .5pt solid var(--sklearn-color-unfitted-level-3);\n",
       "}\n",
       "\n",
       ".sk-estimator-doc-link.fitted span {\n",
       "  /* fitted */\n",
       "  background: var(--sklearn-color-fitted-level-0);\n",
       "  border: var(--sklearn-color-fitted-level-3);\n",
       "}\n",
       "\n",
       ".sk-estimator-doc-link:hover span {\n",
       "  display: block;\n",
       "}\n",
       "\n",
       "/* \"?\"-specific style due to the `<a>` HTML tag */\n",
       "\n",
       "#sk-container-id-4 a.estimator_doc_link {\n",
       "  float: right;\n",
       "  font-size: 1rem;\n",
       "  line-height: 1em;\n",
       "  font-family: monospace;\n",
       "  background-color: var(--sklearn-color-background);\n",
       "  border-radius: 1rem;\n",
       "  height: 1rem;\n",
       "  width: 1rem;\n",
       "  text-decoration: none;\n",
       "  /* unfitted */\n",
       "  color: var(--sklearn-color-unfitted-level-1);\n",
       "  border: var(--sklearn-color-unfitted-level-1) 1pt solid;\n",
       "}\n",
       "\n",
       "#sk-container-id-4 a.estimator_doc_link.fitted {\n",
       "  /* fitted */\n",
       "  border: var(--sklearn-color-fitted-level-1) 1pt solid;\n",
       "  color: var(--sklearn-color-fitted-level-1);\n",
       "}\n",
       "\n",
       "/* On hover */\n",
       "#sk-container-id-4 a.estimator_doc_link:hover {\n",
       "  /* unfitted */\n",
       "  background-color: var(--sklearn-color-unfitted-level-3);\n",
       "  color: var(--sklearn-color-background);\n",
       "  text-decoration: none;\n",
       "}\n",
       "\n",
       "#sk-container-id-4 a.estimator_doc_link.fitted:hover {\n",
       "  /* fitted */\n",
       "  background-color: var(--sklearn-color-fitted-level-3);\n",
       "}\n",
       "</style><div id=\"sk-container-id-4\" class=\"sk-top-container\"><div class=\"sk-text-repr-fallback\"><pre>LogisticRegression(C=1000)</pre><b>In a Jupyter environment, please rerun this cell to show the HTML representation or trust the notebook. <br />On GitHub, the HTML representation is unable to render, please try loading this page with nbviewer.org.</b></div><div class=\"sk-container\" hidden><div class=\"sk-item\"><div class=\"sk-estimator fitted sk-toggleable\"><input class=\"sk-toggleable__control sk-hidden--visually\" id=\"sk-estimator-id-4\" type=\"checkbox\" checked><label for=\"sk-estimator-id-4\" class=\"sk-toggleable__label fitted sk-toggleable__label-arrow fitted\">&nbsp;&nbsp;LogisticRegression<a class=\"sk-estimator-doc-link fitted\" rel=\"noreferrer\" target=\"_blank\" href=\"https://scikit-learn.org/1.5/modules/generated/sklearn.linear_model.LogisticRegression.html\">?<span>Documentation for LogisticRegression</span></a><span class=\"sk-estimator-doc-link fitted\">i<span>Fitted</span></span></label><div class=\"sk-toggleable__content fitted\"><pre>LogisticRegression(C=1000)</pre></div> </div></div></div></div>"
      ],
      "text/plain": [
       "LogisticRegression(C=1000)"
      ]
     },
     "execution_count": 205,
     "metadata": {},
     "output_type": "execute_result"
    }
   ],
   "source": [
    "lm.fit(X_train, label_train)\n",
    "#y_train.replace(to_replace= np.NaN, value = 0,inplace = True)\n",
    "#y_train = y_train.values.reshape(-1,1)\n",
    "#y_train[-10:]"
   ]
  },
  {
   "cell_type": "code",
   "execution_count": 138,
   "metadata": {},
   "outputs": [
    {
     "data": {
      "text/plain": [
       "0.9904306220095693"
      ]
     },
     "execution_count": 138,
     "metadata": {},
     "output_type": "execute_result"
    }
   ],
   "source": [
    "lm.score(X_train, label_train)"
   ]
  },
  {
   "cell_type": "code",
   "execution_count": 206,
   "metadata": {},
   "outputs": [],
   "source": [
    "close_fall = train_data[train_data['label']<0]['close']\n",
    "volume_fall = train_data[train_data['label']<0]['volume']\n",
    "\n",
    "close_rise = train_data[train_data['label']>0]['close']\n",
    "volume_rise = train_data[train_data['label']>0]['volume']"
   ]
  },
  {
   "cell_type": "code",
   "execution_count": 207,
   "metadata": {},
   "outputs": [
    {
     "name": "stdout",
     "output_type": "stream",
     "text": [
      "1     3067.784\n",
      "4     3111.416\n",
      "7     3143.317\n",
      "8     3141.053\n",
      "11    3183.777\n",
      "Name: close, dtype: float64\n",
      "1     6.612170e+09\n",
      "4     8.017487e+09\n",
      "7     7.299053e+09\n",
      "8     5.987048e+09\n",
      "11    8.262243e+09\n",
      "Name: volume, dtype: float64\n",
      "0    3094.778\n",
      "2    3127.990\n",
      "3    3128.651\n",
      "5    3168.173\n",
      "6    3185.636\n",
      "Name: close, dtype: float64\n",
      "0    7.178642e+09\n",
      "2    8.877296e+09\n",
      "3    8.021434e+09\n",
      "5    1.039638e+10\n",
      "6    9.391502e+09\n",
      "Name: volume, dtype: float64\n"
     ]
    }
   ],
   "source": [
    "print(close_fall.head())\n",
    "print(volume_fall.head())\n",
    "print(close_rise.head())\n",
    "print(volume_rise.head())"
   ]
  },
  {
   "cell_type": "code",
   "execution_count": 208,
   "metadata": {},
   "outputs": [
    {
     "data": {
      "image/png": "[encoded data removed]",
      "text/plain": [
       "<Figure size 600x500 with 1 Axes>"
      ]
     },
     "metadata": {},
     "output_type": "display_data"
    }
   ],
   "source": [
    "#\n",
    "plt.figure(figsize = (6,5))\n",
    "#plt.xlim(0.0, 1.0)\n",
    "#plt.ylim(0.0, 1.0)\n",
    "plt.scatter(close_fall, volume_fall, color = 'b', label='fall')\n",
    "plt.scatter(close_rise, volume_rise, color = 'r', label='rise')\n",
    "plt.xlabel('close_price')\n",
    "plt.ylabel('volume')\n",
    "plt.legend(loc='upper right')\n",
    "plt.show()"
   ]
  },
  {
   "cell_type": "markdown",
   "metadata": {},
   "source": [
    "### 2. 逻辑回归算法实现"
   ]
  },
  {
   "cell_type": "code",
   "execution_count": 217,
   "metadata": {},
   "outputs": [
    {
     "name": "stdout",
     "output_type": "stream",
     "text": [
      "           volume      close  close -1d  close -2d  close -3d  close -4d  \\\n",
      "246  1.046331e+10  4166.7340  4189.8860  4203.9880  4163.1840  4164.3690   \n",
      "39   1.908172e+10  3698.4850  3724.1940  3755.3510  3729.9540  3657.5790   \n",
      "56   1.829568e+10  4075.4300  4057.2280  4062.2300  4022.1560  3971.2850   \n",
      "48   1.387585e+10  3743.3870  3700.4380  3742.8250  3833.8010  3836.8910   \n",
      "826  1.684756e+10  4189.3527  4238.9936  4175.6747  4219.8122  4179.1285   \n",
      "\n",
      "     close -5d  close -6d  close -7d  \n",
      "246   4112.317  4160.2270  4129.2950  \n",
      "39    3808.849  3848.0900  3816.0130  \n",
      "56    3973.928  3872.3410  3728.3950  \n",
      "48    3835.439  3833.9620  3851.7470  \n",
      "826   4166.085  4089.5682  4083.1772  \n",
      "246   -1.0\n",
      "39    -1.0\n",
      "56     1.0\n",
      "48     1.0\n",
      "826   -1.0\n",
      "Name: label, dtype: float64\n",
      "           volume      close  close -1d  close -2d  close -3d  close -4d  \\\n",
      "712  1.490054e+10  4954.7599  5034.7321  5005.8991  5049.6953  5083.8007   \n",
      "326  1.007912e+10  3935.2220  3956.2495  3922.9117  3912.8159  3925.2177   \n",
      "443  1.644705e+10  4904.8981  4953.8756  4981.3497  4885.7178  4885.1118   \n",
      "779  1.383460e+10  4254.0989  4134.1441  4148.4663  4174.5742  4251.3061   \n",
      "592  1.363561e+10  5147.3938  5122.1583  5090.3854  5102.4657  5101.8924   \n",
      "\n",
      "     close -5d  close -6d  close -7d  label  \n",
      "712  5055.1172  5078.6901  4995.9298   -1.0  \n",
      "326  3968.2529  3960.2378  3960.1803   -1.0  \n",
      "443  4813.6564  4777.5608  4720.8313   -1.0  \n",
      "779  4276.5174  4255.2950  4258.7459    1.0  \n",
      "592  5080.4909  5166.5597  5224.7030    1.0  \n",
      "712   -1.0\n",
      "326   -1.0\n",
      "443   -1.0\n",
      "779    1.0\n",
      "592    1.0\n",
      "Name: label, dtype: float64\n"
     ]
    }
   ],
   "source": [
    "print(features_train.head())\n",
    "print(label_train.head())\n",
    "print(features_test.head())\n",
    "print(label_test.head())"
   ]
  },
  {
   "cell_type": "code",
   "execution_count": 261,
   "metadata": {},
   "outputs": [],
   "source": [
    "def plot_pic(clf, X_test, y_test,col1,col2):\n",
    "    data = X_test.copy()\n",
    "    data['label'] = y_test\n",
    "    \n",
    "    x_min = min(X_test[:,[col1,col2]]); x_max = max(X_test[:,[col1,col2]])\n",
    "    y_min = min(y_test); y_max = max(y_test)\n",
    "    \n",
    "    # 画出决策边界，我们为每一个点绘制一个颜色\n",
    "\n",
    "    step = (x_max-x_min)/50  # 设置步长\n",
    "    xx, yy = np.meshgrid(np.arange(x_min, x_max, step), np.arange(y_min, y_max, step))\n",
    "    Z = clf.predict(np.c_[xx.ravel(), yy.ravel()])\n",
    "\n",
    "    # 绘图\n",
    "    Z = Z.reshape(xx.shape)\n",
    "    plt.xlim(xx.min(), xx.max())\n",
    "    plt.ylim(yy.min(), yy.max())\n",
    "\n",
    "    plt.pcolormesh(xx, yy, Z, cmap=plt.cm.RdYlBu)\n",
    "    \n",
    "    practice_fail = data[data['label']==0][col1]\n",
    "    time_period_fail = data[data['label']==0][col2]\n",
    "    practice_pass = data[data['label']==1][col1]\n",
    "    time_period_pass = data[data['label']==1][col2]\n",
    "\n",
    "\n",
    "    plt.scatter(practice_fail, time_period_fail, color = 'b', label='fail')\n",
    "    plt.scatter(practice_pass, time_period_pass, color = 'r', label='pass')\n",
    "    plt.legend()\n",
    "    plt.xlabel(col1)\n",
    "    plt.ylabel(col2)\n",
    "    plt.legend(loc='upper right')"
   ]
  },
  {
   "cell_type": "code",
   "execution_count": 179,
   "metadata": {},
   "outputs": [],
   "source": [
    "def plot_pic2(clf,x,y,x_test,y_test):\n",
    "    import matplotlib as mpl\n",
    "    x1_min,x1_max = x[:,0].min(),x[:,0].max()\n",
    "    x2_min,x2_max = x[:,1].min(),x[:,1].max()\n",
    "    x1,x2 = np.mgrid[x1_min:x1_max:500j,x2_min:x2_max:500j]\n",
    "    grid_test = np.stack((x1.flat,x2.flat),axis = 1)\n",
    "    grid_hat = clf.predict(grid_test)\n",
    "    grid_hat = grid_hat.reshape(x1.shape)\n",
    "    cm_light = mpl.colors.ListedColormap(['#A0FFA0', '#FFA0A0', '#A0A0FF'])\n",
    "    cm_dark = mpl.colors.ListedColormap(['g', 'r', 'b'])\n",
    "    plt.pcolormesh(x1,x2,grid_hat,cmap=cm_light)\n",
    "    plt.scatter(x[:,0],x[:,1],c=y[:,0],edgecolor='k',s=50,cmap=cm_dark)\n",
    "    plt.scatter(x_test[:,0],x_test[:,1],s=120,facecolor='none',zorder=10)\n",
    "    plt.rcParams['font.sans-serif']=['SimHei']\n",
    "    plt.rcParams['axes.unicode_minus']=False\n",
    "    plt.xlabel(\"花萼长度\")\n",
    "    plt.ylabel(\"花萼宽度\")\n",
    "    plt.title('鸢尾花SVM二特征分类',fontsize=15)"
   ]
  },
  {
   "cell_type": "code",
   "execution_count": 218,
   "metadata": {},
   "outputs": [
    {
     "data": {
      "text/html": [
       "<div>\n",
       "<style scoped>\n",
       "    .dataframe tbody tr th:only-of-type {\n",
       "        vertical-align: middle;\n",
       "    }\n",
       "\n",
       "    .dataframe tbody tr th {\n",
       "        vertical-align: top;\n",
       "    }\n",
       "\n",
       "    .dataframe thead th {\n",
       "        text-align: right;\n",
       "    }\n",
       "</style>\n",
       "<table border=\"1\" class=\"dataframe\">\n",
       "  <thead>\n",
       "    <tr style=\"text-align: right;\">\n",
       "      <th></th>\n",
       "      <th>volume</th>\n",
       "      <th>close</th>\n",
       "      <th>close -1d</th>\n",
       "      <th>close -2d</th>\n",
       "      <th>close -3d</th>\n",
       "      <th>close -4d</th>\n",
       "      <th>close -5d</th>\n",
       "      <th>close -6d</th>\n",
       "      <th>close -7d</th>\n",
       "      <th>label</th>\n",
       "    </tr>\n",
       "  </thead>\n",
       "  <tbody>\n",
       "    <tr>\n",
       "      <th>712</th>\n",
       "      <td>1.490054e+10</td>\n",
       "      <td>4954.7599</td>\n",
       "      <td>5034.7321</td>\n",
       "      <td>5005.8991</td>\n",
       "      <td>5049.6953</td>\n",
       "      <td>5083.8007</td>\n",
       "      <td>5055.1172</td>\n",
       "      <td>5078.6901</td>\n",
       "      <td>4995.9298</td>\n",
       "      <td>-1.0</td>\n",
       "    </tr>\n",
       "    <tr>\n",
       "      <th>326</th>\n",
       "      <td>1.007912e+10</td>\n",
       "      <td>3935.2220</td>\n",
       "      <td>3956.2495</td>\n",
       "      <td>3922.9117</td>\n",
       "      <td>3912.8159</td>\n",
       "      <td>3925.2177</td>\n",
       "      <td>3968.2529</td>\n",
       "      <td>3960.2378</td>\n",
       "      <td>3960.1803</td>\n",
       "      <td>-1.0</td>\n",
       "    </tr>\n",
       "    <tr>\n",
       "      <th>443</th>\n",
       "      <td>1.644705e+10</td>\n",
       "      <td>4904.8981</td>\n",
       "      <td>4953.8756</td>\n",
       "      <td>4981.3497</td>\n",
       "      <td>4885.7178</td>\n",
       "      <td>4885.1118</td>\n",
       "      <td>4813.6564</td>\n",
       "      <td>4777.5608</td>\n",
       "      <td>4720.8313</td>\n",
       "      <td>-1.0</td>\n",
       "    </tr>\n",
       "    <tr>\n",
       "      <th>779</th>\n",
       "      <td>1.383460e+10</td>\n",
       "      <td>4254.0989</td>\n",
       "      <td>4134.1441</td>\n",
       "      <td>4148.4663</td>\n",
       "      <td>4174.5742</td>\n",
       "      <td>4251.3061</td>\n",
       "      <td>4276.5174</td>\n",
       "      <td>4255.2950</td>\n",
       "      <td>4258.7459</td>\n",
       "      <td>1.0</td>\n",
       "    </tr>\n",
       "    <tr>\n",
       "      <th>592</th>\n",
       "      <td>1.363561e+10</td>\n",
       "      <td>5147.3938</td>\n",
       "      <td>5122.1583</td>\n",
       "      <td>5090.3854</td>\n",
       "      <td>5102.4657</td>\n",
       "      <td>5101.8924</td>\n",
       "      <td>5080.4909</td>\n",
       "      <td>5166.5597</td>\n",
       "      <td>5224.7030</td>\n",
       "      <td>1.0</td>\n",
       "    </tr>\n",
       "    <tr>\n",
       "      <th>...</th>\n",
       "      <td>...</td>\n",
       "      <td>...</td>\n",
       "      <td>...</td>\n",
       "      <td>...</td>\n",
       "      <td>...</td>\n",
       "      <td>...</td>\n",
       "      <td>...</td>\n",
       "      <td>...</td>\n",
       "      <td>...</td>\n",
       "      <td>...</td>\n",
       "    </tr>\n",
       "    <tr>\n",
       "      <th>126</th>\n",
       "      <td>9.210138e+09</td>\n",
       "      <td>3781.6830</td>\n",
       "      <td>3807.9550</td>\n",
       "      <td>3768.4010</td>\n",
       "      <td>3804.6380</td>\n",
       "      <td>3806.8440</td>\n",
       "      <td>3824.1870</td>\n",
       "      <td>3808.7310</td>\n",
       "      <td>3785.2210</td>\n",
       "      <td>-1.0</td>\n",
       "    </tr>\n",
       "    <tr>\n",
       "      <th>249</th>\n",
       "      <td>1.224091e+10</td>\n",
       "      <td>4185.8300</td>\n",
       "      <td>4154.8530</td>\n",
       "      <td>4149.0430</td>\n",
       "      <td>4166.7340</td>\n",
       "      <td>4189.8860</td>\n",
       "      <td>4203.9880</td>\n",
       "      <td>4163.1840</td>\n",
       "      <td>4164.3690</td>\n",
       "      <td>1.0</td>\n",
       "    </tr>\n",
       "    <tr>\n",
       "      <th>506</th>\n",
       "      <td>1.648873e+10</td>\n",
       "      <td>5686.2502</td>\n",
       "      <td>5564.5618</td>\n",
       "      <td>5483.4140</td>\n",
       "      <td>5473.9475</td>\n",
       "      <td>5485.2008</td>\n",
       "      <td>5501.0915</td>\n",
       "      <td>5417.6484</td>\n",
       "      <td>5351.9646</td>\n",
       "      <td>1.0</td>\n",
       "    </tr>\n",
       "    <tr>\n",
       "      <th>483</th>\n",
       "      <td>2.198721e+10</td>\n",
       "      <td>5513.6568</td>\n",
       "      <td>5417.6677</td>\n",
       "      <td>5368.5049</td>\n",
       "      <td>5267.7181</td>\n",
       "      <td>5211.2885</td>\n",
       "      <td>5113.7105</td>\n",
       "      <td>5042.9361</td>\n",
       "      <td>5064.4147</td>\n",
       "      <td>1.0</td>\n",
       "    </tr>\n",
       "    <tr>\n",
       "      <th>283</th>\n",
       "      <td>1.859683e+10</td>\n",
       "      <td>3727.8398</td>\n",
       "      <td>3895.3128</td>\n",
       "      <td>3950.9111</td>\n",
       "      <td>4028.4289</td>\n",
       "      <td>4082.7315</td>\n",
       "      <td>3997.1325</td>\n",
       "      <td>4138.5070</td>\n",
       "      <td>4206.7250</td>\n",
       "      <td>-1.0</td>\n",
       "    </tr>\n",
       "  </tbody>\n",
       "</table>\n",
       "<p>209 rows × 10 columns</p>\n",
       "</div>"
      ],
      "text/plain": [
       "           volume      close  close -1d  close -2d  close -3d  close -4d  \\\n",
       "712  1.490054e+10  4954.7599  5034.7321  5005.8991  5049.6953  5083.8007   \n",
       "326  1.007912e+10  3935.2220  3956.2495  3922.9117  3912.8159  3925.2177   \n",
       "443  1.644705e+10  4904.8981  4953.8756  4981.3497  4885.7178  4885.1118   \n",
       "779  1.383460e+10  4254.0989  4134.1441  4148.4663  4174.5742  4251.3061   \n",
       "592  1.363561e+10  5147.3938  5122.1583  5090.3854  5102.4657  5101.8924   \n",
       "..            ...        ...        ...        ...        ...        ...   \n",
       "126  9.210138e+09  3781.6830  3807.9550  3768.4010  3804.6380  3806.8440   \n",
       "249  1.224091e+10  4185.8300  4154.8530  4149.0430  4166.7340  4189.8860   \n",
       "506  1.648873e+10  5686.2502  5564.5618  5483.4140  5473.9475  5485.2008   \n",
       "483  2.198721e+10  5513.6568  5417.6677  5368.5049  5267.7181  5211.2885   \n",
       "283  1.859683e+10  3727.8398  3895.3128  3950.9111  4028.4289  4082.7315   \n",
       "\n",
       "     close -5d  close -6d  close -7d  label  \n",
       "712  5055.1172  5078.6901  4995.9298   -1.0  \n",
       "326  3968.2529  3960.2378  3960.1803   -1.0  \n",
       "443  4813.6564  4777.5608  4720.8313   -1.0  \n",
       "779  4276.5174  4255.2950  4258.7459    1.0  \n",
       "592  5080.4909  5166.5597  5224.7030    1.0  \n",
       "..         ...        ...        ...    ...  \n",
       "126  3824.1870  3808.7310  3785.2210   -1.0  \n",
       "249  4203.9880  4163.1840  4164.3690    1.0  \n",
       "506  5501.0915  5417.6484  5351.9646    1.0  \n",
       "483  5113.7105  5042.9361  5064.4147    1.0  \n",
       "283  3997.1325  4138.5070  4206.7250   -1.0  \n",
       "\n",
       "[209 rows x 10 columns]"
      ]
     },
     "execution_count": 218,
     "metadata": {},
     "output_type": "execute_result"
    }
   ],
   "source": [
    "features_test"
   ]
  },
  {
   "cell_type": "code",
   "execution_count": 229,
   "metadata": {},
   "outputs": [],
   "source": [
    "features_test['label'] = label_test\n"
   ]
  },
  {
   "cell_type": "code",
   "execution_count": 230,
   "metadata": {},
   "outputs": [
    {
     "data": {
      "text/html": [
       "<div>\n",
       "<style scoped>\n",
       "    .dataframe tbody tr th:only-of-type {\n",
       "        vertical-align: middle;\n",
       "    }\n",
       "\n",
       "    .dataframe tbody tr th {\n",
       "        vertical-align: top;\n",
       "    }\n",
       "\n",
       "    .dataframe thead th {\n",
       "        text-align: right;\n",
       "    }\n",
       "</style>\n",
       "<table border=\"1\" class=\"dataframe\">\n",
       "  <thead>\n",
       "    <tr style=\"text-align: right;\">\n",
       "      <th></th>\n",
       "      <th>volume</th>\n",
       "      <th>close</th>\n",
       "      <th>close -1d</th>\n",
       "      <th>close -2d</th>\n",
       "      <th>close -3d</th>\n",
       "      <th>close -4d</th>\n",
       "      <th>close -5d</th>\n",
       "      <th>close -6d</th>\n",
       "      <th>close -7d</th>\n",
       "      <th>label</th>\n",
       "    </tr>\n",
       "  </thead>\n",
       "  <tbody>\n",
       "    <tr>\n",
       "      <th>712</th>\n",
       "      <td>1.490054e+10</td>\n",
       "      <td>4954.7599</td>\n",
       "      <td>5034.7321</td>\n",
       "      <td>5005.8991</td>\n",
       "      <td>5049.6953</td>\n",
       "      <td>5083.8007</td>\n",
       "      <td>5055.1172</td>\n",
       "      <td>5078.6901</td>\n",
       "      <td>4995.9298</td>\n",
       "      <td>-1.0</td>\n",
       "    </tr>\n",
       "    <tr>\n",
       "      <th>326</th>\n",
       "      <td>1.007912e+10</td>\n",
       "      <td>3935.2220</td>\n",
       "      <td>3956.2495</td>\n",
       "      <td>3922.9117</td>\n",
       "      <td>3912.8159</td>\n",
       "      <td>3925.2177</td>\n",
       "      <td>3968.2529</td>\n",
       "      <td>3960.2378</td>\n",
       "      <td>3960.1803</td>\n",
       "      <td>-1.0</td>\n",
       "    </tr>\n",
       "    <tr>\n",
       "      <th>443</th>\n",
       "      <td>1.644705e+10</td>\n",
       "      <td>4904.8981</td>\n",
       "      <td>4953.8756</td>\n",
       "      <td>4981.3497</td>\n",
       "      <td>4885.7178</td>\n",
       "      <td>4885.1118</td>\n",
       "      <td>4813.6564</td>\n",
       "      <td>4777.5608</td>\n",
       "      <td>4720.8313</td>\n",
       "      <td>-1.0</td>\n",
       "    </tr>\n",
       "    <tr>\n",
       "      <th>779</th>\n",
       "      <td>1.383460e+10</td>\n",
       "      <td>4254.0989</td>\n",
       "      <td>4134.1441</td>\n",
       "      <td>4148.4663</td>\n",
       "      <td>4174.5742</td>\n",
       "      <td>4251.3061</td>\n",
       "      <td>4276.5174</td>\n",
       "      <td>4255.2950</td>\n",
       "      <td>4258.7459</td>\n",
       "      <td>1.0</td>\n",
       "    </tr>\n",
       "    <tr>\n",
       "      <th>592</th>\n",
       "      <td>1.363561e+10</td>\n",
       "      <td>5147.3938</td>\n",
       "      <td>5122.1583</td>\n",
       "      <td>5090.3854</td>\n",
       "      <td>5102.4657</td>\n",
       "      <td>5101.8924</td>\n",
       "      <td>5080.4909</td>\n",
       "      <td>5166.5597</td>\n",
       "      <td>5224.7030</td>\n",
       "      <td>1.0</td>\n",
       "    </tr>\n",
       "  </tbody>\n",
       "</table>\n",
       "</div>"
      ],
      "text/plain": [
       "           volume      close  close -1d  close -2d  close -3d  close -4d  \\\n",
       "712  1.490054e+10  4954.7599  5034.7321  5005.8991  5049.6953  5083.8007   \n",
       "326  1.007912e+10  3935.2220  3956.2495  3922.9117  3912.8159  3925.2177   \n",
       "443  1.644705e+10  4904.8981  4953.8756  4981.3497  4885.7178  4885.1118   \n",
       "779  1.383460e+10  4254.0989  4134.1441  4148.4663  4174.5742  4251.3061   \n",
       "592  1.363561e+10  5147.3938  5122.1583  5090.3854  5102.4657  5101.8924   \n",
       "\n",
       "     close -5d  close -6d  close -7d  label  \n",
       "712  5055.1172  5078.6901  4995.9298   -1.0  \n",
       "326  3968.2529  3960.2378  3960.1803   -1.0  \n",
       "443  4813.6564  4777.5608  4720.8313   -1.0  \n",
       "779  4276.5174  4255.2950  4258.7459    1.0  \n",
       "592  5080.4909  5166.5597  5224.7030    1.0  "
      ]
     },
     "execution_count": 230,
     "metadata": {},
     "output_type": "execute_result"
    }
   ],
   "source": [
    "features_test.head()"
   ]
  },
  {
   "cell_type": "code",
   "execution_count": 231,
   "metadata": {},
   "outputs": [
    {
     "data": {
      "image/png": "[encoded data removed]",
      "text/plain": [
       "<Figure size 600x500 with 1 Axes>"
      ]
     },
     "metadata": {},
     "output_type": "display_data"
    }
   ],
   "source": [
    "close_fall_t = features_test[features_test['label']<0]['close']\n",
    "volume_fall_t = features_test[features_test['label']<0]['volume']\n",
    "\n",
    "close_rise_t = features_test[features_test['label']>0]['close']\n",
    "volume_rise_t = features_test[features_test['label']>0]['volume']\n",
    "#\n",
    "plt.figure(figsize = (6,5))\n",
    "#plt.xlim(0.0, 1.0)\n",
    "#plt.ylim(0.0, 1.0)\n",
    "plt.scatter(close_fall_t, volume_fall_t, color = 'b', label='fall')\n",
    "plt.scatter(close_rise_t, volume_rise_t, color = 'r', label='rise')\n",
    "plt.xlabel('close_price_test')\n",
    "plt.ylabel('volumea_test')\n",
    "plt.legend(loc='upper right')\n",
    "plt.show()"
   ]
  },
  {
   "cell_type": "code",
   "execution_count": 232,
   "metadata": {},
   "outputs": [],
   "source": [
    "features_test.drop(['label'],axis =1,inplace = True)"
   ]
  },
  {
   "cell_type": "code",
   "execution_count": 233,
   "metadata": {},
   "outputs": [],
   "source": [
    "from sklearn.linear_model import LogisticRegression    #从sklearn中引入逻辑回归算法；必背；\n",
    "clf_LR = LogisticRegression(C=1000)     #定义了逻辑回归的分类器，clf_LR，初始化模型；\n",
    "clf_LR.fit(features_train,label_train)     #机器学习的核心语句，必背；fit就是训练和学习的过程；\n",
    "pred_LR = clf_LR.predict(features_test)     #机器学习的核心语句，必背；predict预测测试集的标签；返回的是预测的测试集的label\n",
    "#print(pred_LR)\n",
    "#测试集的分类效果可视化；传入已经学习好的分类器和测试集的特征，去预测测试集的标签，并且把分类结果可视化；\n",
    "#plot_pic(clf_LR.fit(features_train[:,0:2],label_train),features_test[:,0:2], label_test,'volume','close')    "
   ]
  },
  {
   "cell_type": "code",
   "execution_count": 234,
   "metadata": {},
   "outputs": [],
   "source": [
    "#features_train['prediction'] = np.NaN\n",
    "features_train['prediction'] = clf_LR.predict(features_train)    #返回的是预测的训练集的labels；[7:]"
   ]
  },
  {
   "cell_type": "code",
   "execution_count": 269,
   "metadata": {},
   "outputs": [
    {
     "name": "stdout",
     "output_type": "stream",
     "text": [
      "1     -0.872200\n",
      "2      1.962500\n",
      "3      0.021100\n",
      "4     -0.550900\n",
      "5      1.824200\n",
      "         ...   \n",
      "831    0.496361\n",
      "832   -0.112393\n",
      "833   -1.270192\n",
      "834    1.715333\n",
      "835    1.171630\n",
      "Name: pctChg, Length: 835, dtype: float64\n",
      "           volume    pctChg      close  close -1d  close -2d  close -3d  \\\n",
      "0    7.178642e+09  0.719000  3094.7780  3072.6860  3078.4750  3047.7030   \n",
      "1    6.612170e+09 -0.872200  3067.7840  3094.7780  3072.6860  3078.4750   \n",
      "2    8.877296e+09  1.962500  3127.9900  3067.7840  3094.7780  3072.6860   \n",
      "3    8.021434e+09  0.021100  3128.6510  3127.9900  3067.7840  3094.7780   \n",
      "4    8.017487e+09 -0.550900  3111.4160  3128.6510  3127.9900  3067.7840   \n",
      "..            ...       ...        ...        ...        ...        ...   \n",
      "831  1.656664e+10  0.496361  4330.4328  4309.0444  4250.0614  4278.2178   \n",
      "832  1.646676e+10 -0.112393  4325.5657  4330.4328  4309.0444  4250.0614   \n",
      "833  1.585659e+10 -1.270192  4270.6227  4325.5657  4330.4328  4309.0444   \n",
      "834  1.708824e+10  1.715333  4343.8781  4270.6227  4325.5657  4330.4328   \n",
      "835  1.689722e+10  1.171630  4394.7723  4343.8781  4270.6227  4325.5657   \n",
      "\n",
      "     close -4d  close -5d  close -6d  close -7d  prediction      strategy  \\\n",
      "0    3054.3030  3035.8740  2964.8420  2969.5350         1.0           NaN   \n",
      "1    3047.7030  3054.3030  3035.8740  2964.8420         1.0  1.278000e-01   \n",
      "2    3078.4750  3047.7030  3054.3030  3035.8740         1.0  3.786075e-01   \n",
      "3    3072.6860  3078.4750  3047.7030  3054.3030         1.0  3.865961e-01   \n",
      "4    3094.7780  3072.6860  3078.4750  3047.7030         1.0  1.736203e-01   \n",
      "..         ...        ...        ...        ...         ...           ...   \n",
      "831  4222.3114  4189.3527  4238.9936  4175.6747         1.0  1.272472e-32   \n",
      "832  4278.2178  4222.3114  4189.3527  4238.9936         1.0  1.129455e-32   \n",
      "833  4250.0614  4278.2178  4222.3114  4189.3527         1.0 -3.051697e-33   \n",
      "834  4309.0444  4250.0614  4278.2178  4222.3114         1.0 -8.286373e-33   \n",
      "835  4330.4328  4309.0444  4250.0614  4278.2178         1.0 -1.799494e-32   \n",
      "\n",
      "          cum_ret  \n",
      "0    1.719000e+00  \n",
      "1    2.196882e-01  \n",
      "2    6.508263e-01  \n",
      "3    6.645587e-01  \n",
      "4    2.984533e-01  \n",
      "..            ...  \n",
      "831  2.187379e-32  \n",
      "832  1.941533e-32  \n",
      "833 -5.245867e-33  \n",
      "834 -1.424427e-32  \n",
      "835 -3.093329e-32  \n",
      "\n",
      "[836 rows x 13 columns]\n",
      "0      1.0\n",
      "1      1.0\n",
      "2      1.0\n",
      "3      1.0\n",
      "4      1.0\n",
      "      ... \n",
      "831    1.0\n",
      "832    1.0\n",
      "833    1.0\n",
      "834    1.0\n",
      "835    1.0\n",
      "Name: prediction, Length: 836, dtype: float64\n"
     ]
    }
   ],
   "source": [
    "print(dat.dropna()['pctChg'])\n",
    "print(dat)\n",
    "#print(dat['prediction'])"
   ]
  },
  {
   "cell_type": "code",
   "execution_count": 402,
   "metadata": {},
   "outputs": [],
   "source": [
    "dat_train, dat_test, l_train, l_test = \\\n",
    "train_test_split(dat.dropna().drop(['pctChg'],axis = 1), np.sign(dat.dropna().loc[:,'pctChg']), test_size=0.25)"
   ]
  },
  {
   "cell_type": "code",
   "execution_count": 403,
   "metadata": {},
   "outputs": [
    {
     "name": "stdout",
     "output_type": "stream",
     "text": [
      "           volume      close  close -1d  close -2d  close -3d  close -4d  \\\n",
      "489  2.386374e+10  5458.0812  5470.4563  5577.9711  5596.3525  5441.1583   \n",
      "77   1.033919e+10  3668.7250  3730.4510  3599.7000  3667.4570  3720.6680   \n",
      "211  1.115135e+10  3891.6530  3878.2060  3849.9940  3889.5980  3907.8640   \n",
      "367  2.460689e+10  4680.3046  4544.7007  4516.2532  4744.4687  4806.6902   \n",
      "107  1.240759e+10  3801.3090  3841.2650  3833.9380  3828.5180  3715.9380   \n",
      "\n",
      "     close -5d  close -6d  close -7d  prediction  ...  SVCprediction  \\\n",
      "489  5495.4306  5513.6568  5417.6677         1.0  ...            1.0   \n",
      "77   3684.6160  3913.2110  3900.3330         1.0  ...            1.0   \n",
      "211  3947.0390  3907.9290  3877.0890         1.0  ...            1.0   \n",
      "367  4852.9612  4753.1333  4840.7712         1.0  ...            1.0   \n",
      "107  3667.6180  3654.8240  3654.8790         1.0  ...            1.0   \n",
      "\n",
      "      SVCstrategy    SVCcum_ret  DTprediction    DTstrategy     DTcum_ret  \\\n",
      "489  5.447879e-10  9.364903e-10          -1.0 -1.923507e-23  9.364903e-10   \n",
      "77  -1.609110e+05 -2.766061e+05          -1.0 -7.242929e+01 -2.766061e+05   \n",
      "211 -1.460634e-10 -2.510829e-10          -1.0 -1.756213e-12 -2.510829e-10   \n",
      "367 -9.186132e-04 -1.579096e-03           1.0 -1.596409e-15 -1.579096e-03   \n",
      "107  1.184751e+02  2.036587e+02          -1.0  3.478787e+01  2.036587e+02   \n",
      "\n",
      "     RFprediction    RFstrategy  KNNprediction   KNNstrategy  \n",
      "489          -1.0 -1.923507e-23           -1.0  1.030238e-23  \n",
      "77           -1.0 -7.242929e+01            1.0 -3.813597e+02  \n",
      "211          -1.0 -1.756213e-12            1.0 -2.531884e-10  \n",
      "367           1.0 -1.596409e-15           -1.0  4.338216e-09  \n",
      "107          -1.0  3.478787e+01           -1.0  1.802597e-03  \n",
      "\n",
      "[5 rows x 22 columns]\n",
      "489   -1.0\n",
      "77    -1.0\n",
      "211    1.0\n",
      "367    1.0\n",
      "107   -1.0\n",
      "Name: pctChg, dtype: float64\n"
     ]
    }
   ],
   "source": [
    "print(dat_train.head())\n",
    "print(l_train.head())"
   ]
  },
  {
   "cell_type": "code",
   "execution_count": 409,
   "metadata": {},
   "outputs": [],
   "source": [
    "clf_LR = LogisticRegression(C=1000)     #定义了逻辑回归的分类器，clf_LR，初始化模型；\n",
    "clf_LR.fit(sklearn.preprocessing.scale(dat_train.loc[:,['volume','close','close -1d','close -2d','close -3d','close -4d','close -5d','close -6d','close -7d']]),l_train)     \n",
    "pred_LR = clf_LR.predict(features_test)    "
   ]
  },
  {
   "cell_type": "code",
   "execution_count": 419,
   "metadata": {},
   "outputs": [],
   "source": [
    "dat['prediction'] = clf_LR.predict(dat.loc[:,['volume','close','close -1d','close -2d','close -3d','close -4d','close -5d','close -6d','close -7d']].dropna())#.drop(['pctChg'],axis=1)"
   ]
  },
  {
   "cell_type": "code",
   "execution_count": 420,
   "metadata": {},
   "outputs": [],
   "source": [
    "dat['strategy'] = (dat['prediction'].shift(1) * dat['pctChg'] + 1).cumprod() # shift(1) means drag data down one line\n",
    "dat['cum_ret'] = (dat['pctChg']+1).cumprod()"
   ]
  },
  {
   "cell_type": "code",
   "execution_count": 479,
   "metadata": {},
   "outputs": [],
   "source": [
    "#dat[['cum_ret','strategy']].dropna().plot()#figsize=(10, 6)"
   ]
  },
  {
   "cell_type": "code",
   "execution_count": 414,
   "metadata": {
    "jupyter": {
     "outputs_hidden": false
    }
   },
   "outputs": [
    {
     "data": {
      "text/plain": [
       "0.49282296650717705"
      ]
     },
     "execution_count": 414,
     "metadata": {},
     "output_type": "execute_result"
    }
   ],
   "source": [
    "from sklearn.metrics import accuracy_score\n",
    "acc = accuracy_score(pred_LR, label_test)     #拿预测的测试集的label去跟真实的测试集的label去比较、打分\n",
    "acc\n",
    "\n"
   ]
  },
  {
   "cell_type": "code",
   "execution_count": 415,
   "metadata": {},
   "outputs": [
    {
     "data": {
      "text/plain": [
       "array([[103,   0],\n",
       "       [106,   0]], dtype=int64)"
      ]
     },
     "execution_count": 415,
     "metadata": {},
     "output_type": "execute_result"
    }
   ],
   "source": [
    "from sklearn.metrics import confusion_matrix\n",
    "confusion_matrix(label_test, pred_LR)"
   ]
  },
  {
   "cell_type": "markdown",
   "metadata": {},
   "source": [
    "### 3. SVM支持向量机算法实现"
   ]
  },
  {
   "cell_type": "code",
   "execution_count": 287,
   "metadata": {
    "jupyter": {
     "outputs_hidden": false
    }
   },
   "outputs": [],
   "source": [
    "from sklearn.svm import SVC  #SVM下的分类问题；还有SVR；\n",
    "\n",
    "clf_SVC = SVC()                               #默认的核函数就是rbf；\n",
    "clf_SVC.fit(dat_train,l_train)     \n",
    "pred_SVC = clf_SVC.predict(dat_test)    \n",
    "\n",
    "#plot_pic(clf_SVC, dat_test, l_test,'volume','close')"
   ]
  },
  {
   "cell_type": "code",
   "execution_count": 288,
   "metadata": {
    "jupyter": {
     "outputs_hidden": false
    }
   },
   "outputs": [
    {
     "data": {
      "text/plain": [
       "0.507177033492823"
      ]
     },
     "execution_count": 288,
     "metadata": {},
     "output_type": "execute_result"
    }
   ],
   "source": [
    "from sklearn.metrics import accuracy_score\n",
    "acc_SVC  = accuracy_score(pred_SVC, label_test)    #拿预测的测试集的label去跟真实的测试集的label去比较、打分\n",
    "acc_SVC "
   ]
  },
  {
   "cell_type": "code",
   "execution_count": 289,
   "metadata": {},
   "outputs": [
    {
     "data": {
      "text/plain": [
       "array([[  0, 103],\n",
       "       [  0, 106]], dtype=int64)"
      ]
     },
     "execution_count": 289,
     "metadata": {},
     "output_type": "execute_result"
    }
   ],
   "source": [
    "confusion_matrix(label_test, pred_SVC)"
   ]
  },
  {
   "cell_type": "code",
   "execution_count": 416,
   "metadata": {},
   "outputs": [],
   "source": [
    "dat['SVCprediction'] = clf_SVC.predict(dat.loc[:,['volume','close','close -1d','close -2d','close -3d','close -4d','close -5d','close -6d','close -7d']].dropna())"
   ]
  },
  {
   "cell_type": "code",
   "execution_count": 417,
   "metadata": {},
   "outputs": [
    {
     "data": {
      "text/plain": [
       "0      1.0\n",
       "1      1.0\n",
       "2      1.0\n",
       "3      1.0\n",
       "4      1.0\n",
       "      ... \n",
       "831    1.0\n",
       "832    1.0\n",
       "833    1.0\n",
       "834    1.0\n",
       "835    1.0\n",
       "Name: SVCprediction, Length: 836, dtype: float64"
      ]
     },
     "execution_count": 417,
     "metadata": {},
     "output_type": "execute_result"
    }
   ],
   "source": [
    "dat['SVCprediction'] "
   ]
  },
  {
   "cell_type": "code",
   "execution_count": 418,
   "metadata": {},
   "outputs": [
    {
     "data": {
      "text/plain": [
       "<matplotlib.axes._subplots.AxesSubplot at 0x2d5b68b4d00>"
      ]
     },
     "execution_count": 418,
     "metadata": {},
     "output_type": "execute_result"
    },
    {
     "data": {
      "image/png": "[encoded data removed]",
      "text/plain": [
       "<Figure size 640x480 with 1 Axes>"
      ]
     },
     "metadata": {},
     "output_type": "display_data"
    }
   ],
   "source": [
    "dat['SVCstrategy'] = (dat['SVCprediction'].shift(1) * dat['pctChg'] + 1).cumprod() # shift(1) means drag data down one line\n",
    "dat['cum_ret'] = (dat['pctChg']+1).cumprod()\n",
    "dat[['cum_ret','SVCstrategy']].dropna().plot()#figsize=(10, 6)"
   ]
  },
  {
   "cell_type": "markdown",
   "metadata": {},
   "source": [
    "### 4. 决策树算法实现"
   ]
  },
  {
   "cell_type": "code",
   "execution_count": 491,
   "metadata": {},
   "outputs": [
    {
     "data": {
      "text/html": [
       "<div>\n",
       "<style scoped>\n",
       "    .dataframe tbody tr th:only-of-type {\n",
       "        vertical-align: middle;\n",
       "    }\n",
       "\n",
       "    .dataframe tbody tr th {\n",
       "        vertical-align: top;\n",
       "    }\n",
       "\n",
       "    .dataframe thead th {\n",
       "        text-align: right;\n",
       "    }\n",
       "</style>\n",
       "<table border=\"1\" class=\"dataframe\">\n",
       "  <thead>\n",
       "    <tr style=\"text-align: right;\">\n",
       "      <th></th>\n",
       "      <th>volume</th>\n",
       "      <th>close</th>\n",
       "      <th>close -1d</th>\n",
       "      <th>close -2d</th>\n",
       "      <th>close -3d</th>\n",
       "      <th>close -4d</th>\n",
       "      <th>close -5d</th>\n",
       "      <th>close -6d</th>\n",
       "      <th>close -7d</th>\n",
       "      <th>prediction</th>\n",
       "      <th>...</th>\n",
       "      <th>SVCprediction</th>\n",
       "      <th>SVCstrategy</th>\n",
       "      <th>SVCcum_ret</th>\n",
       "      <th>DTprediction</th>\n",
       "      <th>DTstrategy</th>\n",
       "      <th>DTcum_ret</th>\n",
       "      <th>RFprediction</th>\n",
       "      <th>RFstrategy</th>\n",
       "      <th>KNNprediction</th>\n",
       "      <th>KNNstrategy</th>\n",
       "    </tr>\n",
       "  </thead>\n",
       "  <tbody>\n",
       "    <tr>\n",
       "      <th>489</th>\n",
       "      <td>2.386374e+10</td>\n",
       "      <td>5458.0812</td>\n",
       "      <td>5470.4563</td>\n",
       "      <td>5577.9711</td>\n",
       "      <td>5596.3525</td>\n",
       "      <td>5441.1583</td>\n",
       "      <td>5495.4306</td>\n",
       "      <td>5513.6568</td>\n",
       "      <td>5417.6677</td>\n",
       "      <td>1.0</td>\n",
       "      <td>...</td>\n",
       "      <td>1.0</td>\n",
       "      <td>5.447879e-10</td>\n",
       "      <td>9.364903e-10</td>\n",
       "      <td>-1.0</td>\n",
       "      <td>-1.923507e-23</td>\n",
       "      <td>9.364903e-10</td>\n",
       "      <td>-1.0</td>\n",
       "      <td>-1.923507e-23</td>\n",
       "      <td>-1.0</td>\n",
       "      <td>1.030238e-23</td>\n",
       "    </tr>\n",
       "    <tr>\n",
       "      <th>77</th>\n",
       "      <td>1.033919e+10</td>\n",
       "      <td>3668.7250</td>\n",
       "      <td>3730.4510</td>\n",
       "      <td>3599.7000</td>\n",
       "      <td>3667.4570</td>\n",
       "      <td>3720.6680</td>\n",
       "      <td>3684.6160</td>\n",
       "      <td>3913.2110</td>\n",
       "      <td>3900.3330</td>\n",
       "      <td>1.0</td>\n",
       "      <td>...</td>\n",
       "      <td>1.0</td>\n",
       "      <td>-1.609110e+05</td>\n",
       "      <td>-2.766061e+05</td>\n",
       "      <td>-1.0</td>\n",
       "      <td>-7.242929e+01</td>\n",
       "      <td>-2.766061e+05</td>\n",
       "      <td>-1.0</td>\n",
       "      <td>-7.242929e+01</td>\n",
       "      <td>1.0</td>\n",
       "      <td>-3.813597e+02</td>\n",
       "    </tr>\n",
       "    <tr>\n",
       "      <th>211</th>\n",
       "      <td>1.115135e+10</td>\n",
       "      <td>3891.6530</td>\n",
       "      <td>3878.2060</td>\n",
       "      <td>3849.9940</td>\n",
       "      <td>3889.5980</td>\n",
       "      <td>3907.8640</td>\n",
       "      <td>3947.0390</td>\n",
       "      <td>3907.9290</td>\n",
       "      <td>3877.0890</td>\n",
       "      <td>1.0</td>\n",
       "      <td>...</td>\n",
       "      <td>1.0</td>\n",
       "      <td>-1.460634e-10</td>\n",
       "      <td>-2.510829e-10</td>\n",
       "      <td>-1.0</td>\n",
       "      <td>-1.756213e-12</td>\n",
       "      <td>-2.510829e-10</td>\n",
       "      <td>-1.0</td>\n",
       "      <td>-1.756213e-12</td>\n",
       "      <td>1.0</td>\n",
       "      <td>-2.531884e-10</td>\n",
       "    </tr>\n",
       "    <tr>\n",
       "      <th>367</th>\n",
       "      <td>2.460689e+10</td>\n",
       "      <td>4680.3046</td>\n",
       "      <td>4544.7007</td>\n",
       "      <td>4516.2532</td>\n",
       "      <td>4744.4687</td>\n",
       "      <td>4806.6902</td>\n",
       "      <td>4852.9612</td>\n",
       "      <td>4753.1333</td>\n",
       "      <td>4840.7712</td>\n",
       "      <td>1.0</td>\n",
       "      <td>...</td>\n",
       "      <td>1.0</td>\n",
       "      <td>-9.186132e-04</td>\n",
       "      <td>-1.579096e-03</td>\n",
       "      <td>1.0</td>\n",
       "      <td>-1.596409e-15</td>\n",
       "      <td>-1.579096e-03</td>\n",
       "      <td>1.0</td>\n",
       "      <td>-1.596409e-15</td>\n",
       "      <td>-1.0</td>\n",
       "      <td>4.338216e-09</td>\n",
       "    </tr>\n",
       "    <tr>\n",
       "      <th>107</th>\n",
       "      <td>1.240759e+10</td>\n",
       "      <td>3801.3090</td>\n",
       "      <td>3841.2650</td>\n",
       "      <td>3833.9380</td>\n",
       "      <td>3828.5180</td>\n",
       "      <td>3715.9380</td>\n",
       "      <td>3667.6180</td>\n",
       "      <td>3654.8240</td>\n",
       "      <td>3654.8790</td>\n",
       "      <td>1.0</td>\n",
       "      <td>...</td>\n",
       "      <td>1.0</td>\n",
       "      <td>1.184751e+02</td>\n",
       "      <td>2.036587e+02</td>\n",
       "      <td>-1.0</td>\n",
       "      <td>3.478787e+01</td>\n",
       "      <td>2.036587e+02</td>\n",
       "      <td>-1.0</td>\n",
       "      <td>3.478787e+01</td>\n",
       "      <td>-1.0</td>\n",
       "      <td>1.802597e-03</td>\n",
       "    </tr>\n",
       "    <tr>\n",
       "      <th>...</th>\n",
       "      <td>...</td>\n",
       "      <td>...</td>\n",
       "      <td>...</td>\n",
       "      <td>...</td>\n",
       "      <td>...</td>\n",
       "      <td>...</td>\n",
       "      <td>...</td>\n",
       "      <td>...</td>\n",
       "      <td>...</td>\n",
       "      <td>...</td>\n",
       "      <td>...</td>\n",
       "      <td>...</td>\n",
       "      <td>...</td>\n",
       "      <td>...</td>\n",
       "      <td>...</td>\n",
       "      <td>...</td>\n",
       "      <td>...</td>\n",
       "      <td>...</td>\n",
       "      <td>...</td>\n",
       "      <td>...</td>\n",
       "      <td>...</td>\n",
       "    </tr>\n",
       "    <tr>\n",
       "      <th>111</th>\n",
       "      <td>1.583703e+10</td>\n",
       "      <td>3935.8110</td>\n",
       "      <td>3825.5870</td>\n",
       "      <td>3834.8170</td>\n",
       "      <td>3794.3310</td>\n",
       "      <td>3801.3090</td>\n",
       "      <td>3841.2650</td>\n",
       "      <td>3833.9380</td>\n",
       "      <td>3828.5180</td>\n",
       "      <td>1.0</td>\n",
       "      <td>...</td>\n",
       "      <td>1.0</td>\n",
       "      <td>5.891827e+02</td>\n",
       "      <td>1.012805e+03</td>\n",
       "      <td>1.0</td>\n",
       "      <td>3.940542e+00</td>\n",
       "      <td>1.012805e+03</td>\n",
       "      <td>1.0</td>\n",
       "      <td>3.940542e+00</td>\n",
       "      <td>-1.0</td>\n",
       "      <td>2.041863e-04</td>\n",
       "    </tr>\n",
       "    <tr>\n",
       "      <th>141</th>\n",
       "      <td>8.208306e+09</td>\n",
       "      <td>3699.1040</td>\n",
       "      <td>3633.5290</td>\n",
       "      <td>3669.2930</td>\n",
       "      <td>3621.4310</td>\n",
       "      <td>3636.3280</td>\n",
       "      <td>3675.6880</td>\n",
       "      <td>3747.4370</td>\n",
       "      <td>3803.4690</td>\n",
       "      <td>1.0</td>\n",
       "      <td>...</td>\n",
       "      <td>1.0</td>\n",
       "      <td>-3.852565e-04</td>\n",
       "      <td>-6.622559e-04</td>\n",
       "      <td>1.0</td>\n",
       "      <td>-1.424350e-03</td>\n",
       "      <td>-6.622559e-04</td>\n",
       "      <td>1.0</td>\n",
       "      <td>-1.424350e-03</td>\n",
       "      <td>-1.0</td>\n",
       "      <td>2.911100e-05</td>\n",
       "    </tr>\n",
       "    <tr>\n",
       "      <th>264</th>\n",
       "      <td>1.632362e+10</td>\n",
       "      <td>4057.5100</td>\n",
       "      <td>4077.4240</td>\n",
       "      <td>3987.7340</td>\n",
       "      <td>3959.9180</td>\n",
       "      <td>3984.4320</td>\n",
       "      <td>3952.4640</td>\n",
       "      <td>3916.0050</td>\n",
       "      <td>3899.8690</td>\n",
       "      <td>1.0</td>\n",
       "      <td>...</td>\n",
       "      <td>1.0</td>\n",
       "      <td>2.226437e-07</td>\n",
       "      <td>3.827244e-07</td>\n",
       "      <td>-1.0</td>\n",
       "      <td>3.220815e-15</td>\n",
       "      <td>3.827244e-07</td>\n",
       "      <td>-1.0</td>\n",
       "      <td>3.220815e-15</td>\n",
       "      <td>-1.0</td>\n",
       "      <td>-7.770502e-13</td>\n",
       "    </tr>\n",
       "    <tr>\n",
       "      <th>33</th>\n",
       "      <td>3.180774e+10</td>\n",
       "      <td>3848.0900</td>\n",
       "      <td>3816.0130</td>\n",
       "      <td>3794.1040</td>\n",
       "      <td>3749.7140</td>\n",
       "      <td>3669.3700</td>\n",
       "      <td>3678.3920</td>\n",
       "      <td>3684.6930</td>\n",
       "      <td>3729.4830</td>\n",
       "      <td>1.0</td>\n",
       "      <td>...</td>\n",
       "      <td>1.0</td>\n",
       "      <td>-2.441318e+03</td>\n",
       "      <td>-4.196625e+03</td>\n",
       "      <td>1.0</td>\n",
       "      <td>-9.906899e+02</td>\n",
       "      <td>-4.196625e+03</td>\n",
       "      <td>1.0</td>\n",
       "      <td>-9.906899e+02</td>\n",
       "      <td>-1.0</td>\n",
       "      <td>-2.356172e+00</td>\n",
       "    </tr>\n",
       "    <tr>\n",
       "      <th>645</th>\n",
       "      <td>2.405072e+10</td>\n",
       "      <td>4933.7262</td>\n",
       "      <td>4843.0624</td>\n",
       "      <td>4869.4113</td>\n",
       "      <td>4869.4587</td>\n",
       "      <td>4805.6099</td>\n",
       "      <td>4813.2703</td>\n",
       "      <td>4827.0433</td>\n",
       "      <td>4801.6094</td>\n",
       "      <td>1.0</td>\n",
       "      <td>...</td>\n",
       "      <td>1.0</td>\n",
       "      <td>-9.816397e-15</td>\n",
       "      <td>-1.687439e-14</td>\n",
       "      <td>1.0</td>\n",
       "      <td>-4.231800e-40</td>\n",
       "      <td>-1.687439e-14</td>\n",
       "      <td>1.0</td>\n",
       "      <td>-4.231800e-40</td>\n",
       "      <td>-1.0</td>\n",
       "      <td>-1.291938e-37</td>\n",
       "    </tr>\n",
       "  </tbody>\n",
       "</table>\n",
       "<p>626 rows × 22 columns</p>\n",
       "</div>"
      ],
      "text/plain": [
       "           volume      close  close -1d  close -2d  close -3d  close -4d  \\\n",
       "489  2.386374e+10  5458.0812  5470.4563  5577.9711  5596.3525  5441.1583   \n",
       "77   1.033919e+10  3668.7250  3730.4510  3599.7000  3667.4570  3720.6680   \n",
       "211  1.115135e+10  3891.6530  3878.2060  3849.9940  3889.5980  3907.8640   \n",
       "367  2.460689e+10  4680.3046  4544.7007  4516.2532  4744.4687  4806.6902   \n",
       "107  1.240759e+10  3801.3090  3841.2650  3833.9380  3828.5180  3715.9380   \n",
       "..            ...        ...        ...        ...        ...        ...   \n",
       "111  1.583703e+10  3935.8110  3825.5870  3834.8170  3794.3310  3801.3090   \n",
       "141  8.208306e+09  3699.1040  3633.5290  3669.2930  3621.4310  3636.3280   \n",
       "264  1.632362e+10  4057.5100  4077.4240  3987.7340  3959.9180  3984.4320   \n",
       "33   3.180774e+10  3848.0900  3816.0130  3794.1040  3749.7140  3669.3700   \n",
       "645  2.405072e+10  4933.7262  4843.0624  4869.4113  4869.4587  4805.6099   \n",
       "\n",
       "     close -5d  close -6d  close -7d  prediction  ...  SVCprediction  \\\n",
       "489  5495.4306  5513.6568  5417.6677         1.0  ...            1.0   \n",
       "77   3684.6160  3913.2110  3900.3330         1.0  ...            1.0   \n",
       "211  3947.0390  3907.9290  3877.0890         1.0  ...            1.0   \n",
       "367  4852.9612  4753.1333  4840.7712         1.0  ...            1.0   \n",
       "107  3667.6180  3654.8240  3654.8790         1.0  ...            1.0   \n",
       "..         ...        ...        ...         ...  ...            ...   \n",
       "111  3841.2650  3833.9380  3828.5180         1.0  ...            1.0   \n",
       "141  3675.6880  3747.4370  3803.4690         1.0  ...            1.0   \n",
       "264  3952.4640  3916.0050  3899.8690         1.0  ...            1.0   \n",
       "33   3678.3920  3684.6930  3729.4830         1.0  ...            1.0   \n",
       "645  4813.2703  4827.0433  4801.6094         1.0  ...            1.0   \n",
       "\n",
       "      SVCstrategy    SVCcum_ret  DTprediction    DTstrategy     DTcum_ret  \\\n",
       "489  5.447879e-10  9.364903e-10          -1.0 -1.923507e-23  9.364903e-10   \n",
       "77  -1.609110e+05 -2.766061e+05          -1.0 -7.242929e+01 -2.766061e+05   \n",
       "211 -1.460634e-10 -2.510829e-10          -1.0 -1.756213e-12 -2.510829e-10   \n",
       "367 -9.186132e-04 -1.579096e-03           1.0 -1.596409e-15 -1.579096e-03   \n",
       "107  1.184751e+02  2.036587e+02          -1.0  3.478787e+01  2.036587e+02   \n",
       "..            ...           ...           ...           ...           ...   \n",
       "111  5.891827e+02  1.012805e+03           1.0  3.940542e+00  1.012805e+03   \n",
       "141 -3.852565e-04 -6.622559e-04           1.0 -1.424350e-03 -6.622559e-04   \n",
       "264  2.226437e-07  3.827244e-07          -1.0  3.220815e-15  3.827244e-07   \n",
       "33  -2.441318e+03 -4.196625e+03           1.0 -9.906899e+02 -4.196625e+03   \n",
       "645 -9.816397e-15 -1.687439e-14           1.0 -4.231800e-40 -1.687439e-14   \n",
       "\n",
       "     RFprediction    RFstrategy  KNNprediction   KNNstrategy  \n",
       "489          -1.0 -1.923507e-23           -1.0  1.030238e-23  \n",
       "77           -1.0 -7.242929e+01            1.0 -3.813597e+02  \n",
       "211          -1.0 -1.756213e-12            1.0 -2.531884e-10  \n",
       "367           1.0 -1.596409e-15           -1.0  4.338216e-09  \n",
       "107          -1.0  3.478787e+01           -1.0  1.802597e-03  \n",
       "..            ...           ...            ...           ...  \n",
       "111           1.0  3.940542e+00           -1.0  2.041863e-04  \n",
       "141           1.0 -1.424350e-03           -1.0  2.911100e-05  \n",
       "264          -1.0  3.220815e-15           -1.0 -7.770502e-13  \n",
       "33            1.0 -9.906899e+02           -1.0 -2.356172e+00  \n",
       "645           1.0 -4.231800e-40           -1.0 -1.291938e-37  \n",
       "\n",
       "[626 rows x 22 columns]"
      ]
     },
     "execution_count": 491,
     "metadata": {},
     "output_type": "execute_result"
    }
   ],
   "source": [
    "dat_train"
   ]
  },
  {
   "cell_type": "code",
   "execution_count": 492,
   "metadata": {
    "jupyter": {
     "outputs_hidden": false
    }
   },
   "outputs": [],
   "source": [
    "from sklearn.tree import DecisionTreeClassifier\n",
    "\n",
    "clf_DT = DecisionTreeClassifier()\n",
    "clf_DT.fit(sklearn.preprocessing.scale(dat_train.loc[:,['volume','close','close -1d','close -2d','close -3d','close -4d','close -5d','close -6d','close -7d']]),l_train)      \n",
    "pred_DT = clf_DT.predict(dat_test.loc[:,['volume','close','close -1d','close -2d','close -3d','close -4d','close -5d','close -6d','close -7d']])    "
   ]
  },
  {
   "cell_type": "code",
   "execution_count": 493,
   "metadata": {},
   "outputs": [
    {
     "data": {
      "text/plain": [
       "0.507177033492823"
      ]
     },
     "execution_count": 493,
     "metadata": {},
     "output_type": "execute_result"
    }
   ],
   "source": [
    "from sklearn.metrics import accuracy_score\n",
    "acc = accuracy_score(pred_DT, label_test)\n",
    "acc"
   ]
  },
  {
   "cell_type": "code",
   "execution_count": 494,
   "metadata": {},
   "outputs": [
    {
     "data": {
      "text/plain": [
       "array([[  0, 103],\n",
       "       [  0, 106]], dtype=int64)"
      ]
     },
     "execution_count": 494,
     "metadata": {},
     "output_type": "execute_result"
    }
   ],
   "source": [
    "confusion_matrix(label_test, pred_DT)"
   ]
  },
  {
   "cell_type": "code",
   "execution_count": 489,
   "metadata": {},
   "outputs": [
    {
     "data": {
      "text/html": [
       "<div>\n",
       "<style scoped>\n",
       "    .dataframe tbody tr th:only-of-type {\n",
       "        vertical-align: middle;\n",
       "    }\n",
       "\n",
       "    .dataframe tbody tr th {\n",
       "        vertical-align: top;\n",
       "    }\n",
       "\n",
       "    .dataframe thead th {\n",
       "        text-align: right;\n",
       "    }\n",
       "</style>\n",
       "<table border=\"1\" class=\"dataframe\">\n",
       "  <thead>\n",
       "    <tr style=\"text-align: right;\">\n",
       "      <th></th>\n",
       "      <th>volume</th>\n",
       "      <th>pctChg</th>\n",
       "      <th>close</th>\n",
       "      <th>close -1d</th>\n",
       "      <th>close -2d</th>\n",
       "      <th>close -3d</th>\n",
       "      <th>close -4d</th>\n",
       "      <th>close -5d</th>\n",
       "      <th>close -6d</th>\n",
       "      <th>close -7d</th>\n",
       "    </tr>\n",
       "  </thead>\n",
       "  <tbody>\n",
       "    <tr>\n",
       "      <th>0</th>\n",
       "      <td>7.178642e+09</td>\n",
       "      <td>0.719000</td>\n",
       "      <td>3094.7780</td>\n",
       "      <td>3072.6860</td>\n",
       "      <td>3078.4750</td>\n",
       "      <td>3047.7030</td>\n",
       "      <td>3054.3030</td>\n",
       "      <td>3035.8740</td>\n",
       "      <td>2964.8420</td>\n",
       "      <td>2969.5350</td>\n",
       "    </tr>\n",
       "    <tr>\n",
       "      <th>1</th>\n",
       "      <td>6.612170e+09</td>\n",
       "      <td>-0.872200</td>\n",
       "      <td>3067.7840</td>\n",
       "      <td>3094.7780</td>\n",
       "      <td>3072.6860</td>\n",
       "      <td>3078.4750</td>\n",
       "      <td>3047.7030</td>\n",
       "      <td>3054.3030</td>\n",
       "      <td>3035.8740</td>\n",
       "      <td>2964.8420</td>\n",
       "    </tr>\n",
       "    <tr>\n",
       "      <th>2</th>\n",
       "      <td>8.877296e+09</td>\n",
       "      <td>1.962500</td>\n",
       "      <td>3127.9900</td>\n",
       "      <td>3067.7840</td>\n",
       "      <td>3094.7780</td>\n",
       "      <td>3072.6860</td>\n",
       "      <td>3078.4750</td>\n",
       "      <td>3047.7030</td>\n",
       "      <td>3054.3030</td>\n",
       "      <td>3035.8740</td>\n",
       "    </tr>\n",
       "    <tr>\n",
       "      <th>3</th>\n",
       "      <td>8.021434e+09</td>\n",
       "      <td>0.021100</td>\n",
       "      <td>3128.6510</td>\n",
       "      <td>3127.9900</td>\n",
       "      <td>3067.7840</td>\n",
       "      <td>3094.7780</td>\n",
       "      <td>3072.6860</td>\n",
       "      <td>3078.4750</td>\n",
       "      <td>3047.7030</td>\n",
       "      <td>3054.3030</td>\n",
       "    </tr>\n",
       "    <tr>\n",
       "      <th>4</th>\n",
       "      <td>8.017487e+09</td>\n",
       "      <td>-0.550900</td>\n",
       "      <td>3111.4160</td>\n",
       "      <td>3128.6510</td>\n",
       "      <td>3127.9900</td>\n",
       "      <td>3067.7840</td>\n",
       "      <td>3094.7780</td>\n",
       "      <td>3072.6860</td>\n",
       "      <td>3078.4750</td>\n",
       "      <td>3047.7030</td>\n",
       "    </tr>\n",
       "    <tr>\n",
       "      <th>...</th>\n",
       "      <td>...</td>\n",
       "      <td>...</td>\n",
       "      <td>...</td>\n",
       "      <td>...</td>\n",
       "      <td>...</td>\n",
       "      <td>...</td>\n",
       "      <td>...</td>\n",
       "      <td>...</td>\n",
       "      <td>...</td>\n",
       "      <td>...</td>\n",
       "    </tr>\n",
       "    <tr>\n",
       "      <th>831</th>\n",
       "      <td>1.656664e+10</td>\n",
       "      <td>0.496361</td>\n",
       "      <td>4330.4328</td>\n",
       "      <td>4309.0444</td>\n",
       "      <td>4250.0614</td>\n",
       "      <td>4278.2178</td>\n",
       "      <td>4222.3114</td>\n",
       "      <td>4189.3527</td>\n",
       "      <td>4238.9936</td>\n",
       "      <td>4175.6747</td>\n",
       "    </tr>\n",
       "    <tr>\n",
       "      <th>832</th>\n",
       "      <td>1.646676e+10</td>\n",
       "      <td>-0.112393</td>\n",
       "      <td>4325.5657</td>\n",
       "      <td>4330.4328</td>\n",
       "      <td>4309.0444</td>\n",
       "      <td>4250.0614</td>\n",
       "      <td>4278.2178</td>\n",
       "      <td>4222.3114</td>\n",
       "      <td>4189.3527</td>\n",
       "      <td>4238.9936</td>\n",
       "    </tr>\n",
       "    <tr>\n",
       "      <th>833</th>\n",
       "      <td>1.585659e+10</td>\n",
       "      <td>-1.270192</td>\n",
       "      <td>4270.6227</td>\n",
       "      <td>4325.5657</td>\n",
       "      <td>4330.4328</td>\n",
       "      <td>4309.0444</td>\n",
       "      <td>4250.0614</td>\n",
       "      <td>4278.2178</td>\n",
       "      <td>4222.3114</td>\n",
       "      <td>4189.3527</td>\n",
       "    </tr>\n",
       "    <tr>\n",
       "      <th>834</th>\n",
       "      <td>1.708824e+10</td>\n",
       "      <td>1.715333</td>\n",
       "      <td>4343.8781</td>\n",
       "      <td>4270.6227</td>\n",
       "      <td>4325.5657</td>\n",
       "      <td>4330.4328</td>\n",
       "      <td>4309.0444</td>\n",
       "      <td>4250.0614</td>\n",
       "      <td>4278.2178</td>\n",
       "      <td>4222.3114</td>\n",
       "    </tr>\n",
       "    <tr>\n",
       "      <th>835</th>\n",
       "      <td>1.689722e+10</td>\n",
       "      <td>1.171630</td>\n",
       "      <td>4394.7723</td>\n",
       "      <td>4343.8781</td>\n",
       "      <td>4270.6227</td>\n",
       "      <td>4325.5657</td>\n",
       "      <td>4330.4328</td>\n",
       "      <td>4309.0444</td>\n",
       "      <td>4250.0614</td>\n",
       "      <td>4278.2178</td>\n",
       "    </tr>\n",
       "  </tbody>\n",
       "</table>\n",
       "<p>836 rows × 10 columns</p>\n",
       "</div>"
      ],
      "text/plain": [
       "           volume    pctChg      close  close -1d  close -2d  close -3d  \\\n",
       "0    7.178642e+09  0.719000  3094.7780  3072.6860  3078.4750  3047.7030   \n",
       "1    6.612170e+09 -0.872200  3067.7840  3094.7780  3072.6860  3078.4750   \n",
       "2    8.877296e+09  1.962500  3127.9900  3067.7840  3094.7780  3072.6860   \n",
       "3    8.021434e+09  0.021100  3128.6510  3127.9900  3067.7840  3094.7780   \n",
       "4    8.017487e+09 -0.550900  3111.4160  3128.6510  3127.9900  3067.7840   \n",
       "..            ...       ...        ...        ...        ...        ...   \n",
       "831  1.656664e+10  0.496361  4330.4328  4309.0444  4250.0614  4278.2178   \n",
       "832  1.646676e+10 -0.112393  4325.5657  4330.4328  4309.0444  4250.0614   \n",
       "833  1.585659e+10 -1.270192  4270.6227  4325.5657  4330.4328  4309.0444   \n",
       "834  1.708824e+10  1.715333  4343.8781  4270.6227  4325.5657  4330.4328   \n",
       "835  1.689722e+10  1.171630  4394.7723  4343.8781  4270.6227  4325.5657   \n",
       "\n",
       "     close -4d  close -5d  close -6d  close -7d  \n",
       "0    3054.3030  3035.8740  2964.8420  2969.5350  \n",
       "1    3047.7030  3054.3030  3035.8740  2964.8420  \n",
       "2    3078.4750  3047.7030  3054.3030  3035.8740  \n",
       "3    3072.6860  3078.4750  3047.7030  3054.3030  \n",
       "4    3094.7780  3072.6860  3078.4750  3047.7030  \n",
       "..         ...        ...        ...        ...  \n",
       "831  4222.3114  4189.3527  4238.9936  4175.6747  \n",
       "832  4278.2178  4222.3114  4189.3527  4238.9936  \n",
       "833  4250.0614  4278.2178  4222.3114  4189.3527  \n",
       "834  4309.0444  4250.0614  4278.2178  4222.3114  \n",
       "835  4330.4328  4309.0444  4250.0614  4278.2178  \n",
       "\n",
       "[836 rows x 10 columns]"
      ]
     },
     "execution_count": 489,
     "metadata": {},
     "output_type": "execute_result"
    }
   ],
   "source": [
    "dat"
   ]
  },
  {
   "cell_type": "code",
   "execution_count": null,
   "metadata": {},
   "outputs": [],
   "source": [
    "dat['DTprediction'] = clf_DT.predict(dat.drop(['pctChg'],axis =1))"
   ]
  },
  {
   "cell_type": "code",
   "execution_count": 459,
   "metadata": {},
   "outputs": [
    {
     "data": {
      "text/plain": [
       "0      1.0\n",
       "1      1.0\n",
       "2      1.0\n",
       "3      1.0\n",
       "4      1.0\n",
       "      ... \n",
       "831    1.0\n",
       "832    1.0\n",
       "833    1.0\n",
       "834    1.0\n",
       "835    1.0\n",
       "Name: DTprediction, Length: 836, dtype: float64"
      ]
     },
     "execution_count": 459,
     "metadata": {},
     "output_type": "execute_result"
    }
   ],
   "source": [
    "dat['DTprediction'] "
   ]
  },
  {
   "cell_type": "code",
   "execution_count": 480,
   "metadata": {
    "jupyter": {
     "outputs_hidden": false
    }
   },
   "outputs": [
    {
     "ename": "KeyError",
     "evalue": "'DTprediction'",
     "output_type": "error",
     "traceback": [
      "\u001b[1;31m---------------------------------------------------------------------------\u001b[0m",
      "\u001b[1;31mKeyError\u001b[0m                                  Traceback (most recent call last)",
      "File \u001b[1;32md:\\VS\\Shared\\Python39_64\\lib\\site-packages\\pandas\\core\\indexes\\base.py:3805\u001b[0m, in \u001b[0;36mIndex.get_loc\u001b[1;34m(self, key)\u001b[0m\n\u001b[0;32m   3804\u001b[0m \u001b[38;5;28;01mtry\u001b[39;00m:\n\u001b[1;32m-> 3805\u001b[0m     \u001b[38;5;28;01mreturn\u001b[39;00m \u001b[38;5;28;43mself\u001b[39;49m\u001b[38;5;241;43m.\u001b[39;49m\u001b[43m_engine\u001b[49m\u001b[38;5;241;43m.\u001b[39;49m\u001b[43mget_loc\u001b[49m\u001b[43m(\u001b[49m\u001b[43mcasted_key\u001b[49m\u001b[43m)\u001b[49m\n\u001b[0;32m   3806\u001b[0m \u001b[38;5;28;01mexcept\u001b[39;00m \u001b[38;5;167;01mKeyError\u001b[39;00m \u001b[38;5;28;01mas\u001b[39;00m err:\n",
      "File \u001b[1;32mindex.pyx:167\u001b[0m, in \u001b[0;36mpandas._libs.index.IndexEngine.get_loc\u001b[1;34m()\u001b[0m\n",
      "File \u001b[1;32mindex.pyx:196\u001b[0m, in \u001b[0;36mpandas._libs.index.IndexEngine.get_loc\u001b[1;34m()\u001b[0m\n",
      "File \u001b[1;32mpandas\\\\_libs\\\\hashtable_class_helper.pxi:7081\u001b[0m, in \u001b[0;36mpandas._libs.hashtable.PyObjectHashTable.get_item\u001b[1;34m()\u001b[0m\n",
      "File \u001b[1;32mpandas\\\\_libs\\\\hashtable_class_helper.pxi:7089\u001b[0m, in \u001b[0;36mpandas._libs.hashtable.PyObjectHashTable.get_item\u001b[1;34m()\u001b[0m\n",
      "\u001b[1;31mKeyError\u001b[0m: 'DTprediction'",
      "\nThe above exception was the direct cause of the following exception:\n",
      "\u001b[1;31mKeyError\u001b[0m                                  Traceback (most recent call last)",
      "Cell \u001b[1;32mIn[480], line 1\u001b[0m\n\u001b[1;32m----> 1\u001b[0m dat[\u001b[38;5;124m'\u001b[39m\u001b[38;5;124mDTstrategy\u001b[39m\u001b[38;5;124m'\u001b[39m] \u001b[38;5;241m=\u001b[39m (\u001b[43mdat\u001b[49m\u001b[43m[\u001b[49m\u001b[38;5;124;43m'\u001b[39;49m\u001b[38;5;124;43mDTprediction\u001b[39;49m\u001b[38;5;124;43m'\u001b[39;49m\u001b[43m]\u001b[49m\u001b[38;5;241m.\u001b[39mshift(\u001b[38;5;241m1\u001b[39m) \u001b[38;5;241m*\u001b[39m dat[\u001b[38;5;124m'\u001b[39m\u001b[38;5;124mpctChg\u001b[39m\u001b[38;5;124m'\u001b[39m]\u001b[38;5;241m+\u001b[39m\u001b[38;5;241m1\u001b[39m)\u001b[38;5;241m.\u001b[39mcumprod() \u001b[38;5;66;03m# \u001b[39;00m\n\u001b[0;32m      2\u001b[0m dat[\u001b[38;5;124m'\u001b[39m\u001b[38;5;124mcum_ret\u001b[39m\u001b[38;5;124m'\u001b[39m] \u001b[38;5;241m=\u001b[39m (dat[\u001b[38;5;124m'\u001b[39m\u001b[38;5;124mpctChg\u001b[39m\u001b[38;5;124m'\u001b[39m]\u001b[38;5;241m+\u001b[39m\u001b[38;5;241m1\u001b[39m)\u001b[38;5;241m.\u001b[39mcumprod()\n\u001b[0;32m      3\u001b[0m \u001b[38;5;28mprint\u001b[39m(dat[[\u001b[38;5;124m'\u001b[39m\u001b[38;5;124mcum_ret\u001b[39m\u001b[38;5;124m'\u001b[39m,\u001b[38;5;124m'\u001b[39m\u001b[38;5;124mDTstrategy\u001b[39m\u001b[38;5;124m'\u001b[39m]]\u001b[38;5;241m.\u001b[39mdropna())\n",
      "File \u001b[1;32md:\\VS\\Shared\\Python39_64\\lib\\site-packages\\pandas\\core\\frame.py:4090\u001b[0m, in \u001b[0;36mDataFrame.__getitem__\u001b[1;34m(self, key)\u001b[0m\n\u001b[0;32m   4088\u001b[0m \u001b[38;5;28;01mif\u001b[39;00m \u001b[38;5;28mself\u001b[39m\u001b[38;5;241m.\u001b[39mcolumns\u001b[38;5;241m.\u001b[39mnlevels \u001b[38;5;241m>\u001b[39m \u001b[38;5;241m1\u001b[39m:\n\u001b[0;32m   4089\u001b[0m     \u001b[38;5;28;01mreturn\u001b[39;00m \u001b[38;5;28mself\u001b[39m\u001b[38;5;241m.\u001b[39m_getitem_multilevel(key)\n\u001b[1;32m-> 4090\u001b[0m indexer \u001b[38;5;241m=\u001b[39m \u001b[38;5;28;43mself\u001b[39;49m\u001b[38;5;241;43m.\u001b[39;49m\u001b[43mcolumns\u001b[49m\u001b[38;5;241;43m.\u001b[39;49m\u001b[43mget_loc\u001b[49m\u001b[43m(\u001b[49m\u001b[43mkey\u001b[49m\u001b[43m)\u001b[49m\n\u001b[0;32m   4091\u001b[0m \u001b[38;5;28;01mif\u001b[39;00m is_integer(indexer):\n\u001b[0;32m   4092\u001b[0m     indexer \u001b[38;5;241m=\u001b[39m [indexer]\n",
      "File \u001b[1;32md:\\VS\\Shared\\Python39_64\\lib\\site-packages\\pandas\\core\\indexes\\base.py:3812\u001b[0m, in \u001b[0;36mIndex.get_loc\u001b[1;34m(self, key)\u001b[0m\n\u001b[0;32m   3807\u001b[0m     \u001b[38;5;28;01mif\u001b[39;00m \u001b[38;5;28misinstance\u001b[39m(casted_key, \u001b[38;5;28mslice\u001b[39m) \u001b[38;5;129;01mor\u001b[39;00m (\n\u001b[0;32m   3808\u001b[0m         \u001b[38;5;28misinstance\u001b[39m(casted_key, abc\u001b[38;5;241m.\u001b[39mIterable)\n\u001b[0;32m   3809\u001b[0m         \u001b[38;5;129;01mand\u001b[39;00m \u001b[38;5;28many\u001b[39m(\u001b[38;5;28misinstance\u001b[39m(x, \u001b[38;5;28mslice\u001b[39m) \u001b[38;5;28;01mfor\u001b[39;00m x \u001b[38;5;129;01min\u001b[39;00m casted_key)\n\u001b[0;32m   3810\u001b[0m     ):\n\u001b[0;32m   3811\u001b[0m         \u001b[38;5;28;01mraise\u001b[39;00m InvalidIndexError(key)\n\u001b[1;32m-> 3812\u001b[0m     \u001b[38;5;28;01mraise\u001b[39;00m \u001b[38;5;167;01mKeyError\u001b[39;00m(key) \u001b[38;5;28;01mfrom\u001b[39;00m \u001b[38;5;21;01merr\u001b[39;00m\n\u001b[0;32m   3813\u001b[0m \u001b[38;5;28;01mexcept\u001b[39;00m \u001b[38;5;167;01mTypeError\u001b[39;00m:\n\u001b[0;32m   3814\u001b[0m     \u001b[38;5;66;03m# If we have a listlike key, _check_indexing_error will raise\u001b[39;00m\n\u001b[0;32m   3815\u001b[0m     \u001b[38;5;66;03m#  InvalidIndexError. Otherwise we fall through and re-raise\u001b[39;00m\n\u001b[0;32m   3816\u001b[0m     \u001b[38;5;66;03m#  the TypeError.\u001b[39;00m\n\u001b[0;32m   3817\u001b[0m     \u001b[38;5;28mself\u001b[39m\u001b[38;5;241m.\u001b[39m_check_indexing_error(key)\n",
      "\u001b[1;31mKeyError\u001b[0m: 'DTprediction'"
     ]
    }
   ],
   "source": [
    "dat['DTstrategy'] = (dat['DTprediction'].shift(1) * dat['pctChg']+1).cumprod() # \n",
    "dat['cum_ret'] = (dat['pctChg']+1).cumprod()\n",
    "print(dat[['cum_ret','DTstrategy']].dropna())\n",
    "dat[['cum_ret','DTstrategy']].dropna().plot()#figsize=(10, 6)"
   ]
  },
  {
   "cell_type": "markdown",
   "metadata": {},
   "source": [
    "### 4.1. 随机森林的算法实现"
   ]
  },
  {
   "cell_type": "code",
   "execution_count": 443,
   "metadata": {
    "jupyter": {
     "outputs_hidden": false
    }
   },
   "outputs": [],
   "source": [
    "from sklearn.ensemble import RandomForestClassifier\n",
    "\n",
    "clf_RF = RandomForestClassifier()\n",
    "clf_RF = clf_RF.fit(dat_train,l_train)      \n",
    "pred_RF = clf_RF.predict(dat_test)    "
   ]
  },
  {
   "cell_type": "code",
   "execution_count": 445,
   "metadata": {
    "jupyter": {
     "outputs_hidden": false
    },
    "scrolled": true
   },
   "outputs": [
    {
     "data": {
      "text/plain": [
       "0.507177033492823"
      ]
     },
     "execution_count": 445,
     "metadata": {},
     "output_type": "execute_result"
    }
   ],
   "source": [
    "from sklearn.metrics import accuracy_score\n",
    "acc = accuracy_score(pred_RF, label_test)\n",
    "acc"
   ]
  },
  {
   "cell_type": "code",
   "execution_count": 447,
   "metadata": {},
   "outputs": [],
   "source": [
    "dat['RFprediction'] = clf_DT.predict(dat.loc[:,['volume','close','close -1d','close -2d','close -3d','close -4d','close -5d','close -6d','close -7d']].dropna())\n",
    "#dat['RFprediction'] = clf_DT.predict(dat.drop(['RFcum_ret','RFprediction','RFstrategy','DTcum_ret','DTprediction','DTstrategy','prediction','cum_ret','strategy','pctChg','SVCprediction','SVCcum_ret','SVCstrategy'],axis=1).dropna())\n"
   ]
  },
  {
   "cell_type": "code",
   "execution_count": 427,
   "metadata": {},
   "outputs": [
    {
     "data": {
      "text/plain": [
       "array([[47, 56],\n",
       "       [53, 53]], dtype=int64)"
      ]
     },
     "execution_count": 427,
     "metadata": {},
     "output_type": "execute_result"
    }
   ],
   "source": [
    "confusion_matrix(label_test, pred_RF)"
   ]
  },
  {
   "cell_type": "code",
   "execution_count": 448,
   "metadata": {},
   "outputs": [
    {
     "data": {
      "text/plain": [
       "<matplotlib.axes._subplots.AxesSubplot at 0x2d5b6894760>"
      ]
     },
     "execution_count": 448,
     "metadata": {},
     "output_type": "execute_result"
    },
    {
     "data": {
      "image/png": "[encoded data removed]",
      "text/plain": [
       "<Figure size 640x480 with 1 Axes>"
      ]
     },
     "metadata": {},
     "output_type": "display_data"
    }
   ],
   "source": [
    "dat['RFstrategy'] = (dat['RFprediction'].shift(1) * dat['pctChg'] + 1).cumprod() # \n",
    "dat['cum_ret'] = (dat['pctChg']+1).cumprod()\n",
    "dat[['cum_ret','RFstrategy']].dropna().plot()#figsize=(10, 6)"
   ]
  },
  {
   "cell_type": "markdown",
   "metadata": {},
   "source": [
    "### 5. KNN算法实现"
   ]
  },
  {
   "cell_type": "code",
   "execution_count": 468,
   "metadata": {
    "jupyter": {
     "outputs_hidden": false
    }
   },
   "outputs": [],
   "source": [
    "from sklearn.neighbors import KNeighborsClassifier\n",
    "\n",
    "clf_KNN = KNeighborsClassifier(n_neighbors=10)\n",
    "clf_KNN.fit(dat_train,l_train)   \n",
    "pred_KNN = clf_KNN.predict(dat_test)\n"
   ]
  },
  {
   "cell_type": "code",
   "execution_count": 464,
   "metadata": {
    "jupyter": {
     "outputs_hidden": false
    }
   },
   "outputs": [
    {
     "data": {
      "text/plain": [
       "0.48325358851674644"
      ]
     },
     "execution_count": 464,
     "metadata": {},
     "output_type": "execute_result"
    }
   ],
   "source": [
    "from sklearn.metrics import accuracy_score\n",
    "acc = accuracy_score(pred_KNN, label_test)\n",
    "acc"
   ]
  },
  {
   "cell_type": "code",
   "execution_count": 475,
   "metadata": {},
   "outputs": [],
   "source": [
    "dat.loc[1:,'KNNprediction'] = clf_KNN.predict(dat.drop(['pctChg'],axis =1).dropna())"
   ]
  },
  {
   "cell_type": "code",
   "execution_count": 476,
   "metadata": {},
   "outputs": [
    {
     "data": {
      "text/plain": [
       "array([[49, 54],\n",
       "       [54, 52]], dtype=int64)"
      ]
     },
     "execution_count": 476,
     "metadata": {},
     "output_type": "execute_result"
    }
   ],
   "source": [
    "confusion_matrix(label_test, pred_KNN)"
   ]
  },
  {
   "cell_type": "code",
   "execution_count": 477,
   "metadata": {},
   "outputs": [
    {
     "data": {
      "text/plain": [
       "<matplotlib.axes._subplots.AxesSubplot at 0x2d5bb1e7cd0>"
      ]
     },
     "execution_count": 477,
     "metadata": {},
     "output_type": "execute_result"
    },
    {
     "data": {
      "image/png": "[encoded data removed]",
      "text/plain": [
       "<Figure size 640x480 with 1 Axes>"
      ]
     },
     "metadata": {},
     "output_type": "display_data"
    }
   ],
   "source": [
    "dat['KNNstrategy'] = (dat['KNNprediction'].shift(1) * dat['pctChg'] + 1).cumprod() # \n",
    "dat['cum_ret'] = (dat['pctChg']+1).cumprod()\n",
    "dat[['cum_ret','KNNstrategy']].dropna().plot()#figsize=(10, 6)"
   ]
  },
  {
   "cell_type": "code",
   "execution_count": null,
   "metadata": {},
   "outputs": [],
   "source": [
    "### 使用LASSO对cancer数据集进行模型选择"
   ]
  },
  {
   "cell_type": "code",
   "execution_count": 361,
   "metadata": {
    "jupyter": {
     "source_hidden": true
    }
   },
   "outputs": [],
   "source": [
    "import math \n",
    "from sklearn.linear_model import Lasso"
   ]
  },
  {
   "cell_type": "code",
   "execution_count": 115,
   "metadata": {},
   "outputs": [
    {
     "data": {
      "text/plain": [
       "array([0, 0, 0, 0, 0, 0, 0, 0, 0, 0, 0, 0, 0, 0, 0, 0, 0, 0, 1, 1, 1, 0,\n",
       "       0, 0, 0, 0, 0, 0, 0, 0, 0, 0, 0, 0, 0, 0, 1, 0, 0, 0, 0, 0, 0, 0,\n",
       "       0, 1, 0, 1, 1, 1, 1, 1, 0, 0, 1, 0, 0, 1, 1, 1, 1, 0, 1, 0, 0, 1,\n",
       "       1, 1, 1, 0, 1, 0, 0, 1, 0, 1, 0, 0, 1, 1, 1, 0, 0, 1, 0, 0, 0, 1,\n",
       "       1, 1, 0, 1, 1, 0, 0, 1, 1, 1, 0])"
      ]
     },
     "execution_count": 115,
     "metadata": {},
     "output_type": "execute_result"
    }
   ],
   "source": []
  },
  {
   "cell_type": "code",
   "execution_count": 363,
   "metadata": {},
   "outputs": [
    {
     "name": "stdout",
     "output_type": "stream",
     "text": [
      "training score: 0.5316533129828008\n",
      "test score:  0.5337363095533671\n",
      "number of features used:  6\n"
     ]
    }
   ],
   "source": [
    "lasso = Lasso() # 默认alpha =1 \n",
    "lasso.fit(dat_train,l_train)\n",
    "\n",
    "train_score=lasso.score(dat_train,l_train)\n",
    "test_score=lasso.score(dat_test,l_test)\n",
    "\n",
    "coeff_used = np.sum(lasso.coef_!=0)\n",
    "print(\"training score:\", train_score )\n",
    "print (\"test score: \", test_score)\n",
    "print (\"number of features used: \", coeff_used)\n"
   ]
  },
  {
   "cell_type": "code",
   "execution_count": 401,
   "metadata": {},
   "outputs": [
    {
     "name": "stdout",
     "output_type": "stream",
     "text": [
      "training score for alpha=0.01: 0.5354026142093831\n",
      "test score for alpha =0.01:  0.5371229626309884\n",
      "number of features used: for alpha =0.01: 9\n"
     ]
    }
   ],
   "source": [
    "lasso001 = Lasso(alpha=0.01, max_iter=100000)\n",
    "lasso001.fit(dat_train,l_train)\n",
    "\n",
    "train_score001=lasso001.score(dat_train,l_train)\n",
    "test_score001=lasso001.score(dat_test,l_test)\n",
    "\n",
    "coeff_used001 = np.sum(lasso001.coef_!=0)\n",
    "print (\"training score for alpha=0.01:\", train_score001 )\n",
    "print (\"test score for alpha =0.01: \", test_score001)\n",
    "print (\"number of features used: for alpha =0.01:\", coeff_used001)\n"
   ]
  },
  {
   "cell_type": "code",
   "execution_count": 400,
   "metadata": {},
   "outputs": [
    {
     "name": "stdout",
     "output_type": "stream",
     "text": [
      "training score for alpha=0.0001: 0.5354031070169132\n",
      "test score for alpha =0.0001:  0.537122251334716\n",
      "number of features used: for alpha =0.0001: 9\n"
     ]
    }
   ],
   "source": [
    "'''features_train, features_test, label_train, label_test'''\n",
    "lasso00001 = Lasso(alpha=0.0001, max_iter=100000)\n",
    "lasso00001.fit(dat_train,l_train)\n",
    "\n",
    "train_score00001=lasso00001.score(dat_train,l_train)\n",
    "test_score00001=lasso00001.score(dat_test,l_test)\n",
    "\n",
    "coeff_used00001 = np.sum(lasso00001.coef_!=0)\n",
    "print (\"training score for alpha=0.0001:\", train_score00001)\n",
    "print( \"test score for alpha =0.0001: \", test_score00001)\n",
    "print (\"number of features used: for alpha =0.0001:\", coeff_used00001)\n"
   ]
  },
  {
   "cell_type": "code",
   "execution_count": 385,
   "metadata": {},
   "outputs": [
    {
     "name": "stdout",
     "output_type": "stream",
     "text": [
      "\u001b[1;31mInit signature:\u001b[0m\n",
      "\u001b[0mLinearRegression\u001b[0m\u001b[1;33m(\u001b[0m\u001b[1;33m\n",
      "\u001b[0m    \u001b[1;33m*\u001b[0m\u001b[1;33m,\u001b[0m\u001b[1;33m\n",
      "\u001b[0m    \u001b[0mfit_intercept\u001b[0m\u001b[1;33m=\u001b[0m\u001b[1;32mTrue\u001b[0m\u001b[1;33m,\u001b[0m\u001b[1;33m\n",
      "\u001b[0m    \u001b[0mcopy_X\u001b[0m\u001b[1;33m=\u001b[0m\u001b[1;32mTrue\u001b[0m\u001b[1;33m,\u001b[0m\u001b[1;33m\n",
      "\u001b[0m    \u001b[0mn_jobs\u001b[0m\u001b[1;33m=\u001b[0m\u001b[1;32mNone\u001b[0m\u001b[1;33m,\u001b[0m\u001b[1;33m\n",
      "\u001b[0m    \u001b[0mpositive\u001b[0m\u001b[1;33m=\u001b[0m\u001b[1;32mFalse\u001b[0m\u001b[1;33m,\u001b[0m\u001b[1;33m\n",
      "\u001b[0m\u001b[1;33m)\u001b[0m\u001b[1;33m\u001b[0m\u001b[1;33m\u001b[0m\u001b[0m\n",
      "\u001b[1;31mDocstring:\u001b[0m     \n",
      "Ordinary least squares Linear Regression.\n",
      "\n",
      "LinearRegression fits a linear model with coefficients w = (w1, ..., wp)\n",
      "to minimize the residual sum of squares between the observed targets in\n",
      "the dataset, and the targets predicted by the linear approximation.\n",
      "\n",
      "Parameters\n",
      "----------\n",
      "fit_intercept : bool, default=True\n",
      "    Whether to calculate the intercept for this model. If set\n",
      "    to False, no intercept will be used in calculations\n",
      "    (i.e. data is expected to be centered).\n",
      "\n",
      "copy_X : bool, default=True\n",
      "    If True, X will be copied; else, it may be overwritten.\n",
      "\n",
      "n_jobs : int, default=None\n",
      "    The number of jobs to use for the computation. This will only provide\n",
      "    speedup in case of sufficiently large problems, that is if firstly\n",
      "    `n_targets > 1` and secondly `X` is sparse or if `positive` is set\n",
      "    to `True`. ``None`` means 1 unless in a\n",
      "    :obj:`joblib.parallel_backend` context. ``-1`` means using all\n",
      "    processors. See :term:`Glossary <n_jobs>` for more details.\n",
      "\n",
      "positive : bool, default=False\n",
      "    When set to ``True``, forces the coefficients to be positive. This\n",
      "    option is only supported for dense arrays.\n",
      "\n",
      "    .. versionadded:: 0.24\n",
      "\n",
      "Attributes\n",
      "----------\n",
      "coef_ : array of shape (n_features, ) or (n_targets, n_features)\n",
      "    Estimated coefficients for the linear regression problem.\n",
      "    If multiple targets are passed during the fit (y 2D), this\n",
      "    is a 2D array of shape (n_targets, n_features), while if only\n",
      "    one target is passed, this is a 1D array of length n_features.\n",
      "\n",
      "rank_ : int\n",
      "    Rank of matrix `X`. Only available when `X` is dense.\n",
      "\n",
      "singular_ : array of shape (min(X, y),)\n",
      "    Singular values of `X`. Only available when `X` is dense.\n",
      "\n",
      "intercept_ : float or array of shape (n_targets,)\n",
      "    Independent term in the linear model. Set to 0.0 if\n",
      "    `fit_intercept = False`.\n",
      "\n",
      "n_features_in_ : int\n",
      "    Number of features seen during :term:`fit`.\n",
      "\n",
      "    .. versionadded:: 0.24\n",
      "\n",
      "feature_names_in_ : ndarray of shape (`n_features_in_`,)\n",
      "    Names of features seen during :term:`fit`. Defined only when `X`\n",
      "    has feature names that are all strings.\n",
      "\n",
      "    .. versionadded:: 1.0\n",
      "\n",
      "See Also\n",
      "--------\n",
      "Ridge : Ridge regression addresses some of the\n",
      "    problems of Ordinary Least Squares by imposing a penalty on the\n",
      "    size of the coefficients with l2 regularization.\n",
      "Lasso : The Lasso is a linear model that estimates\n",
      "    sparse coefficients with l1 regularization.\n",
      "ElasticNet : Elastic-Net is a linear regression\n",
      "    model trained with both l1 and l2 -norm regularization of the\n",
      "    coefficients.\n",
      "\n",
      "Notes\n",
      "-----\n",
      "From the implementation point of view, this is just plain Ordinary\n",
      "Least Squares (scipy.linalg.lstsq) or Non Negative Least Squares\n",
      "(scipy.optimize.nnls) wrapped as a predictor object.\n",
      "\n",
      "Examples\n",
      "--------\n",
      ">>> import numpy as np\n",
      ">>> from sklearn.linear_model import LinearRegression\n",
      ">>> X = np.array([[1, 1], [1, 2], [2, 2], [2, 3]])\n",
      ">>> # y = 1 * x_0 + 2 * x_1 + 3\n",
      ">>> y = np.dot(X, np.array([1, 2])) + 3\n",
      ">>> reg = LinearRegression().fit(X, y)\n",
      ">>> reg.score(X, y)\n",
      "1.0\n",
      ">>> reg.coef_\n",
      "array([1., 2.])\n",
      ">>> reg.intercept_\n",
      "3.0...\n",
      ">>> reg.predict(np.array([[3, 5]]))\n",
      "array([16.])\n",
      "\u001b[1;31mFile:\u001b[0m           d:\\vs\\shared\\python39_64\\lib\\site-packages\\sklearn\\linear_model\\_base.py\n",
      "\u001b[1;31mType:\u001b[0m           ABCMeta\n",
      "\u001b[1;31mSubclasses:\u001b[0m     "
     ]
    }
   ],
   "source": [
    "LinearRegression?"
   ]
  },
  {
   "cell_type": "code",
   "execution_count": 384,
   "metadata": {},
   "outputs": [
    {
     "name": "stdout",
     "output_type": "stream",
     "text": [
      "LR training score: 0.5354031070641796\n",
      "LR test score:  0.5371222074931845\n"
     ]
    }
   ],
   "source": [
    "from sklearn.linear_model import LinearRegression\n",
    "lr = LinearRegression()\n",
    "lr.fit(dat_train,l_train)\n",
    "lr_train_score=lr.score(dat_train,l_train)\n",
    "lr_test_score=lr.score(dat_test,l_test)\n",
    "print (\"LR training score:\", lr_train_score )\n",
    "print (\"LR test score: \", lr_test_score)\n"
   ]
  },
  {
   "cell_type": "code",
   "execution_count": 432,
   "metadata": {},
   "outputs": [
    {
     "data": {
      "image/png": "[encoded data removed]",
      "text/plain": [
       "<Figure size 640x480 with 2 Axes>"
      ]
     },
     "metadata": {},
     "output_type": "display_data"
    }
   ],
   "source": [
    "\n",
    "plt.subplot(1,2,1)\n",
    "plt.plot(lasso.coef_,alpha=0.7,linestyle='none',marker='*',markersize=5,color='red',label=r'Lasso; $\\alpha = 1$',zorder=7) # alpha here is for transparency\n",
    "plt.plot(lasso001.coef_,alpha=0.5,linestyle='none',marker='d',markersize=6,color='blue',label=r'Lasso; $\\alpha = 0.01$') # alpha here is for transparency\n",
    "\n",
    "plt.xlabel('Coefficient Index',fontsize=16)\n",
    "plt.ylabel('Coefficient Magnitude',fontsize=16)\n",
    "plt.legend(fontsize=13,loc=4)\n",
    "plt.subplot(1,2,2)\n",
    "plt.plot(lasso.coef_,alpha=0.7,linestyle='none',marker='*',markersize=5,color='red',label=r'Lasso; $\\alpha = 1$',zorder=7) # alpha here is for transparency\n",
    "plt.plot(lasso001.coef_,alpha=0.5,linestyle='none',marker='d',markersize=6,color='blue',label=r'Lasso; $\\alpha = 0.01$') # alpha here is for transparency\n",
    "plt.plot(lasso00001.coef_,alpha=0.8,linestyle='none',marker='v',markersize=6,color='black',label=r'Lasso; $\\alpha = 0.00001$') # alpha here is for transparency\n",
    "plt.plot(lr.coef_,alpha=0.7,linestyle='none',marker='o',markersize=5,color='green',label='Linear Regression',zorder=2)\n",
    "plt.xlabel('Coefficient Index',fontsize=16)\n",
    "plt.ylabel('Coefficient Magnitude',fontsize=16)\n",
    "plt.legend(fontsize=13,loc=4)\n",
    "plt.tight_layout()\n",
    "plt.show()\n"
   ]
  }
 ],
 "metadata": {
  "kernelspec": {
   "display_name": "Python 3",
   "language": "python",
   "name": "python3"
  },
  "language_info": {
   "codemirror_mode": {
    "name": "ipython",
    "version": 3
   },
   "file_extension": ".py",
   "mimetype": "text/x-python",
   "name": "python",
   "nbconvert_exporter": "python",
   "pygments_lexer": "ipython3",
   "version": "3.9.13"
  }
 },
 "nbformat": 4,
 "nbformat_minor": 4
}
