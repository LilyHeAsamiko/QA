{
 "cells": [
  {
   "cell_type": "code",
   "execution_count": null,
   "metadata": {},
   "outputs": [],
   "source": [
    "import numpy as np\n",
    "import scipy.stats as scs\n",
    "import matplotlib.pyplot as plt"
   ]
  },
  {
   "cell_type": "markdown",
   "metadata": {},
   "source": [
    "# 大数定律和中心极限定理\n",
    "---"
   ]
  },
  {
   "cell_type": "markdown",
   "metadata": {},
   "source": [
    "**scipy.stats 常用函数：**\n",
    "\n",
    "- `rvs`：产生服从指定分布的随机数\n",
    "- `pmf`：概率质量函数\n",
    "- `pdf`：概率密度函数\n",
    "- `cdf`：累积分布函数\n",
    "- `sf`：1-cdf\n",
    "- `ppf`：分位点函数（CDF的逆）\n",
    "- `isf`：sf的逆\n",
    "- `fit`：极大似然估计拟合"
   ]
  },
  {
   "cell_type": "markdown",
   "metadata": {},
   "source": [
    "### 二项分布"
   ]
  },
  {
   "cell_type": "code",
   "execution_count": null,
   "metadata": {},
   "outputs": [],
   "source": [
    "# 大数定律（样本均值收敛于总体均值）\n",
    "data = scs.binom.rvs(n=50, p=0.5, size=100000)     # 生成服从二项分布的随机变量\n",
    "data.mean()"
   ]
  },
  {
   "cell_type": "code",
   "execution_count": null,
   "metadata": {},
   "outputs": [],
   "source": [
    "# 中心极限定理（样本均值服从正态分布）\n",
    "means = []\n",
    "for i in range(100):\n",
    "    data = scs.binom.rvs(n=50, p=0.5, size=100)   # 生成服从二项分布的随机变量\n",
    "    means.append(data.mean())                     # 计算样本均值\n",
    "means = np.array(means)\n",
    "plt.hist(means, bins=30, density=1)"
   ]
  },
  {
   "cell_type": "code",
   "execution_count": null,
   "metadata": {},
   "outputs": [],
   "source": [
    "# 正态分布拟合\n",
    "mu, sigma = scs.norm.fit(means)\n",
    "x = np.linspace(means.min(), means.max(), 100)\n",
    "plt.hist(means, bins=30, density=1)\n",
    "plt.plot(x, scs.norm.pdf(x, loc=mu, scale=sigma), lw=3)\n",
    "plt.xlim(means.min(), means.max())"
   ]
  },
  {
   "cell_type": "markdown",
   "metadata": {},
   "source": [
    "### 泊松分布"
   ]
  },
  {
   "cell_type": "code",
   "execution_count": null,
   "metadata": {},
   "outputs": [],
   "source": [
    "# 大数定律（样本均值收敛于总体均值）\n",
    "data = scs.poisson.rvs(mu=3, size=100000)     # 生成服从泊松分布的随机变量\n",
    "data.mean()"
   ]
  },
  {
   "cell_type": "code",
   "execution_count": null,
   "metadata": {},
   "outputs": [],
   "source": [
    "# 中心极限定理（样本均值服从正态分布）\n",
    "means = []\n",
    "for i in range(100):\n",
    "    data = scs.poisson.rvs(mu=3, size=100)   # 生成服从泊松分布的随机变量\n",
    "    means.append(data.mean())                # 计算样本均值\n",
    "means = np.array(means)\n",
    "plt.hist(means, bins=30, density=1)\n",
    "\n",
    "# 正态分布拟合\n",
    "mu, sigma = scs.norm.fit(means)\n",
    "x = np.linspace(means.min(), means.max(), 100)\n",
    "plt.plot(x, scs.norm.pdf(x, loc=mu, scale=sigma), lw=3)\n",
    "plt.xlim(means.min(), means.max())"
   ]
  },
  {
   "cell_type": "markdown",
   "metadata": {},
   "source": [
    "### 指数分布"
   ]
  },
  {
   "cell_type": "code",
   "execution_count": null,
   "metadata": {},
   "outputs": [],
   "source": [
    "# 大数定律（样本均值收敛于总体均值）\n",
    "data = scs.expon.rvs(scale=0.5, size=100000)      # 生成服从指数分布的随机变量\n",
    "data.mean()"
   ]
  },
  {
   "cell_type": "code",
   "execution_count": null,
   "metadata": {},
   "outputs": [],
   "source": [
    "# 中心极限定理（样本均值服从正态分布）\n",
    "means = []\n",
    "for i in range(100):\n",
    "    data = scs.expon.rvs(scale=0.5, size=100)     # 生成服从指数分布的随机变量\n",
    "    means.append(data.mean())                     # 计算样本均值\n",
    "means = np.array(means)\n",
    "plt.hist(means, bins=30, density=1)\n",
    "\n",
    "# 正态分布拟合\n",
    "mu, sigma = scs.norm.fit(means)\n",
    "x = np.linspace(means.min(), means.max(), 100)\n",
    "plt.plot(x, scs.norm.pdf(x, loc=mu, scale=sigma), lw=3)\n",
    "plt.xlim(means.min(), means.max())"
   ]
  },
  {
   "cell_type": "markdown",
   "metadata": {},
   "source": [
    "### 正态分布"
   ]
  },
  {
   "cell_type": "code",
   "execution_count": null,
   "metadata": {},
   "outputs": [],
   "source": [
    "# 大数定律（样本均值收敛于总体均值）\n",
    "data = scs.norm.rvs(loc=0, scale=1, size=100000)      # 生成服从正态分布的随机变量\n",
    "data.mean()"
   ]
  },
  {
   "cell_type": "code",
   "execution_count": null,
   "metadata": {},
   "outputs": [],
   "source": [
    "# 中心极限定理（样本均值服从正态分布）\n",
    "means = []\n",
    "for i in range(100):\n",
    "    data = scs.norm.rvs(loc=0, scale=1, size=100)     # 生成服从正态分布的随机变量\n",
    "    means.append(data.mean())                         # 计算样本均值\n",
    "means = np.array(means)\n",
    "plt.hist(means, bins=30, density=1)\n",
    "\n",
    "# 正态分布拟合\n",
    "mu, sigma = scs.norm.fit(means)\n",
    "x = np.linspace(means.min(), means.max(), 100)\n",
    "plt.plot(x, scs.norm.pdf(x, loc=mu, scale=sigma), lw=3)\n",
    "plt.xlim(means.min(), means.max())"
   ]
  },
  {
   "cell_type": "markdown",
   "metadata": {},
   "source": [
    "声明：本资料仅限内部研究和交流使用，切勿外传。"
   ]
  }
 ],
 "metadata": {
  "kernelspec": {
   "display_name": "Python 3",
   "language": "python",
   "name": "python3"
  },
  "language_info": {
   "codemirror_mode": {
    "name": "ipython",
    "version": 3
   },
   "file_extension": ".py",
   "mimetype": "text/x-python",
   "name": "python",
   "nbconvert_exporter": "python",
   "pygments_lexer": "ipython3",
   "version": "3.7.6"
  },
  "toc": {
   "nav_menu": {},
   "number_sections": false,
   "sideBar": true,
   "skip_h1_title": true,
   "toc_cell": false,
   "toc_position": {},
   "toc_section_display": "block",
   "toc_window_display": false
  }
 },
 "nbformat": 4,
 "nbformat_minor": 2
}
