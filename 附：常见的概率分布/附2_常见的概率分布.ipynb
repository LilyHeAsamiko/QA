{
 "cells": [
  {
   "cell_type": "code",
   "execution_count": null,
   "metadata": {},
   "outputs": [],
   "source": [
    "import numpy as np\n",
    "import scipy.stats as scs\n",
    "import matplotlib.pyplot as plt\n",
    "import warnings; warnings.filterwarnings('ignore')"
   ]
  },
  {
   "cell_type": "markdown",
   "metadata": {},
   "source": [
    "# 常见的概率分布\n",
    "---"
   ]
  },
  {
   "cell_type": "markdown",
   "metadata": {},
   "source": [
    "**scipy.stats 常见分布：**\n",
    "\n",
    "离散型随机变量（离散分布）：\n",
    "- `bernoulli`：伯努利分布，参数 `p`\n",
    "- `binom`：二项分布，参数 `n`，`p`\n",
    "- `poisson`：泊松分布，X~P(lambda) 对应参数 `mu`=lambda\n",
    "\n",
    "连续型随机变量（连续分布）：\n",
    "- `uniform`：均匀分布，X~U(a,b) 对应参数 `loc`=a,`scale`=b-a\n",
    "- `expon`：指数分布，X~E(lambda) 对应参数 `scale`=1/lambda\n",
    "- `norm`：正态分布，X~N(mu,sigma) 对应参数 `loc`=mu,`scale`=sigma\n",
    "- `lognorm`：对数正态分布，lnX~N(mu,sigma) 对应参数 `s`=sigma,`loc`=0,`scale`=exp(mu)\n",
    "\n",
    "样本统计量（抽样分布）：\n",
    "- `chi2`：卡方分布，参数 `df`\n",
    "- `t`：t 分布，参数 `df`\n",
    "- `f`：F 分布，参数 `dfn`，`dfd`"
   ]
  },
  {
   "cell_type": "markdown",
   "metadata": {},
   "source": [
    "## 1. 离散分布\n",
    "---"
   ]
  },
  {
   "cell_type": "markdown",
   "metadata": {},
   "source": [
    "### 1.1 二项分布"
   ]
  },
  {
   "cell_type": "code",
   "execution_count": null,
   "metadata": {},
   "outputs": [],
   "source": [
    "# 概率质量函数\n",
    "binomial = scs.binom(n=50, p=0.5)        # 二项分布两个参数 n，p\n",
    "x = np.arange(0,51)                      # x = 0,1,2,...,50\n",
    "y = binomial.pmf(x)                      # y 为 x 的概率质量函数（pmf）\n",
    "plt.bar(x, y)                            # 绘制概率质量函数图（柱状图）"
   ]
  },
  {
   "cell_type": "code",
   "execution_count": null,
   "metadata": {},
   "outputs": [],
   "source": [
    "# 期望和方差\n",
    "binomial.mean(), binomial.var()"
   ]
  },
  {
   "cell_type": "code",
   "execution_count": null,
   "metadata": {},
   "outputs": [],
   "source": [
    "# 不同的 n 和 p 二项分布情况\n",
    "plst = [0.1, 0.5, 0.9]; nlst = [5, 10, 50]\n",
    "\n",
    "plt.figure(figsize=(16,10))\n",
    "i = 1                                        # 控制子图的序号\n",
    "for n_i in nlst:                            # 子图顺序以行为主次\n",
    "    for p_i in plst:\n",
    "        plt.subplot(3, 3, i)                 # 绘制第 i 个子图，第一行为1、2、3，第二行为4、5、6...\n",
    "        \n",
    "        binomial = scs.binom(n=n_i, p=p_i)   # 设置二项分布的参数\n",
    "        x = np.arange(0, n_i+1)              # x 可以取到的值\n",
    "        y = binomial.pmf(x)                  # 计算概率质量函数\n",
    "        plt.bar(x, y)                        # 绘制该参数对下的概率质量函数图\n",
    "        \n",
    "        plt.title(f'n={n_i}, p={p_i}')       # 标题\n",
    "        i += 1                               # 生成下一个图的序号"
   ]
  },
  {
   "cell_type": "markdown",
   "metadata": {},
   "source": [
    "### 1.2 泊松分布"
   ]
  },
  {
   "cell_type": "code",
   "execution_count": null,
   "metadata": {
    "scrolled": true
   },
   "outputs": [],
   "source": [
    "# 概率质量函数\n",
    "poisson = scs.poisson(mu=3)              # 泊松分布参数 mu：λ\n",
    "x = np.arange(0,15)                      # x = 0,1,2,...,14 实际可以取到无穷大\n",
    "y = poisson.pmf(x)                       # y 为 x 的概率质量函数（pmf）\n",
    "plt.bar(x, y)                            # 绘制概率质量函数图（柱状图）"
   ]
  },
  {
   "cell_type": "code",
   "execution_count": null,
   "metadata": {},
   "outputs": [],
   "source": [
    "# 期望和方差\n",
    "poisson.mean(), poisson.var()"
   ]
  },
  {
   "cell_type": "code",
   "execution_count": null,
   "metadata": {},
   "outputs": [],
   "source": [
    "# 泊松分布与二项分布比较\n",
    "binomial = scs.binom(n=60, p=0.05)              # λ= n * p\n",
    "y2 = binomial.pmf(x)                            # y2 为二项分布概率质量函数（pmf）\n",
    "plt.bar(x, y, label='poisson')                  # 泊松分布\n",
    "plt.bar(x, y2, alpha=0.5, label='binomial')     # 二项分布\n",
    "plt.legend()\n",
    "plt.title('Poisson vs Binomial(PMF)')"
   ]
  },
  {
   "cell_type": "markdown",
   "metadata": {},
   "source": [
    "## 2. 连续分布\n",
    "---"
   ]
  },
  {
   "cell_type": "markdown",
   "metadata": {},
   "source": [
    "### 2.1 均匀分布"
   ]
  },
  {
   "cell_type": "code",
   "execution_count": null,
   "metadata": {},
   "outputs": [],
   "source": [
    "# 概率密度函数\n",
    "a = 2; b = 6\n",
    "uniform = scs.uniform(loc=a, scale=b-a)     # [a,b]:[loc,loc+scale]\n",
    "x = np.linspace(a-1, b+1, 100)\n",
    "y = uniform.pdf(x)\n",
    "plt.plot(x,y)\n",
    "plt.xlim(a-1,b+1); plt.ylim(0)\n",
    "plt.title('Uniform Distribution(PDF)')"
   ]
  },
  {
   "cell_type": "code",
   "execution_count": null,
   "metadata": {},
   "outputs": [],
   "source": [
    "# 累积分布函数\n",
    "y2 = uniform.cdf(x)\n",
    "plt.plot(x,y2)\n",
    "plt.xlim(a-1,b+1)\n",
    "plt.title('Uniform Distribution(CDF)')\n",
    "plt.xlim(a-1,b+1); plt.ylim(0,1)"
   ]
  },
  {
   "cell_type": "code",
   "execution_count": null,
   "metadata": {},
   "outputs": [],
   "source": [
    "# 期望和方差\n",
    "uniform.mean(), uniform.var()"
   ]
  },
  {
   "cell_type": "markdown",
   "metadata": {},
   "source": [
    "### 2.2 指数分布"
   ]
  },
  {
   "cell_type": "code",
   "execution_count": null,
   "metadata": {
    "scrolled": true
   },
   "outputs": [],
   "source": [
    "# 概率密度函数\n",
    "param_lst = [0.5, 1, 1.5]\n",
    "x = np.linspace(0,10,100)                    # 设置 x 的取值范围（x>0）\n",
    "for param in param_lst:\n",
    "    exponential = scs.expon(scale=1/param)   # 指数分布参数 scale=1/lambda\n",
    "    y = exponential.pdf(x)                   # y 为概率密度函数\n",
    "    plt.plot(x, y, label=f'λ={param}')      # 绘制概率密度函数图（曲线）\n",
    "plt.legend(); plt.xlim(0,10); plt.ylim(0,1)  # 显示图例，限制 x y 轴范围\n",
    "plt.title('Exponential Distribution(PDF)')"
   ]
  },
  {
   "cell_type": "code",
   "execution_count": null,
   "metadata": {
    "scrolled": true
   },
   "outputs": [],
   "source": [
    "# 累积分布函数\n",
    "for param in param_lst:\n",
    "    y = scs.expon.cdf(x, scale=1/param)      # y2 为累积分布函数\n",
    "    plt.plot(x, y, label=f'λ={param}')      # 绘制累积分布函数图（曲线）\n",
    "plt.legend(); plt.xlim(0,10); plt.ylim(0,1)  # 显示图例，限制 x y 轴范围\n",
    "plt.title('Exponential Distribution(CDF)')"
   ]
  },
  {
   "cell_type": "code",
   "execution_count": null,
   "metadata": {},
   "outputs": [],
   "source": [
    "# 期望和方差\n",
    "exponential = scs.expon(scale=3)\n",
    "exponential.mean(), exponential.var()"
   ]
  },
  {
   "cell_type": "markdown",
   "metadata": {},
   "source": [
    "### 2.3 正态分布"
   ]
  },
  {
   "cell_type": "code",
   "execution_count": null,
   "metadata": {
    "scrolled": true
   },
   "outputs": [],
   "source": [
    "# 概率密度函数\n",
    "mu = 0; sigma = 1\n",
    "normal = scs.norm(loc=mu, scale=sigma)       # 设置正态分布参数 mu 和 sigma\n",
    "x = np.linspace(mu-3*sigma, mu+3*sigma)     # 设置 x 的取值范围（3σ法则）\n",
    "y = normal.pdf(x)                            # y 为概率密度函数（pdf）\n",
    "plt.plot(x, y)                               # 绘制概率密度函数图（曲线）\n",
    "plt.title('Normal Distribution(PDF)')\n",
    "plt.xlim(mu-3*sigma, mu+3*sigma); plt.ylim(0)"
   ]
  },
  {
   "cell_type": "code",
   "execution_count": null,
   "metadata": {},
   "outputs": [],
   "source": [
    "# 概率密度函数\n",
    "plt.figure(figsize=(8,4))\n",
    "mu = 0; sigma = 1\n",
    "normal = scs.norm(loc=mu, scale=sigma)       # 设置正态分布参数 mu 和 sigma\n",
    "x = np.linspace(mu-3*sigma, mu+3*sigma)     # 设置 x 的取值范围（3σ法则）\n",
    "y = normal.pdf(x)                            # y 为概率密度函数（pdf）\n",
    "plt.plot(x, y)                               # 绘制概率密度函数图（曲线）\n",
    "plt.title('单尾检验')\n",
    "plt.xlim(mu-3*sigma, mu+3*sigma); plt.ylim(0)\n",
    "plt.plot([normal.ppf(0.95),normal.ppf(0.95)], [0,normal.pdf(normal.ppf(0.95))], label='cdf=0.95')\n",
    "plt.legend()\n",
    "plt.rcParams['font.sans-serif']=['SimHei']\n",
    "plt.rcParams['axes.unicode_minus'] = False"
   ]
  },
  {
   "cell_type": "code",
   "execution_count": null,
   "metadata": {
    "scrolled": false
   },
   "outputs": [],
   "source": [
    "# 概率密度函数\n",
    "plt.figure(figsize=(8,4))\n",
    "mu = 0; sigma = 1\n",
    "normal = scs.norm(loc=mu, scale=sigma)       # 设置正态分布参数 mu 和 sigma\n",
    "x = np.linspace(mu-3*sigma, mu+3*sigma)     # 设置 x 的取值范围（3σ法则）\n",
    "y = normal.pdf(x)                            # y 为概率密度函数（pdf）\n",
    "plt.plot(x, y)                               # 绘制概率密度函数图（曲线）\n",
    "plt.title('双尾检验')\n",
    "plt.xlim(mu-3*sigma, mu+3*sigma); plt.ylim(0)\n",
    "plt.plot([normal.ppf(0.025),normal.ppf(0.025)], [0,normal.pdf(normal.ppf(0.025))], label='cdf=0.025')\n",
    "plt.plot([normal.ppf(0.975),normal.ppf(0.975)], [0,normal.pdf(normal.ppf(0.975))], label='cdf=0.975')\n",
    "plt.legend()"
   ]
  },
  {
   "cell_type": "code",
   "execution_count": null,
   "metadata": {},
   "outputs": [],
   "source": [
    "# 累积分布函数\n",
    "y2 = normal.cdf(x)                            # 正态分布累积分布函数（cdf）\n",
    "plt.plot(x, y2)\n",
    "plt.title('Normal Distribution(CDF)')\n",
    "plt.xlim(mu-3*sigma, mu+3*sigma); plt.ylim(0,1)"
   ]
  },
  {
   "cell_type": "code",
   "execution_count": null,
   "metadata": {},
   "outputs": [],
   "source": [
    "# 期望和方差\n",
    "normal.mean(), normal.var()"
   ]
  },
  {
   "cell_type": "code",
   "execution_count": null,
   "metadata": {
    "scrolled": false
   },
   "outputs": [],
   "source": [
    "# 不同参数情况下正态分布的概率密度函数\n",
    "params = [(0,1), (0,2), (0,0.5), (1,1)]\n",
    "\n",
    "for mu, sigma in params:\n",
    "    normal = scs.norm(loc=mu, scale=sigma)             # 正态分布参数 mu 和 sigma\n",
    "    x = np.linspace(mu-3*sigma, mu+3*sigma, 100)      # 设置 x 的取值范围\n",
    "    y = normal.pdf(x)                                  # y 为 x 的概率密度函数（pdf）\n",
    "    plt.plot(x, y, label=f'mu={mu}, sigma={sigma}')    # 绘制概率密度函数图（曲线）\n",
    "plt.legend(); plt.ylim(0)"
   ]
  },
  {
   "cell_type": "markdown",
   "metadata": {},
   "source": [
    "### 2.4 对数正态分布"
   ]
  },
  {
   "cell_type": "code",
   "execution_count": null,
   "metadata": {},
   "outputs": [],
   "source": [
    "# 概率密度函数\n",
    "lognormal = scs.lognorm(s=1,loc=0,scale=1)    # lognorm 参数：lnx~N(mu,sigma**2)对应s=sigma,loc=0,scale=exp(mu)\n",
    "x = np.linspace(0,5,100)\n",
    "y = lognormal.pdf(x)\n",
    "plt.plot(x,y)\n",
    "plt.xlim(0,5); plt.ylim(0)\n",
    "plt.title('Lognormal Distribution(PDF)')"
   ]
  },
  {
   "cell_type": "code",
   "execution_count": null,
   "metadata": {
    "scrolled": true
   },
   "outputs": [],
   "source": [
    "# 累积分布函数\n",
    "y = lognormal.cdf(x)\n",
    "plt.plot(x,y)\n",
    "plt.xlim(0,5); plt.ylim(0,1)\n",
    "plt.title('Lognormal Distribution(CDF)')"
   ]
  },
  {
   "cell_type": "code",
   "execution_count": null,
   "metadata": {},
   "outputs": [],
   "source": [
    "# 期望和方差\n",
    "lognormal.mean(), lognormal.var()"
   ]
  },
  {
   "cell_type": "markdown",
   "metadata": {},
   "source": [
    "### 2.5 收益率和价格的分布"
   ]
  },
  {
   "cell_type": "code",
   "execution_count": null,
   "metadata": {},
   "outputs": [],
   "source": [
    "import seaborn as sns\n",
    "import tushare as ts\n",
    "pro = ts.pro_api()"
   ]
  },
  {
   "cell_type": "code",
   "execution_count": null,
   "metadata": {},
   "outputs": [],
   "source": [
    "df = pro.daily(ts_code='000001.SZ', start_date='20160101', end_date='20190101')\n",
    "df.head()"
   ]
  },
  {
   "cell_type": "code",
   "execution_count": null,
   "metadata": {},
   "outputs": [],
   "source": [
    "# 收益率和价格数据\n",
    "returns = df['pct_chg']/100\n",
    "prices = df['close']"
   ]
  },
  {
   "cell_type": "code",
   "execution_count": null,
   "metadata": {
    "scrolled": false
   },
   "outputs": [],
   "source": [
    "# 收益率频率分布直方图\n",
    "plt.hist(returns, bins=50, density=1)"
   ]
  },
  {
   "cell_type": "code",
   "execution_count": null,
   "metadata": {},
   "outputs": [],
   "source": [
    "# 使用正态分布对收益率分布进行拟合\n",
    "mu, sigma = scs.norm.fit(returns)\n",
    "mu, sigma"
   ]
  },
  {
   "cell_type": "code",
   "execution_count": null,
   "metadata": {},
   "outputs": [],
   "source": [
    "# 正态分布拟合直方图\n",
    "plt.hist(returns, bins=50, density=1)\n",
    "x = np.linspace(returns.min(), returns.max(), 100)\n",
    "plt.plot(x, scs.norm.pdf(x, loc=mu, scale=sigma))\n",
    "plt.xlim(x.min(),x.max())\n",
    "plt.title('Distribution of Returns')"
   ]
  },
  {
   "cell_type": "code",
   "execution_count": null,
   "metadata": {},
   "outputs": [],
   "source": [
    "# 价格频率分布直方图\n",
    "plt.hist(prices, density=1, bins=50)"
   ]
  },
  {
   "cell_type": "code",
   "execution_count": null,
   "metadata": {},
   "outputs": [],
   "source": [
    "# 使用对数正态分布对价格分布进行拟合\n",
    "s, loc, scale = scs.lognorm.fit(prices)\n",
    "s, loc, scale"
   ]
  },
  {
   "cell_type": "code",
   "execution_count": null,
   "metadata": {
    "scrolled": true
   },
   "outputs": [],
   "source": [
    "# 对数正态分布拟合直方图\n",
    "plt.hist(prices, bins=50, density=1)\n",
    "x = np.linspace(prices.min(), prices.max(), 100)\n",
    "plt.plot(x, scs.lognorm.pdf(x, s=s, loc=loc, scale=scale))\n",
    "plt.xlim(x.min(),x.max())\n",
    "plt.title('Distribution of Prices')"
   ]
  },
  {
   "cell_type": "markdown",
   "metadata": {},
   "source": [
    "## 3. 抽样分布\n",
    "---"
   ]
  },
  {
   "cell_type": "markdown",
   "metadata": {},
   "source": [
    "### 3.1 卡方分布"
   ]
  },
  {
   "cell_type": "code",
   "execution_count": null,
   "metadata": {},
   "outputs": [],
   "source": [
    "x = np.linspace(0,50,100)\n",
    "plt.plot(x, scs.chi2.pdf(x, df=10), label='df=10')\n",
    "plt.plot(x, scs.chi2.pdf(x, df=20), label='df=20')\n",
    "plt.plot(x, scs.chi2.pdf(x, df=30), label='df=30')\n",
    "plt.xlim(0,50); plt.ylim(0)\n",
    "plt.legend(); plt.title('Chi2 Distribution(PDF)')"
   ]
  },
  {
   "cell_type": "markdown",
   "metadata": {},
   "source": [
    "### 3.2 t 分布"
   ]
  },
  {
   "cell_type": "code",
   "execution_count": null,
   "metadata": {},
   "outputs": [],
   "source": [
    "x = np.linspace(-3,3,100)\n",
    "plt.plot(x, scs.t.pdf(x, df=1), label='df=1')\n",
    "plt.plot(x, scs.t.pdf(x, df=5), label='df=5')\n",
    "plt.plot(x, scs.t.pdf(x, df=30), label='df=30')\n",
    "plt.xlim(-3,3); plt.ylim(0)\n",
    "plt.legend(); plt.title('t Distribution(PDF)')"
   ]
  },
  {
   "cell_type": "markdown",
   "metadata": {},
   "source": [
    "### 3.3 F 分布"
   ]
  },
  {
   "cell_type": "code",
   "execution_count": null,
   "metadata": {
    "scrolled": false
   },
   "outputs": [],
   "source": [
    "x = np.linspace(0,3,100)\n",
    "plt.plot(x, scs.f.pdf(x, dfn=3, dfd=9), label='df1=3, df2=9')\n",
    "plt.plot(x, scs.f.pdf(x, dfn=9, dfd=3), label='df1=9, df2=3')\n",
    "plt.plot(x, scs.f.pdf(x, dfn=30, dfd=30), label='df1=30, df2=30')\n",
    "plt.xlim(0,3); plt.ylim(0)\n",
    "plt.legend(); plt.title('F Distribution(PDF)')"
   ]
  },
  {
   "cell_type": "markdown",
   "metadata": {},
   "source": [
    "声明：本资料仅限内部研究和交流使用，切勿外传。"
   ]
  }
 ],
 "metadata": {
  "kernelspec": {
   "display_name": "Python 3",
   "language": "python",
   "name": "python3"
  },
  "language_info": {
   "codemirror_mode": {
    "name": "ipython",
    "version": 3
   },
   "file_extension": ".py",
   "mimetype": "text/x-python",
   "name": "python",
   "nbconvert_exporter": "python",
   "pygments_lexer": "ipython3",
   "version": "3.7.6"
  },
  "toc": {
   "nav_menu": {},
   "number_sections": false,
   "sideBar": true,
   "skip_h1_title": true,
   "toc_cell": false,
   "toc_position": {},
   "toc_section_display": "block",
   "toc_window_display": false
  }
 },
 "nbformat": 4,
 "nbformat_minor": 2
}
