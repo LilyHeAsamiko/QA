{
 "cells": [
  {
   "cell_type": "code",
   "execution_count": null,
   "metadata": {},
   "outputs": [],
   "source": [
    "import numpy as np\n",
    "import pandas as pd\n",
    "import matplotlib.pyplot as plt"
   ]
  },
  {
   "cell_type": "markdown",
   "metadata": {},
   "source": [
    "# 相关系数\n",
    "---"
   ]
  },
  {
   "cell_type": "code",
   "execution_count": null,
   "metadata": {},
   "outputs": [],
   "source": [
    "# 完全线性正相关\n",
    "x = np.linspace(0,1,20)\n",
    "y = x\n",
    "plt.scatter(x,y)\n",
    "plt.title('r=1')"
   ]
  },
  {
   "cell_type": "code",
   "execution_count": null,
   "metadata": {},
   "outputs": [],
   "source": [
    "# 完全线性负相关\n",
    "x = np.linspace(0,1,20)\n",
    "y = -x\n",
    "plt.scatter(x,y)\n",
    "plt.title('r=-1')"
   ]
  },
  {
   "cell_type": "code",
   "execution_count": null,
   "metadata": {},
   "outputs": [],
   "source": [
    "# 线性正相关\n",
    "x = np.linspace(0,1,30)\n",
    "y = []\n",
    "for x_i in x:\n",
    "    y.append(x_i + np.random.rand())\n",
    "plt.scatter(x,y)\n",
    "plt.title(f'r={round(pd.Series(x).corr(pd.Series(y)),2)}')"
   ]
  },
  {
   "cell_type": "code",
   "execution_count": null,
   "metadata": {
    "scrolled": true
   },
   "outputs": [],
   "source": [
    "# 线性负相关\n",
    "x = np.linspace(0,1,30)\n",
    "y = []\n",
    "for x_i in x:\n",
    "    y.append(-x_i + np.random.rand())\n",
    "plt.scatter(x,y)\n",
    "plt.title(f'r={round(pd.Series(x).corr(pd.Series(y)),2)}')"
   ]
  },
  {
   "cell_type": "code",
   "execution_count": null,
   "metadata": {},
   "outputs": [],
   "source": [
    "# 线性不相关\n",
    "x = np.linspace(-2,0,101)\n",
    "y = np.sqrt(1-(x+1)**2)\n",
    "plt.scatter(x,y)\n",
    "plt.title('r=0')"
   ]
  },
  {
   "cell_type": "code",
   "execution_count": null,
   "metadata": {},
   "outputs": [],
   "source": [
    "pd.Series(x).corr(pd.Series(y))"
   ]
  },
  {
   "cell_type": "code",
   "execution_count": null,
   "metadata": {},
   "outputs": [],
   "source": [
    "# 线性不相关\n",
    "x = np.random.rand(100)\n",
    "y = np.random.rand(100)\n",
    "plt.scatter(x,y)\n",
    "plt.title('r=0')"
   ]
  },
  {
   "cell_type": "markdown",
   "metadata": {},
   "source": [
    "声明：本资料仅限内部研究和交流使用，切勿外传。"
   ]
  }
 ],
 "metadata": {
  "kernelspec": {
   "display_name": "Python 3",
   "language": "python",
   "name": "python3"
  },
  "language_info": {
   "codemirror_mode": {
    "name": "ipython",
    "version": 3
   },
   "file_extension": ".py",
   "mimetype": "text/x-python",
   "name": "python",
   "nbconvert_exporter": "python",
   "pygments_lexer": "ipython3",
   "version": "3.7.6"
  },
  "toc": {
   "nav_menu": {},
   "number_sections": false,
   "sideBar": true,
   "skip_h1_title": true,
   "toc_cell": false,
   "toc_position": {},
   "toc_section_display": "block",
   "toc_window_display": false
  }
 },
 "nbformat": 4,
 "nbformat_minor": 2
}
