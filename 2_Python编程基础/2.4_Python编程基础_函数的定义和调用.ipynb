{
 "cells": [
  {
   "cell_type": "markdown",
   "metadata": {},
   "source": [
    "# Python 编程基础 - 函数\n",
    "---"
   ]
  },
  {
   "cell_type": "markdown",
   "metadata": {},
   "source": [
    "#### 课程内容\n",
    "\n",
    "1. 函数定义\n",
    "2. 函数调用\n",
    "3. 函数参数\n",
    "4. 匿名函数"
   ]
  },
  {
   "cell_type": "markdown",
   "metadata": {},
   "source": [
    "---\n",
    "### 1. 函数定义"
   ]
  },
  {
   "cell_type": "markdown",
   "metadata": {},
   "source": [
    "函数可以将需要重复使用的代码块打包，在之后需要使用的时候调用，从而避免重复代码块。\n",
    "\n",
    "Python 有非常多内置函数，如 `print()`，但你也可以自己创建函数，即用户自定义函数。"
   ]
  },
  {
   "cell_type": "markdown",
   "metadata": {},
   "source": [
    "函数定义的基本形式：\n",
    "\n",
    "`def func(args):`\n",
    "\n",
    "&ensp;&ensp;&ensp;&ensp;`statements`"
   ]
  },
  {
   "cell_type": "code",
   "execution_count": null,
   "metadata": {},
   "outputs": [],
   "source": [
    "def hello():                       # 最简单的函数，没有参数，没有返回值\n",
    "    print('Hello World')"
   ]
  },
  {
   "cell_type": "code",
   "execution_count": null,
   "metadata": {},
   "outputs": [],
   "source": [
    "hello()                            # 调用函数"
   ]
  },
  {
   "cell_type": "code",
   "execution_count": null,
   "metadata": {},
   "outputs": [],
   "source": [
    "def news(message):                 # 函数参数\n",
    "    print(message)"
   ]
  },
  {
   "cell_type": "code",
   "execution_count": null,
   "metadata": {
    "scrolled": true
   },
   "outputs": [],
   "source": [
    "news('今日上证指数为 3000')         # 调用时需要参数传递"
   ]
  },
  {
   "cell_type": "markdown",
   "metadata": {},
   "source": [
    "函数返回值用 `return`，否则函数无返回值，或返回值为 None"
   ]
  },
  {
   "cell_type": "code",
   "execution_count": null,
   "metadata": {},
   "outputs": [],
   "source": [
    "def area(width, height):           # 有参数，有返回值，返回值用 return\n",
    "    return width * height"
   ]
  },
  {
   "cell_type": "code",
   "execution_count": null,
   "metadata": {
    "scrolled": true
   },
   "outputs": [],
   "source": [
    "area(4,5)"
   ]
  },
  {
   "cell_type": "markdown",
   "metadata": {},
   "source": [
    "注意 `return` 和 `print()` 的区别：`return` 可以将函数里面的值传到函数外并加以使用，`print()` 则只是简单的打印"
   ]
  },
  {
   "cell_type": "code",
   "execution_count": null,
   "metadata": {},
   "outputs": [],
   "source": [
    "a = news('今日上证指数为 3000')"
   ]
  },
  {
   "cell_type": "code",
   "execution_count": null,
   "metadata": {},
   "outputs": [],
   "source": [
    "type(a)"
   ]
  },
  {
   "cell_type": "code",
   "execution_count": null,
   "metadata": {},
   "outputs": [],
   "source": [
    "b = area(4,5)"
   ]
  },
  {
   "cell_type": "code",
   "execution_count": null,
   "metadata": {
    "scrolled": false
   },
   "outputs": [],
   "source": [
    "b"
   ]
  },
  {
   "cell_type": "markdown",
   "metadata": {},
   "source": [
    "可以使用 pass 进行占位，此时函数什么都不做。"
   ]
  },
  {
   "cell_type": "code",
   "execution_count": null,
   "metadata": {},
   "outputs": [],
   "source": [
    "def get_data():                  \n",
    "    pass"
   ]
  },
  {
   "cell_type": "code",
   "execution_count": null,
   "metadata": {},
   "outputs": [],
   "source": [
    "get_data()"
   ]
  },
  {
   "cell_type": "markdown",
   "metadata": {},
   "source": [
    "---\n",
    "### 2. 函数调用"
   ]
  },
  {
   "cell_type": "markdown",
   "metadata": {},
   "source": [
    "函数定义：给了函数一个名称，指定了函数里包含的参数，和代码块结构。\n",
    "\n",
    "函数调用：这个函数的基本结构完成以后，你可以通过函数调用执行。\n",
    "\n",
    "函数调用的基本形式：`函数名(参数传递)`"
   ]
  },
  {
   "cell_type": "markdown",
   "metadata": {},
   "source": [
    "#### 例：自定义函数 - 测试参数类型"
   ]
  },
  {
   "cell_type": "code",
   "execution_count": null,
   "metadata": {},
   "outputs": [],
   "source": [
    "def test_type(shares):\n",
    "    if type(shares) != int:                                    # 如果股数不是一个整数\n",
    "        raise TypeError(\"输入类型错误，股数应该为整数\")        # 主动引发错误\n",
    "    else:\n",
    "        print(\"输入类型正确，可以进行后续计算\")"
   ]
  },
  {
   "cell_type": "code",
   "execution_count": null,
   "metadata": {},
   "outputs": [],
   "source": [
    "test_type(1000)"
   ]
  },
  {
   "cell_type": "code",
   "execution_count": null,
   "metadata": {
    "scrolled": true
   },
   "outputs": [],
   "source": [
    "test_type('python')"
   ]
  },
  {
   "cell_type": "code",
   "execution_count": null,
   "metadata": {
    "scrolled": true
   },
   "outputs": [],
   "source": [
    "def test_type(shares):\n",
    "    if isinstance(shares, int):                              \n",
    "        print(\"输入类型正确，可以进行后续计算\")\n",
    "    else:\n",
    "        raise TypeError(\"输入类型错误，股数应该为整数\")    "
   ]
  },
  {
   "cell_type": "code",
   "execution_count": null,
   "metadata": {},
   "outputs": [],
   "source": [
    "test_type(1000.5)"
   ]
  },
  {
   "cell_type": "code",
   "execution_count": null,
   "metadata": {
    "scrolled": true
   },
   "outputs": [],
   "source": [
    "isinstance(100, int)"
   ]
  },
  {
   "cell_type": "markdown",
   "metadata": {},
   "source": [
    "#### 例：自定义函数 - 检查股票类型"
   ]
  },
  {
   "cell_type": "code",
   "execution_count": null,
   "metadata": {},
   "outputs": [],
   "source": [
    "def test_type(market_value):\n",
    "    if type(market_value) == float or type(market_value) == int:\n",
    "        if market_value > 1000: \n",
    "            print(\"这是大盘股\")\n",
    "        else:\n",
    "            print(\"这是小盘股\")\n",
    "    else:\n",
    "        raise TypeError(\"输入类型错误\")"
   ]
  },
  {
   "cell_type": "code",
   "execution_count": null,
   "metadata": {},
   "outputs": [],
   "source": [
    "test_type(6028.12)"
   ]
  },
  {
   "cell_type": "markdown",
   "metadata": {},
   "source": [
    "---\n",
    "### 3. 函数参数"
   ]
  },
  {
   "cell_type": "markdown",
   "metadata": {},
   "source": [
    "#### 3.1 必选参数"
   ]
  },
  {
   "cell_type": "markdown",
   "metadata": {},
   "source": [
    "必选参数在函数调用时必须传递参数的值。"
   ]
  },
  {
   "cell_type": "code",
   "execution_count": null,
   "metadata": {},
   "outputs": [],
   "source": [
    "def calculate_signal(close, pre_close):\n",
    "    \n",
    "    print('今日收盘价为 ', close)\n",
    "    print('昨日收盘价为 ', pre_close)\n",
    "    \n",
    "    signal = close > pre_close\n",
    "    return signal"
   ]
  },
  {
   "cell_type": "code",
   "execution_count": null,
   "metadata": {},
   "outputs": [],
   "source": [
    "calculate_signal(5.5, 5)          # 调用函数时，传入参数的值"
   ]
  },
  {
   "cell_type": "code",
   "execution_count": null,
   "metadata": {},
   "outputs": [],
   "source": [
    "# calculate_signal()           # 报错，必选参数数量需要保持一致"
   ]
  },
  {
   "cell_type": "markdown",
   "metadata": {},
   "source": [
    "#### 3.2 关键字参数"
   ]
  },
  {
   "cell_type": "markdown",
   "metadata": {},
   "source": [
    "使用关键字参数允许函数调用时参数的顺序与声明时不一致，因为 Python 解释器能够用参数名匹配参数值。"
   ]
  },
  {
   "cell_type": "code",
   "execution_count": null,
   "metadata": {},
   "outputs": [],
   "source": [
    "calculate_signal(5, 5.5)                        # 使用位置参数，则按照位置对应参数的值"
   ]
  },
  {
   "cell_type": "code",
   "execution_count": null,
   "metadata": {},
   "outputs": [],
   "source": [
    "calculate_signal(pre_close=5, close=5.5)        # 使用关键字参数可以调换顺序，但是数量仍需一致"
   ]
  },
  {
   "cell_type": "code",
   "execution_count": null,
   "metadata": {},
   "outputs": [],
   "source": [
    "# calculate_signal(pre_close=5)                 # 报错，因为必选参数数量需要一致"
   ]
  },
  {
   "cell_type": "code",
   "execution_count": null,
   "metadata": {},
   "outputs": [],
   "source": [
    "# calculate_signal(5.5,close=5 )                # 报错，位置参数必须在关键字参数之前    "
   ]
  },
  {
   "cell_type": "code",
   "execution_count": null,
   "metadata": {},
   "outputs": [],
   "source": [
    "# calculate_signal(5, close=5.5)                # 报错，因为第一个值已经传递给第一个参数 close"
   ]
  },
  {
   "cell_type": "code",
   "execution_count": null,
   "metadata": {},
   "outputs": [],
   "source": [
    "# calculate_signal(5, pre_close=5.5)              # 在实际编程中，尽量使用关键字参数，提高代码可读性"
   ]
  },
  {
   "cell_type": "markdown",
   "metadata": {},
   "source": [
    "#### 3.3 默认参数"
   ]
  },
  {
   "cell_type": "markdown",
   "metadata": {},
   "source": [
    "在定义函数时，可以给参数指定默认值。注意默认参数必须在必选参数之后。\n",
    "\n",
    "调用函数时，如果没有传递默认参数的值，则会使用默认值。"
   ]
  },
  {
   "cell_type": "code",
   "execution_count": null,
   "metadata": {},
   "outputs": [],
   "source": [
    "def calculate_signal(close, pre_close=5):        # pre_close 参数默认值为 5，在没有参数传入的情况下，它的值就默认等于 5\n",
    "    \n",
    "    print('今日收盘价为 ', close)\n",
    "    print('昨日收盘价为 ', pre_close)\n",
    "    \n",
    "    signal = close > pre_close\n",
    "    return signal"
   ]
  },
  {
   "cell_type": "code",
   "execution_count": null,
   "metadata": {
    "scrolled": true
   },
   "outputs": [],
   "source": [
    "calculate_signal(5.5)                           # 默认参数没有传递值时，使用默认值"
   ]
  },
  {
   "cell_type": "code",
   "execution_count": null,
   "metadata": {},
   "outputs": [],
   "source": [
    "calculate_signal(5.5, 6)                        # 也可以重新赋值覆盖默认值"
   ]
  },
  {
   "cell_type": "code",
   "execution_count": null,
   "metadata": {},
   "outputs": [],
   "source": [
    "def calculate_signal(close=12, pre_close=10):   # 定义函数时，可以全部为默认参数\n",
    "   \n",
    "    print('今日收盘价为 ', close)\n",
    "    print('昨日收盘价为 ', pre_close)\n",
    "    \n",
    "    signal = close > pre_close\n",
    "    return signal"
   ]
  },
  {
   "cell_type": "code",
   "execution_count": null,
   "metadata": {
    "scrolled": false
   },
   "outputs": [],
   "source": [
    "calculate_signal()"
   ]
  },
  {
   "cell_type": "code",
   "execution_count": null,
   "metadata": {},
   "outputs": [],
   "source": [
    "calculate_signal(8)                            # 调用函数时，可以使用位置参数覆盖原默认值"
   ]
  },
  {
   "cell_type": "code",
   "execution_count": null,
   "metadata": {},
   "outputs": [],
   "source": [
    "calculate_signal(pre_close=8)                  # 调用函数时，也可以使用关键字指明要覆盖的默认参数的值"
   ]
  },
  {
   "cell_type": "markdown",
   "metadata": {},
   "source": [
    "#### 3.4 不定长参数"
   ]
  },
  {
   "cell_type": "markdown",
   "metadata": {},
   "source": [
    "定义函数时，参数的数量无法确认，可以使用不定长参数。"
   ]
  },
  {
   "cell_type": "markdown",
   "metadata": {},
   "source": [
    "#### *args"
   ]
  },
  {
   "cell_type": "markdown",
   "metadata": {},
   "source": [
    "加了星号 `*` 的参数会以元组（tuple）的形式导入，存放所有未命名的变量参数。"
   ]
  },
  {
   "cell_type": "code",
   "execution_count": null,
   "metadata": {},
   "outputs": [],
   "source": [
    "def blog_posts(*args):\n",
    "    for post in args:\n",
    "        print(post)"
   ]
  },
  {
   "cell_type": "code",
   "execution_count": null,
   "metadata": {},
   "outputs": [],
   "source": [
    "blog_1 = 'I am so awesome.'\n",
    "blog_2 = 'Cars are cool.'\n",
    "blog_3 = 'Aww look at my cat.'"
   ]
  },
  {
   "cell_type": "code",
   "execution_count": null,
   "metadata": {
    "scrolled": true
   },
   "outputs": [],
   "source": [
    "blog_posts(blog_1, blog_2, blog_3)"
   ]
  },
  {
   "cell_type": "code",
   "execution_count": null,
   "metadata": {},
   "outputs": [],
   "source": [
    "def blog_posts(*args):\n",
    "    print(type(args))       # 元组"
   ]
  },
  {
   "cell_type": "code",
   "execution_count": null,
   "metadata": {},
   "outputs": [],
   "source": [
    "blog_posts(blog_1, blog_2, blog_3)"
   ]
  },
  {
   "cell_type": "markdown",
   "metadata": {},
   "source": [
    "不定长参数可以和其他参数结合在一起使用。"
   ]
  },
  {
   "cell_type": "code",
   "execution_count": null,
   "metadata": {},
   "outputs": [],
   "source": [
    "def blog_posts_2(message, *args):                         # 不定长参数和必选参数结合，必选参数在前\n",
    "    print(message)\n",
    "    for post in args:\n",
    "        print(post)"
   ]
  },
  {
   "cell_type": "code",
   "execution_count": null,
   "metadata": {},
   "outputs": [],
   "source": [
    "blog_posts_2('My blogs:')"
   ]
  },
  {
   "cell_type": "code",
   "execution_count": null,
   "metadata": {},
   "outputs": [],
   "source": [
    "def blog_posts_2(message='My blogs:', *args):             # 不定长参数和默认参数结合\n",
    "    print(message)\n",
    "    for post in args:\n",
    "        print(post)"
   ]
  },
  {
   "cell_type": "code",
   "execution_count": null,
   "metadata": {},
   "outputs": [],
   "source": [
    "blog_posts_2(blog_1, blog_2, blog_3)                      # 如果默认参数在 *arg 之前，则调用函数时传递的参数会覆盖默认值"
   ]
  },
  {
   "cell_type": "code",
   "execution_count": null,
   "metadata": {},
   "outputs": [],
   "source": [
    "blog_posts_2('My blogs:', blog_1, blog_2, blog_3)         # 需要传递默认参数的值，注意此时默认参数传值不要使用关键字参数"
   ]
  },
  {
   "cell_type": "code",
   "execution_count": null,
   "metadata": {},
   "outputs": [],
   "source": [
    "def blog_posts_2(*args, message='My blogs:'):             # 不定长参数和默认参数结合\n",
    "    print(message)\n",
    "    for post in args:\n",
    "        print(post)"
   ]
  },
  {
   "cell_type": "code",
   "execution_count": null,
   "metadata": {},
   "outputs": [],
   "source": [
    "blog_posts_2(blog_1, blog_2, blog_3)                      # 如果默认参数在 *arg 之后，则调用函数时传递的参数不会覆盖默认值"
   ]
  },
  {
   "cell_type": "code",
   "execution_count": null,
   "metadata": {},
   "outputs": [],
   "source": [
    "blog_posts_2(blog_1, blog_2, blog_3, message='Blogs:')    # 此时默认参数传值需要使用关键字参数"
   ]
  },
  {
   "cell_type": "markdown",
   "metadata": {},
   "source": [
    "#### **kwargs"
   ]
  },
  {
   "cell_type": "markdown",
   "metadata": {},
   "source": [
    "加了两个星号 `**` 的参数会以字典（Dictionary）的形式导入，存放多个关键字参数。"
   ]
  },
  {
   "cell_type": "code",
   "execution_count": null,
   "metadata": {},
   "outputs": [],
   "source": [
    "def blog_posts_3(**kwargs):\n",
    "    for title, post in kwargs.items():\n",
    "        print(post)"
   ]
  },
  {
   "cell_type": "code",
   "execution_count": null,
   "metadata": {},
   "outputs": [],
   "source": [
    "blog_posts_3(blog_1 = 'I am so awesome', blog_2 = 'Cars are cool.', blog_3 = 'Aww look at my cat.')"
   ]
  },
  {
   "cell_type": "code",
   "execution_count": null,
   "metadata": {},
   "outputs": [],
   "source": [
    "def blog_posts_3(**kwargs):\n",
    "    print(type(kwargs))      # 字典"
   ]
  },
  {
   "cell_type": "code",
   "execution_count": null,
   "metadata": {},
   "outputs": [],
   "source": [
    "blog_posts_3(blog_1 = 'I am so awesome', blog_2 = 'Cars are cool.', blog_3 = 'Aww look at my cat.')"
   ]
  },
  {
   "cell_type": "markdown",
   "metadata": {},
   "source": [
    "#### 3.5 参数组合"
   ]
  },
  {
   "cell_type": "markdown",
   "metadata": {},
   "source": [
    "在 Python 中定义函数，参数定义的一般顺序为：必选参数、默认参数、不定长参数 \\*args、不定长参数 \\*\\*kwargs。\n",
    "\n",
    "其中默认参数也可以放在不定长参数 \\*args 之后，但需要在 **kwargs 之前。\n",
    "\n",
    "总结：定义函数时必选参数在默认参数之前；调用函数时位置参数在关键字参数之前。"
   ]
  },
  {
   "cell_type": "code",
   "execution_count": null,
   "metadata": {},
   "outputs": [],
   "source": [
    "def stock_info(code, list_status='L', *news, **infos):                       # 必选参数，默认参数，*args，**kwargs\n",
    "    print('Stock code: ', code)\n",
    "    print('List status: ', list_status)\n",
    "    print('Latest news:')\n",
    "    for i in news:\n",
    "        print(i)\n",
    "    print('Other infomation:')\n",
    "    for key,value in infos.items():\n",
    "        print(key, ': ', value)"
   ]
  },
  {
   "cell_type": "code",
   "execution_count": null,
   "metadata": {},
   "outputs": [],
   "source": [
    "stock_info('000001')                                                         # 只有必选参数是必须要传值的"
   ]
  },
  {
   "cell_type": "code",
   "execution_count": null,
   "metadata": {
    "scrolled": true
   },
   "outputs": [],
   "source": [
    "stock_info('000001','News1','News2','News3',price=100,industry='保险')       # *args会覆盖默认参数的值"
   ]
  },
  {
   "cell_type": "code",
   "execution_count": null,
   "metadata": {},
   "outputs": [],
   "source": [
    "stock_info('000001','L','News1','News2','News3',price=100,industry='保险')   # 此时调用函数时需要传递默认参数的值"
   ]
  },
  {
   "cell_type": "code",
   "execution_count": null,
   "metadata": {},
   "outputs": [],
   "source": [
    "def stock_info(code, *news, list_status='L', **infos):                      # 必选参数，*args，默认参数，**kwargs\n",
    "    print('Stock code: ', code)\n",
    "    print('List status: ', list_status)\n",
    "    print('Latest news:')\n",
    "    for i in news:\n",
    "        print(i)\n",
    "    print('Other infomation:')\n",
    "    for key,value in infos.items():\n",
    "        print(key, ': ', value)"
   ]
  },
  {
   "cell_type": "code",
   "execution_count": null,
   "metadata": {
    "scrolled": true
   },
   "outputs": [],
   "source": [
    "stock_info('000001','News1','News2','News3',price=100,industry='保险')       # 此时默认参数的值不会被*args覆盖"
   ]
  },
  {
   "cell_type": "code",
   "execution_count": null,
   "metadata": {},
   "outputs": [],
   "source": [
    "stock_info('000001','News1','News2','News3',list_status='P',price=100,industry='保险')  # 此时修改默认参数的值需要使用关键字参数"
   ]
  },
  {
   "cell_type": "markdown",
   "metadata": {},
   "source": [
    "---\n",
    "### 4. 匿名函数"
   ]
  },
  {
   "cell_type": "markdown",
   "metadata": {},
   "source": [
    "Python 使用 `lambda` 来创建匿名函数。\n",
    "\n",
    "所谓匿名，意即不再使用 `def` 语句这样标准的形式定义一个函数。\n",
    "\n",
    "lambda 的主体是一个表达式，而不是一个代码块。仅仅能在 lambda 表达式中封装有限的逻辑进去。"
   ]
  },
  {
   "cell_type": "code",
   "execution_count": null,
   "metadata": {},
   "outputs": [],
   "source": [
    "lambda x:x**2"
   ]
  },
  {
   "cell_type": "code",
   "execution_count": null,
   "metadata": {},
   "outputs": [],
   "source": [
    "lambda x,y:x+y           # 匿名函数可以有多个参数"
   ]
  },
  {
   "cell_type": "code",
   "execution_count": null,
   "metadata": {},
   "outputs": [],
   "source": [
    "lambda x,y=1:x+y         # 匿名函数可以使用默认参数"
   ]
  },
  {
   "cell_type": "code",
   "execution_count": null,
   "metadata": {},
   "outputs": [],
   "source": [
    "lambda :1                # 匿名函数可以没有参数"
   ]
  },
  {
   "cell_type": "code",
   "execution_count": null,
   "metadata": {},
   "outputs": [],
   "source": [
    "lambda :None"
   ]
  },
  {
   "cell_type": "code",
   "execution_count": null,
   "metadata": {},
   "outputs": [],
   "source": [
    "lambda *args: sum(args)"
   ]
  },
  {
   "cell_type": "code",
   "execution_count": null,
   "metadata": {
    "scrolled": true
   },
   "outputs": [],
   "source": [
    "# lambda x+y:x,y          # 匿名函数参数不可以是表达式"
   ]
  },
  {
   "cell_type": "markdown",
   "metadata": {},
   "source": [
    "匿名函数可以赋值给变量进行调用"
   ]
  },
  {
   "cell_type": "code",
   "execution_count": null,
   "metadata": {
    "scrolled": false
   },
   "outputs": [],
   "source": [
    "add = lambda x, y: x + y\n",
    "add(1, 2)"
   ]
  },
  {
   "cell_type": "code",
   "execution_count": null,
   "metadata": {
    "scrolled": true
   },
   "outputs": [],
   "source": [
    "area = lambda x, y: x ** y\n",
    "area(3,3)"
   ]
  },
  {
   "cell_type": "code",
   "execution_count": null,
   "metadata": {
    "scrolled": true
   },
   "outputs": [],
   "source": [
    "square = lambda x: x ** 2\n",
    "square(9)"
   ]
  },
  {
   "cell_type": "markdown",
   "metadata": {},
   "source": [
    "匿名函数经常与其他函数结合使用"
   ]
  },
  {
   "cell_type": "code",
   "execution_count": null,
   "metadata": {},
   "outputs": [],
   "source": [
    "students = [('john', 15), ('jane', 12), ('dave', 20)]"
   ]
  },
  {
   "cell_type": "code",
   "execution_count": null,
   "metadata": {},
   "outputs": [],
   "source": [
    "sorted(students) "
   ]
  },
  {
   "cell_type": "code",
   "execution_count": null,
   "metadata": {},
   "outputs": [],
   "source": [
    "sorted(students, key=lambda s: s[1])            # 按年龄排序"
   ]
  },
  {
   "cell_type": "markdown",
   "metadata": {},
   "source": [
    "声明：本资料仅限内部研究和交流使用，切勿外传。"
   ]
  }
 ],
 "metadata": {
  "anaconda-cloud": {},
  "kernelspec": {
   "display_name": "Python 3",
   "language": "python",
   "name": "python3"
  },
  "language_info": {
   "codemirror_mode": {
    "name": "ipython",
    "version": 3
   },
   "file_extension": ".py",
   "mimetype": "text/x-python",
   "name": "python",
   "nbconvert_exporter": "python",
   "pygments_lexer": "ipython3",
   "version": "3.7.6"
  },
  "toc": {
   "nav_menu": {},
   "number_sections": false,
   "sideBar": true,
   "skip_h1_title": true,
   "toc_cell": false,
   "toc_position": {},
   "toc_section_display": "block",
   "toc_window_display": false
  }
 },
 "nbformat": 4,
 "nbformat_minor": 1
}
